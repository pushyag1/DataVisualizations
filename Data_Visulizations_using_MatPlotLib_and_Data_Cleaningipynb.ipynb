{
  "nbformat": 4,
  "nbformat_minor": 0,
  "metadata": {
    "colab": {
      "name": "Data Visulizations using MatPlotLib and Data Cleaningipynb",
      "provenance": [],
      "collapsed_sections": [],
      "authorship_tag": "ABX9TyM0l5gmvEdgjeDxPSsRt72a",
      "include_colab_link": true
    },
    "kernelspec": {
      "name": "python3",
      "display_name": "Python 3"
    }
  },
  "cells": [
    {
      "cell_type": "markdown",
      "metadata": {
        "id": "view-in-github",
        "colab_type": "text"
      },
      "source": [
        "<a href=\"https://colab.research.google.com/github/pushyag1/DataVisualizations/blob/master/Data_Visulizations_using_MatPlotLib_and_Data_Cleaningipynb.ipynb\" target=\"_parent\"><img src=\"https://colab.research.google.com/assets/colab-badge.svg\" alt=\"Open In Colab\"/></a>"
      ]
    },
    {
      "cell_type": "code",
      "metadata": {
        "id": "SvcHXxrt4YGj",
        "colab_type": "code",
        "colab": {
          "base_uri": "https://localhost:8080/",
          "height": 51
        },
        "outputId": "5a4872c8-01ce-454c-fba8-b6a9305631ed"
      },
      "source": [
        "#Importing Pandas, numpy, chardet, ascii, string, sys, re, csv,pyplot\n",
        "\n",
        "import pandas as pd\n",
        "import numpy as np\n",
        "import chardet\n",
        "import string\n",
        "import sys\n",
        "import re\n",
        "import csv\n",
        "import os\n",
        "from statistics import median\n",
        "from statistics import mean\n",
        "import seaborn as sns\n",
        "import matplotlib.pyplot as plt\n",
        "from matplotlib import pyplot as plt\n",
        "import matplotlib.patches as mpatches\n",
        "from matplotlib import rc\n"
      ],
      "execution_count": 1,
      "outputs": [
        {
          "output_type": "stream",
          "text": [
            "/usr/local/lib/python3.6/dist-packages/statsmodels/tools/_testing.py:19: FutureWarning: pandas.util.testing is deprecated. Use the functions in the public API at pandas.testing instead.\n",
            "  import pandas.util.testing as tm\n"
          ],
          "name": "stderr"
        }
      ]
    },
    {
      "cell_type": "code",
      "metadata": {
        "id": "wL3kLbHw4hNU",
        "colab_type": "code",
        "colab": {
          "base_uri": "https://localhost:8080/",
          "height": 555
        },
        "outputId": "6b99594a-e6e7-4a94-9f25-2a6cf540c51c"
      },
      "source": [
        "path_to_file1 = \"https://docs.google.com/spreadsheets/d/e/2PACX-1vTxATUFm0tR6Vqq-UAOuqQ-BoQDvYYEe-BmJ20s50yBKDHEifGofP2P1LJ4jWFIu0Pb_4kRhQeyhHmn/pub?gid=0&single=true&output=csv\"\n",
        "data1 = pd.read_csv(path_to_file1, encoding = 'UTF-8')\n",
        "data1"
      ],
      "execution_count": 2,
      "outputs": [
        {
          "output_type": "execute_result",
          "data": {
            "text/html": [
              "<div>\n",
              "<style scoped>\n",
              "    .dataframe tbody tr th:only-of-type {\n",
              "        vertical-align: middle;\n",
              "    }\n",
              "\n",
              "    .dataframe tbody tr th {\n",
              "        vertical-align: top;\n",
              "    }\n",
              "\n",
              "    .dataframe thead th {\n",
              "        text-align: right;\n",
              "    }\n",
              "</style>\n",
              "<table border=\"1\" class=\"dataframe\">\n",
              "  <thead>\n",
              "    <tr style=\"text-align: right;\">\n",
              "      <th></th>\n",
              "      <th>adm0_name</th>\n",
              "      <th>iso3</th>\n",
              "      <th>X</th>\n",
              "      <th>Y</th>\n",
              "      <th>published</th>\n",
              "      <th>sources</th>\n",
              "      <th>info</th>\n",
              "      <th>optional1</th>\n",
              "      <th>optional2</th>\n",
              "      <th>optional3</th>\n",
              "      <th>ObjectId</th>\n",
              "    </tr>\n",
              "  </thead>\n",
              "  <tbody>\n",
              "    <tr>\n",
              "      <th>0</th>\n",
              "      <td>Abyei</td>\n",
              "      <td>SDN, SSD</td>\n",
              "      <td>28.415755</td>\n",
              "      <td>9.786952</td>\n",
              "      <td>NaN</td>\n",
              "      <td>NaN</td>\n",
              "      <td>NaN</td>\n",
              "      <td>NaN</td>\n",
              "      <td>NaN</td>\n",
              "      <td>NaN</td>\n",
              "      <td>1</td>\n",
              "    </tr>\n",
              "    <tr>\n",
              "      <th>1</th>\n",
              "      <td>Afghanistan</td>\n",
              "      <td>AFG</td>\n",
              "      <td>66.026881</td>\n",
              "      <td>33.831602</td>\n",
              "      <td>04.08.2020</td>\n",
              "      <td>&lt;a href=\"https://www.gov.uk/foreign-travel-adv...</td>\n",
              "      <td>Latest News:Turkey suspends all flights to Afg...</td>\n",
              "      <td>20200804.0</td>\n",
              "      <td>Self-isolation at own accommodation. \\n\\nPeopl...</td>\n",
              "      <td>COVID-19 negative certification subject to spe...</td>\n",
              "      <td>2</td>\n",
              "    </tr>\n",
              "    <tr>\n",
              "      <th>2</th>\n",
              "      <td>Akrotiri</td>\n",
              "      <td>xUK</td>\n",
              "      <td>32.923365</td>\n",
              "      <td>34.638024</td>\n",
              "      <td>NaN</td>\n",
              "      <td>NaN</td>\n",
              "      <td>NaN</td>\n",
              "      <td>NaN</td>\n",
              "      <td>NaN</td>\n",
              "      <td>NaN</td>\n",
              "      <td>3</td>\n",
              "    </tr>\n",
              "    <tr>\n",
              "      <th>3</th>\n",
              "      <td>Aksai Chin</td>\n",
              "      <td>AKS, CHN</td>\n",
              "      <td>79.132432</td>\n",
              "      <td>35.030488</td>\n",
              "      <td>NaN</td>\n",
              "      <td>NaN</td>\n",
              "      <td>NaN</td>\n",
              "      <td>NaN</td>\n",
              "      <td>NaN</td>\n",
              "      <td>NaN</td>\n",
              "      <td>4</td>\n",
              "    </tr>\n",
              "    <tr>\n",
              "      <th>4</th>\n",
              "      <td>Åland Islands</td>\n",
              "      <td>ALA</td>\n",
              "      <td>19.809460</td>\n",
              "      <td>60.154490</td>\n",
              "      <td>NaN</td>\n",
              "      <td>NaN</td>\n",
              "      <td>NaN</td>\n",
              "      <td>NaN</td>\n",
              "      <td>NaN</td>\n",
              "      <td>NaN</td>\n",
              "      <td>5</td>\n",
              "    </tr>\n",
              "    <tr>\n",
              "      <th>...</th>\n",
              "      <td>...</td>\n",
              "      <td>...</td>\n",
              "      <td>...</td>\n",
              "      <td>...</td>\n",
              "      <td>...</td>\n",
              "      <td>...</td>\n",
              "      <td>...</td>\n",
              "      <td>...</td>\n",
              "      <td>...</td>\n",
              "      <td>...</td>\n",
              "      <td>...</td>\n",
              "    </tr>\n",
              "    <tr>\n",
              "      <th>285</th>\n",
              "      <td>Yemen</td>\n",
              "      <td>YEM</td>\n",
              "      <td>45.226272</td>\n",
              "      <td>15.225552</td>\n",
              "      <td>14.09.2020</td>\n",
              "      <td>UNHAS (source: HC/RC protocol , MoH)\\n &lt;a href...</td>\n",
              "      <td>International Restrictions: \\n All commercial ...</td>\n",
              "      <td>20200914.0</td>\n",
              "      <td>Quarantine requirement at government designate...</td>\n",
              "      <td>COVID-19 negative certification required for e...</td>\n",
              "      <td>286</td>\n",
              "    </tr>\n",
              "    <tr>\n",
              "      <th>286</th>\n",
              "      <td>Zambia</td>\n",
              "      <td>ZMB</td>\n",
              "      <td>27.854152</td>\n",
              "      <td>-14.594525</td>\n",
              "      <td>27.08.2020</td>\n",
              "      <td>&lt;a href=\"https://www.gov.uk/foreign-travel-adv...</td>\n",
              "      <td>International Restrictions:\\n Commercial fligh...</td>\n",
              "      <td>20200827.0</td>\n",
              "      <td>Quarantine requirement at government designate...</td>\n",
              "      <td>COVID-19 negative certification required for e...</td>\n",
              "      <td>287</td>\n",
              "    </tr>\n",
              "    <tr>\n",
              "      <th>287</th>\n",
              "      <td>Zimbabwe</td>\n",
              "      <td>ZWE</td>\n",
              "      <td>29.869096</td>\n",
              "      <td>-19.000755</td>\n",
              "      <td>16.09.2020</td>\n",
              "      <td>&lt;a href=\"https://www.osac.gov/Content/Browse/R...</td>\n",
              "      <td>Latest News: Government lifts ban on inter-cit...</td>\n",
              "      <td>20200916.0</td>\n",
              "      <td>Quarantine requirement at government designate...</td>\n",
              "      <td>COVID-19 negative certification required for e...</td>\n",
              "      <td>288</td>\n",
              "    </tr>\n",
              "    <tr>\n",
              "      <th>288</th>\n",
              "      <td>Kosovo</td>\n",
              "      <td>RKS</td>\n",
              "      <td>20.966191</td>\n",
              "      <td>42.467542</td>\n",
              "      <td>29.07.2020</td>\n",
              "      <td>&lt;a href=\"https://www.gov.uk/foreign-travel-adv...</td>\n",
              "      <td>International Restrictions:\\n Commercial fligh...</td>\n",
              "      <td>20200729.0</td>\n",
              "      <td>No Requirement. \\nThere are no requirements to...</td>\n",
              "      <td>COVID-19 negative certification required for e...</td>\n",
              "      <td>289</td>\n",
              "    </tr>\n",
              "    <tr>\n",
              "      <th>289</th>\n",
              "      <td>European Union</td>\n",
              "      <td>EUR</td>\n",
              "      <td>4.348780</td>\n",
              "      <td>50.850450</td>\n",
              "      <td>08.08.2020</td>\n",
              "      <td>&lt;a href=\"https://reopen.europa.eu/en\"&gt;Re-Open ...</td>\n",
              "      <td>International Restrictions:\\n European Union w...</td>\n",
              "      <td>20200808.0</td>\n",
              "      <td>NaN</td>\n",
              "      <td>NaN</td>\n",
              "      <td>290</td>\n",
              "    </tr>\n",
              "  </tbody>\n",
              "</table>\n",
              "<p>290 rows × 11 columns</p>\n",
              "</div>"
            ],
            "text/plain": [
              "          adm0_name  ... ObjectId\n",
              "0             Abyei  ...        1\n",
              "1       Afghanistan  ...        2\n",
              "2          Akrotiri  ...        3\n",
              "3        Aksai Chin  ...        4\n",
              "4     Åland Islands  ...        5\n",
              "..              ...  ...      ...\n",
              "285           Yemen  ...      286\n",
              "286          Zambia  ...      287\n",
              "287        Zimbabwe  ...      288\n",
              "288          Kosovo  ...      289\n",
              "289  European Union  ...      290\n",
              "\n",
              "[290 rows x 11 columns]"
            ]
          },
          "metadata": {
            "tags": []
          },
          "execution_count": 2
        }
      ]
    },
    {
      "cell_type": "code",
      "metadata": {
        "id": "qZacbLKy5C8z",
        "colab_type": "code",
        "colab": {
          "base_uri": "https://localhost:8080/",
          "height": 419
        },
        "outputId": "20d7951a-1a9b-49f2-b607-6c26de707756"
      },
      "source": [
        "\n",
        "path_to_file2 = \"https://docs.google.com/spreadsheets/d/e/2PACX-1vTxATUFm0tR6Vqq-UAOuqQ-BoQDvYYEe-BmJ20s50yBKDHEifGofP2P1LJ4jWFIu0Pb_4kRhQeyhHmn/pub?gid=646351539&single=true&output=csv\"\n",
        "data2 = pd.read_csv(path_to_file2, encoding = 'UTF-8')\n",
        "data2"
      ],
      "execution_count": 3,
      "outputs": [
        {
          "output_type": "execute_result",
          "data": {
            "text/html": [
              "<div>\n",
              "<style scoped>\n",
              "    .dataframe tbody tr th:only-of-type {\n",
              "        vertical-align: middle;\n",
              "    }\n",
              "\n",
              "    .dataframe tbody tr th {\n",
              "        vertical-align: top;\n",
              "    }\n",
              "\n",
              "    .dataframe thead th {\n",
              "        text-align: right;\n",
              "    }\n",
              "</style>\n",
              "<table border=\"1\" class=\"dataframe\">\n",
              "  <thead>\n",
              "    <tr style=\"text-align: right;\">\n",
              "      <th></th>\n",
              "      <th>adm0_name</th>\n",
              "      <th>iso3</th>\n",
              "      <th>X</th>\n",
              "      <th>Y</th>\n",
              "      <th>published</th>\n",
              "      <th>source</th>\n",
              "      <th>airline</th>\n",
              "      <th>info</th>\n",
              "      <th>optional1</th>\n",
              "      <th>optional2</th>\n",
              "      <th>optional3</th>\n",
              "      <th>ObjectId</th>\n",
              "    </tr>\n",
              "  </thead>\n",
              "  <tbody>\n",
              "    <tr>\n",
              "      <th>0</th>\n",
              "      <td>Cocos (Keeling) Islands</td>\n",
              "      <td>CCK</td>\n",
              "      <td>96.829094</td>\n",
              "      <td>-12.184390</td>\n",
              "      <td>NaN</td>\n",
              "      <td>NaN</td>\n",
              "      <td>NaN</td>\n",
              "      <td>NaN</td>\n",
              "      <td>NaN</td>\n",
              "      <td>NaN</td>\n",
              "      <td>NaN</td>\n",
              "      <td>1</td>\n",
              "    </tr>\n",
              "    <tr>\n",
              "      <th>1</th>\n",
              "      <td>Colombia</td>\n",
              "      <td>COL</td>\n",
              "      <td>-73.079481</td>\n",
              "      <td>3.904939</td>\n",
              "      <td>20.07.2020</td>\n",
              "      <td>https://www.routesonline.com/news/38/airlinero...</td>\n",
              "      <td>Avianca</td>\n",
              "      <td>Avianca Colombia Sep/Oct 2020 International ne...</td>\n",
              "      <td>NaN</td>\n",
              "      <td>NaN</td>\n",
              "      <td>NaN</td>\n",
              "      <td>2</td>\n",
              "    </tr>\n",
              "    <tr>\n",
              "      <th>2</th>\n",
              "      <td>Colombia</td>\n",
              "      <td>COL</td>\n",
              "      <td>-73.079481</td>\n",
              "      <td>3.904939</td>\n",
              "      <td>23.07.2020</td>\n",
              "      <td>https://www.routesonline.com/news/38/airlinero...</td>\n",
              "      <td>Avianca</td>\n",
              "      <td>Avianca Sep/Oct 2020 Colombia International op...</td>\n",
              "      <td>NaN</td>\n",
              "      <td>NaN</td>\n",
              "      <td>NaN</td>\n",
              "      <td>3</td>\n",
              "    </tr>\n",
              "    <tr>\n",
              "      <th>3</th>\n",
              "      <td>Colombia</td>\n",
              "      <td>COL</td>\n",
              "      <td>-73.079481</td>\n",
              "      <td>3.904939</td>\n",
              "      <td>27.07.2020</td>\n",
              "      <td>https://www.routesonline.com/news/38/airlinero...</td>\n",
              "      <td>Avianca</td>\n",
              "      <td>Avianca Central America Aug – Oct 2020 operati...</td>\n",
              "      <td>NaN</td>\n",
              "      <td>NaN</td>\n",
              "      <td>NaN</td>\n",
              "      <td>4</td>\n",
              "    </tr>\n",
              "    <tr>\n",
              "      <th>4</th>\n",
              "      <td>Colombia</td>\n",
              "      <td>COL</td>\n",
              "      <td>-73.079481</td>\n",
              "      <td>3.904939</td>\n",
              "      <td>27.07.2020</td>\n",
              "      <td>https://www.routesonline.com/news/38/airlinero...</td>\n",
              "      <td>Avianca</td>\n",
              "      <td>Avianca revises one-time Shanghai / Tokyo oper...</td>\n",
              "      <td>NaN</td>\n",
              "      <td>NaN</td>\n",
              "      <td>NaN</td>\n",
              "      <td>5</td>\n",
              "    </tr>\n",
              "    <tr>\n",
              "      <th>...</th>\n",
              "      <td>...</td>\n",
              "      <td>...</td>\n",
              "      <td>...</td>\n",
              "      <td>...</td>\n",
              "      <td>...</td>\n",
              "      <td>...</td>\n",
              "      <td>...</td>\n",
              "      <td>...</td>\n",
              "      <td>...</td>\n",
              "      <td>...</td>\n",
              "      <td>...</td>\n",
              "      <td>...</td>\n",
              "    </tr>\n",
              "    <tr>\n",
              "      <th>1148</th>\n",
              "      <td>Western Sahara</td>\n",
              "      <td>ESH</td>\n",
              "      <td>-13.135324</td>\n",
              "      <td>24.662235</td>\n",
              "      <td>NaN</td>\n",
              "      <td>NaN</td>\n",
              "      <td>NaN</td>\n",
              "      <td>NaN</td>\n",
              "      <td>NaN</td>\n",
              "      <td>NaN</td>\n",
              "      <td>NaN</td>\n",
              "      <td>1149</td>\n",
              "    </tr>\n",
              "    <tr>\n",
              "      <th>1149</th>\n",
              "      <td>Yemen</td>\n",
              "      <td>YEM</td>\n",
              "      <td>45.226272</td>\n",
              "      <td>15.225552</td>\n",
              "      <td>NaN</td>\n",
              "      <td>NaN</td>\n",
              "      <td>NaN</td>\n",
              "      <td>NaN</td>\n",
              "      <td>NaN</td>\n",
              "      <td>NaN</td>\n",
              "      <td>NaN</td>\n",
              "      <td>1150</td>\n",
              "    </tr>\n",
              "    <tr>\n",
              "      <th>1150</th>\n",
              "      <td>Zambia</td>\n",
              "      <td>ZMB</td>\n",
              "      <td>27.854152</td>\n",
              "      <td>-14.594525</td>\n",
              "      <td>01.07.2020</td>\n",
              "      <td>https://www.routesonline.com/news/38/airlinero...</td>\n",
              "      <td>ProFlight Zambia</td>\n",
              "      <td>ProFlight Zambia July/August 2020 Interim oper...</td>\n",
              "      <td>NaN</td>\n",
              "      <td>NaN</td>\n",
              "      <td>NaN</td>\n",
              "      <td>1151</td>\n",
              "    </tr>\n",
              "    <tr>\n",
              "      <th>1151</th>\n",
              "      <td>Zambia</td>\n",
              "      <td>ZMB</td>\n",
              "      <td>27.854152</td>\n",
              "      <td>-14.594525</td>\n",
              "      <td>29.07.2020</td>\n",
              "      <td>https://www.routesonline.com/news/38/airlinero...</td>\n",
              "      <td>ProFlight Zambia</td>\n",
              "      <td>ProFlight Zambia 2H20 International network ca...</td>\n",
              "      <td>NaN</td>\n",
              "      <td>NaN</td>\n",
              "      <td>NaN</td>\n",
              "      <td>1152</td>\n",
              "    </tr>\n",
              "    <tr>\n",
              "      <th>1152</th>\n",
              "      <td>Zimbabwe</td>\n",
              "      <td>ZWE</td>\n",
              "      <td>29.869096</td>\n",
              "      <td>-19.000755</td>\n",
              "      <td>16.09.2020</td>\n",
              "      <td>http://www.xinhuanet.com/english/2020-09/16/c_...</td>\n",
              "      <td>Air Zimbabwe</td>\n",
              "      <td>Zimbabwe national airline resumes domestic, re...</td>\n",
              "      <td>NaN</td>\n",
              "      <td>NaN</td>\n",
              "      <td>NaN</td>\n",
              "      <td>1153</td>\n",
              "    </tr>\n",
              "  </tbody>\n",
              "</table>\n",
              "<p>1153 rows × 12 columns</p>\n",
              "</div>"
            ],
            "text/plain": [
              "                    adm0_name iso3          X  ...  optional2 optional3 ObjectId\n",
              "0     Cocos (Keeling) Islands  CCK  96.829094  ...        NaN       NaN        1\n",
              "1                    Colombia  COL -73.079481  ...        NaN       NaN        2\n",
              "2                    Colombia  COL -73.079481  ...        NaN       NaN        3\n",
              "3                    Colombia  COL -73.079481  ...        NaN       NaN        4\n",
              "4                    Colombia  COL -73.079481  ...        NaN       NaN        5\n",
              "...                       ...  ...        ...  ...        ...       ...      ...\n",
              "1148           Western Sahara  ESH -13.135324  ...        NaN       NaN     1149\n",
              "1149                    Yemen  YEM  45.226272  ...        NaN       NaN     1150\n",
              "1150                   Zambia  ZMB  27.854152  ...        NaN       NaN     1151\n",
              "1151                   Zambia  ZMB  27.854152  ...        NaN       NaN     1152\n",
              "1152                 Zimbabwe  ZWE  29.869096  ...        NaN       NaN     1153\n",
              "\n",
              "[1153 rows x 12 columns]"
            ]
          },
          "metadata": {
            "tags": []
          },
          "execution_count": 3
        }
      ]
    },
    {
      "cell_type": "code",
      "metadata": {
        "id": "_as9NyOGK4ZX",
        "colab_type": "code",
        "colab": {}
      },
      "source": [
        "\n",
        "data2=data2.drop(columns=['optional1'])\n",
        "data2=data2.drop(columns=['optional2'])\n",
        "data2=data2.drop(columns=['optional3'])"
      ],
      "execution_count": 4,
      "outputs": []
    },
    {
      "cell_type": "code",
      "metadata": {
        "id": "ItnGCnQnK4lG",
        "colab_type": "code",
        "colab": {
          "base_uri": "https://localhost:8080/",
          "height": 34
        },
        "outputId": "f8b2cdc7-e820-494c-90a9-9628ed706e3a"
      },
      "source": [
        "data1.shape"
      ],
      "execution_count": 5,
      "outputs": [
        {
          "output_type": "execute_result",
          "data": {
            "text/plain": [
              "(290, 11)"
            ]
          },
          "metadata": {
            "tags": []
          },
          "execution_count": 5
        }
      ]
    },
    {
      "cell_type": "code",
      "metadata": {
        "id": "kvjdHZ-nL43J",
        "colab_type": "code",
        "colab": {
          "base_uri": "https://localhost:8080/",
          "height": 34
        },
        "outputId": "a7885028-a82b-488f-eb22-35ae542a0948"
      },
      "source": [
        "data2.shape"
      ],
      "execution_count": 6,
      "outputs": [
        {
          "output_type": "execute_result",
          "data": {
            "text/plain": [
              "(1153, 9)"
            ]
          },
          "metadata": {
            "tags": []
          },
          "execution_count": 6
        }
      ]
    },
    {
      "cell_type": "code",
      "metadata": {
        "id": "Bh_iWsHO5SDq",
        "colab_type": "code",
        "colab": {
          "base_uri": "https://localhost:8080/",
          "height": 68
        },
        "outputId": "190ad376-97ea-4241-ce0c-b957e26c30e4"
      },
      "source": [
        "data1.columns"
      ],
      "execution_count": 7,
      "outputs": [
        {
          "output_type": "execute_result",
          "data": {
            "text/plain": [
              "Index(['adm0_name', 'iso3', 'X', 'Y', 'published', 'sources', 'info',\n",
              "       'optional1', 'optional2', 'optional3', 'ObjectId'],\n",
              "      dtype='object')"
            ]
          },
          "metadata": {
            "tags": []
          },
          "execution_count": 7
        }
      ]
    },
    {
      "cell_type": "code",
      "metadata": {
        "id": "dXLmhhba5T8_",
        "colab_type": "code",
        "colab": {
          "base_uri": "https://localhost:8080/",
          "height": 68
        },
        "outputId": "ba7dbe10-5c37-4d28-9db3-1de52cb0435d"
      },
      "source": [
        "data2.columns"
      ],
      "execution_count": 8,
      "outputs": [
        {
          "output_type": "execute_result",
          "data": {
            "text/plain": [
              "Index(['adm0_name', 'iso3', 'X', 'Y', 'published', 'source', 'airline', 'info',\n",
              "       'ObjectId'],\n",
              "      dtype='object')"
            ]
          },
          "metadata": {
            "tags": []
          },
          "execution_count": 8
        }
      ]
    },
    {
      "cell_type": "code",
      "metadata": {
        "id": "DNqszO7NMNYE",
        "colab_type": "code",
        "colab": {}
      },
      "source": [
        "data1=data1.rename(columns={\"sources\": \"source\"})\n"
      ],
      "execution_count": 9,
      "outputs": []
    },
    {
      "cell_type": "code",
      "metadata": {
        "id": "fcIHiUj7PCoH",
        "colab_type": "code",
        "colab": {
          "base_uri": "https://localhost:8080/",
          "height": 68
        },
        "outputId": "276c13e0-aca9-46b0-d8a9-3db4fbb54fe2"
      },
      "source": [
        "data1.columns"
      ],
      "execution_count": 10,
      "outputs": [
        {
          "output_type": "execute_result",
          "data": {
            "text/plain": [
              "Index(['adm0_name', 'iso3', 'X', 'Y', 'published', 'source', 'info',\n",
              "       'optional1', 'optional2', 'optional3', 'ObjectId'],\n",
              "      dtype='object')"
            ]
          },
          "metadata": {
            "tags": []
          },
          "execution_count": 10
        }
      ]
    },
    {
      "cell_type": "code",
      "metadata": {
        "id": "lcah6eCzSFr6",
        "colab_type": "code",
        "colab": {}
      },
      "source": [
        "data1=data1.rename(columns={\"optional1\": \"Date\"})\n",
        "data1=data1.rename(columns={\"optional2\": \"Quarantine_requirement\"})\n",
        "data1=data1.rename(columns={\"optional3\": \"Certificate_Requirement\"})\n"
      ],
      "execution_count": 11,
      "outputs": []
    },
    {
      "cell_type": "code",
      "metadata": {
        "id": "ocnYv8awXMiv",
        "colab_type": "code",
        "colab": {}
      },
      "source": [
        "data1=data1.rename(columns={\"adm0_name\":\"Country\"})\n",
        "data1=data1.rename(columns={'iso3':\"Country_Code\"})\n",
        "data2=data2.rename(columns={\"adm0_name\":\"Country\"})\n",
        "data2=data2.rename(columns={'iso3':\"Country_Code\"})"
      ],
      "execution_count": 12,
      "outputs": []
    },
    {
      "cell_type": "code",
      "metadata": {
        "id": "JVGTZdD8MzY3",
        "colab_type": "code",
        "colab": {
          "base_uri": "https://localhost:8080/",
          "height": 238
        },
        "outputId": "fc11a5e1-6631-4204-964b-7e1bb6b9f544"
      },
      "source": [
        "data1.head()"
      ],
      "execution_count": 13,
      "outputs": [
        {
          "output_type": "execute_result",
          "data": {
            "text/html": [
              "<div>\n",
              "<style scoped>\n",
              "    .dataframe tbody tr th:only-of-type {\n",
              "        vertical-align: middle;\n",
              "    }\n",
              "\n",
              "    .dataframe tbody tr th {\n",
              "        vertical-align: top;\n",
              "    }\n",
              "\n",
              "    .dataframe thead th {\n",
              "        text-align: right;\n",
              "    }\n",
              "</style>\n",
              "<table border=\"1\" class=\"dataframe\">\n",
              "  <thead>\n",
              "    <tr style=\"text-align: right;\">\n",
              "      <th></th>\n",
              "      <th>Country</th>\n",
              "      <th>Country_Code</th>\n",
              "      <th>X</th>\n",
              "      <th>Y</th>\n",
              "      <th>published</th>\n",
              "      <th>source</th>\n",
              "      <th>info</th>\n",
              "      <th>Date</th>\n",
              "      <th>Quarantine_requirement</th>\n",
              "      <th>Certificate_Requirement</th>\n",
              "      <th>ObjectId</th>\n",
              "    </tr>\n",
              "  </thead>\n",
              "  <tbody>\n",
              "    <tr>\n",
              "      <th>0</th>\n",
              "      <td>Abyei</td>\n",
              "      <td>SDN, SSD</td>\n",
              "      <td>28.415755</td>\n",
              "      <td>9.786952</td>\n",
              "      <td>NaN</td>\n",
              "      <td>NaN</td>\n",
              "      <td>NaN</td>\n",
              "      <td>NaN</td>\n",
              "      <td>NaN</td>\n",
              "      <td>NaN</td>\n",
              "      <td>1</td>\n",
              "    </tr>\n",
              "    <tr>\n",
              "      <th>1</th>\n",
              "      <td>Afghanistan</td>\n",
              "      <td>AFG</td>\n",
              "      <td>66.026881</td>\n",
              "      <td>33.831602</td>\n",
              "      <td>04.08.2020</td>\n",
              "      <td>&lt;a href=\"https://www.gov.uk/foreign-travel-adv...</td>\n",
              "      <td>Latest News:Turkey suspends all flights to Afg...</td>\n",
              "      <td>20200804.0</td>\n",
              "      <td>Self-isolation at own accommodation. \\n\\nPeopl...</td>\n",
              "      <td>COVID-19 negative certification subject to spe...</td>\n",
              "      <td>2</td>\n",
              "    </tr>\n",
              "    <tr>\n",
              "      <th>2</th>\n",
              "      <td>Akrotiri</td>\n",
              "      <td>xUK</td>\n",
              "      <td>32.923365</td>\n",
              "      <td>34.638024</td>\n",
              "      <td>NaN</td>\n",
              "      <td>NaN</td>\n",
              "      <td>NaN</td>\n",
              "      <td>NaN</td>\n",
              "      <td>NaN</td>\n",
              "      <td>NaN</td>\n",
              "      <td>3</td>\n",
              "    </tr>\n",
              "    <tr>\n",
              "      <th>3</th>\n",
              "      <td>Aksai Chin</td>\n",
              "      <td>AKS, CHN</td>\n",
              "      <td>79.132432</td>\n",
              "      <td>35.030488</td>\n",
              "      <td>NaN</td>\n",
              "      <td>NaN</td>\n",
              "      <td>NaN</td>\n",
              "      <td>NaN</td>\n",
              "      <td>NaN</td>\n",
              "      <td>NaN</td>\n",
              "      <td>4</td>\n",
              "    </tr>\n",
              "    <tr>\n",
              "      <th>4</th>\n",
              "      <td>Åland Islands</td>\n",
              "      <td>ALA</td>\n",
              "      <td>19.809460</td>\n",
              "      <td>60.154490</td>\n",
              "      <td>NaN</td>\n",
              "      <td>NaN</td>\n",
              "      <td>NaN</td>\n",
              "      <td>NaN</td>\n",
              "      <td>NaN</td>\n",
              "      <td>NaN</td>\n",
              "      <td>5</td>\n",
              "    </tr>\n",
              "  </tbody>\n",
              "</table>\n",
              "</div>"
            ],
            "text/plain": [
              "         Country  ... ObjectId\n",
              "0          Abyei  ...        1\n",
              "1    Afghanistan  ...        2\n",
              "2       Akrotiri  ...        3\n",
              "3     Aksai Chin  ...        4\n",
              "4  Åland Islands  ...        5\n",
              "\n",
              "[5 rows x 11 columns]"
            ]
          },
          "metadata": {
            "tags": []
          },
          "execution_count": 13
        }
      ]
    },
    {
      "cell_type": "code",
      "metadata": {
        "id": "-m2M_V27JN4Y",
        "colab_type": "code",
        "colab": {
          "base_uri": "https://localhost:8080/",
          "height": 204
        },
        "outputId": "a384b48d-e47b-4ca1-96bf-6b5c39f0e10a"
      },
      "source": [
        "data2.head()"
      ],
      "execution_count": 14,
      "outputs": [
        {
          "output_type": "execute_result",
          "data": {
            "text/html": [
              "<div>\n",
              "<style scoped>\n",
              "    .dataframe tbody tr th:only-of-type {\n",
              "        vertical-align: middle;\n",
              "    }\n",
              "\n",
              "    .dataframe tbody tr th {\n",
              "        vertical-align: top;\n",
              "    }\n",
              "\n",
              "    .dataframe thead th {\n",
              "        text-align: right;\n",
              "    }\n",
              "</style>\n",
              "<table border=\"1\" class=\"dataframe\">\n",
              "  <thead>\n",
              "    <tr style=\"text-align: right;\">\n",
              "      <th></th>\n",
              "      <th>Country</th>\n",
              "      <th>Country_Code</th>\n",
              "      <th>X</th>\n",
              "      <th>Y</th>\n",
              "      <th>published</th>\n",
              "      <th>source</th>\n",
              "      <th>airline</th>\n",
              "      <th>info</th>\n",
              "      <th>ObjectId</th>\n",
              "    </tr>\n",
              "  </thead>\n",
              "  <tbody>\n",
              "    <tr>\n",
              "      <th>0</th>\n",
              "      <td>Cocos (Keeling) Islands</td>\n",
              "      <td>CCK</td>\n",
              "      <td>96.829094</td>\n",
              "      <td>-12.184390</td>\n",
              "      <td>NaN</td>\n",
              "      <td>NaN</td>\n",
              "      <td>NaN</td>\n",
              "      <td>NaN</td>\n",
              "      <td>1</td>\n",
              "    </tr>\n",
              "    <tr>\n",
              "      <th>1</th>\n",
              "      <td>Colombia</td>\n",
              "      <td>COL</td>\n",
              "      <td>-73.079481</td>\n",
              "      <td>3.904939</td>\n",
              "      <td>20.07.2020</td>\n",
              "      <td>https://www.routesonline.com/news/38/airlinero...</td>\n",
              "      <td>Avianca</td>\n",
              "      <td>Avianca Colombia Sep/Oct 2020 International ne...</td>\n",
              "      <td>2</td>\n",
              "    </tr>\n",
              "    <tr>\n",
              "      <th>2</th>\n",
              "      <td>Colombia</td>\n",
              "      <td>COL</td>\n",
              "      <td>-73.079481</td>\n",
              "      <td>3.904939</td>\n",
              "      <td>23.07.2020</td>\n",
              "      <td>https://www.routesonline.com/news/38/airlinero...</td>\n",
              "      <td>Avianca</td>\n",
              "      <td>Avianca Sep/Oct 2020 Colombia International op...</td>\n",
              "      <td>3</td>\n",
              "    </tr>\n",
              "    <tr>\n",
              "      <th>3</th>\n",
              "      <td>Colombia</td>\n",
              "      <td>COL</td>\n",
              "      <td>-73.079481</td>\n",
              "      <td>3.904939</td>\n",
              "      <td>27.07.2020</td>\n",
              "      <td>https://www.routesonline.com/news/38/airlinero...</td>\n",
              "      <td>Avianca</td>\n",
              "      <td>Avianca Central America Aug – Oct 2020 operati...</td>\n",
              "      <td>4</td>\n",
              "    </tr>\n",
              "    <tr>\n",
              "      <th>4</th>\n",
              "      <td>Colombia</td>\n",
              "      <td>COL</td>\n",
              "      <td>-73.079481</td>\n",
              "      <td>3.904939</td>\n",
              "      <td>27.07.2020</td>\n",
              "      <td>https://www.routesonline.com/news/38/airlinero...</td>\n",
              "      <td>Avianca</td>\n",
              "      <td>Avianca revises one-time Shanghai / Tokyo oper...</td>\n",
              "      <td>5</td>\n",
              "    </tr>\n",
              "  </tbody>\n",
              "</table>\n",
              "</div>"
            ],
            "text/plain": [
              "                   Country  ... ObjectId\n",
              "0  Cocos (Keeling) Islands  ...        1\n",
              "1                 Colombia  ...        2\n",
              "2                 Colombia  ...        3\n",
              "3                 Colombia  ...        4\n",
              "4                 Colombia  ...        5\n",
              "\n",
              "[5 rows x 9 columns]"
            ]
          },
          "metadata": {
            "tags": []
          },
          "execution_count": 14
        }
      ]
    },
    {
      "cell_type": "code",
      "metadata": {
        "id": "LQbmzJTOKOce",
        "colab_type": "code",
        "colab": {
          "base_uri": "https://localhost:8080/",
          "height": 221
        },
        "outputId": "67235de4-5cf1-4383-ebe9-1509428d2701"
      },
      "source": [
        "data1.dtypes"
      ],
      "execution_count": 15,
      "outputs": [
        {
          "output_type": "execute_result",
          "data": {
            "text/plain": [
              "Country                     object\n",
              "Country_Code                object\n",
              "X                          float64\n",
              "Y                          float64\n",
              "published                   object\n",
              "source                      object\n",
              "info                        object\n",
              "Date                       float64\n",
              "Quarantine_requirement      object\n",
              "Certificate_Requirement     object\n",
              "ObjectId                     int64\n",
              "dtype: object"
            ]
          },
          "metadata": {
            "tags": []
          },
          "execution_count": 15
        }
      ]
    },
    {
      "cell_type": "code",
      "metadata": {
        "id": "7tTRlA4iKiFs",
        "colab_type": "code",
        "colab": {
          "base_uri": "https://localhost:8080/",
          "height": 761
        },
        "outputId": "eb42f9ba-1e47-4836-db04-8bdce974e917"
      },
      "source": [
        "import missingno as msno\n",
        "msno.matrix(data1.isnull())"
      ],
      "execution_count": 16,
      "outputs": [
        {
          "output_type": "execute_result",
          "data": {
            "text/plain": [
              "<matplotlib.axes._subplots.AxesSubplot at 0x7ff536c1f470>"
            ]
          },
          "metadata": {
            "tags": []
          },
          "execution_count": 16
        },
        {
          "output_type": "display_data",
          "data": {
            "image/png": "[encoded data removed]",
            "text/plain": [
              "<Figure size 1800x720 with 2 Axes>"
            ]
          },
          "metadata": {
            "tags": [],
            "needs_background": "light"
          }
        }
      ]
    },
    {
      "cell_type": "code",
      "metadata": {
        "id": "ohDlqDMuToq9",
        "colab_type": "code",
        "colab": {
          "base_uri": "https://localhost:8080/",
          "height": 701
        },
        "outputId": "2a68a0e6-5c1f-44da-9fdf-7fca203e784d"
      },
      "source": [
        "msno.matrix(data2.isnull())"
      ],
      "execution_count": 17,
      "outputs": [
        {
          "output_type": "execute_result",
          "data": {
            "text/plain": [
              "<matplotlib.axes._subplots.AxesSubplot at 0x7ff533ec81d0>"
            ]
          },
          "metadata": {
            "tags": []
          },
          "execution_count": 17
        },
        {
          "output_type": "display_data",
          "data": {
            "image/png": "[encoded data removed]",
            "text/plain": [
              "<Figure size 1800x720 with 2 Axes>"
            ]
          },
          "metadata": {
            "tags": [],
            "needs_background": "light"
          }
        }
      ]
    },
    {
      "cell_type": "code",
      "metadata": {
        "id": "1Xlg6zLEWDk8",
        "colab_type": "code",
        "colab": {}
      },
      "source": [
        "data1=data1.drop(columns=['ObjectId'])\n",
        "data2=data2.drop(columns=['ObjectId'])"
      ],
      "execution_count": 18,
      "outputs": []
    },
    {
      "cell_type": "code",
      "metadata": {
        "id": "eQTLZ_oXWQvM",
        "colab_type": "code",
        "colab": {}
      },
      "source": [
        "#converting the date column to date time format\n",
        "\n",
        "data1.Date = pd.to_datetime(data1.Date, format='%Y%m%d', errors='ignore')"
      ],
      "execution_count": 19,
      "outputs": []
    },
    {
      "cell_type": "code",
      "metadata": {
        "id": "lqBLjIV4ZxWr",
        "colab_type": "code",
        "colab": {
          "base_uri": "https://localhost:8080/",
          "height": 461
        },
        "outputId": "91e9875f-de92-4e90-bbaf-837f0208d63c"
      },
      "source": [
        "data1.head(10)"
      ],
      "execution_count": 20,
      "outputs": [
        {
          "output_type": "execute_result",
          "data": {
            "text/html": [
              "<div>\n",
              "<style scoped>\n",
              "    .dataframe tbody tr th:only-of-type {\n",
              "        vertical-align: middle;\n",
              "    }\n",
              "\n",
              "    .dataframe tbody tr th {\n",
              "        vertical-align: top;\n",
              "    }\n",
              "\n",
              "    .dataframe thead th {\n",
              "        text-align: right;\n",
              "    }\n",
              "</style>\n",
              "<table border=\"1\" class=\"dataframe\">\n",
              "  <thead>\n",
              "    <tr style=\"text-align: right;\">\n",
              "      <th></th>\n",
              "      <th>Country</th>\n",
              "      <th>Country_Code</th>\n",
              "      <th>X</th>\n",
              "      <th>Y</th>\n",
              "      <th>published</th>\n",
              "      <th>source</th>\n",
              "      <th>info</th>\n",
              "      <th>Date</th>\n",
              "      <th>Quarantine_requirement</th>\n",
              "      <th>Certificate_Requirement</th>\n",
              "    </tr>\n",
              "  </thead>\n",
              "  <tbody>\n",
              "    <tr>\n",
              "      <th>0</th>\n",
              "      <td>Abyei</td>\n",
              "      <td>SDN, SSD</td>\n",
              "      <td>28.415755</td>\n",
              "      <td>9.786952</td>\n",
              "      <td>NaN</td>\n",
              "      <td>NaN</td>\n",
              "      <td>NaN</td>\n",
              "      <td>NaT</td>\n",
              "      <td>NaN</td>\n",
              "      <td>NaN</td>\n",
              "    </tr>\n",
              "    <tr>\n",
              "      <th>1</th>\n",
              "      <td>Afghanistan</td>\n",
              "      <td>AFG</td>\n",
              "      <td>66.026881</td>\n",
              "      <td>33.831602</td>\n",
              "      <td>04.08.2020</td>\n",
              "      <td>&lt;a href=\"https://www.gov.uk/foreign-travel-adv...</td>\n",
              "      <td>Latest News:Turkey suspends all flights to Afg...</td>\n",
              "      <td>2020-08-04</td>\n",
              "      <td>Self-isolation at own accommodation. \\n\\nPeopl...</td>\n",
              "      <td>COVID-19 negative certification subject to spe...</td>\n",
              "    </tr>\n",
              "    <tr>\n",
              "      <th>2</th>\n",
              "      <td>Akrotiri</td>\n",
              "      <td>xUK</td>\n",
              "      <td>32.923365</td>\n",
              "      <td>34.638024</td>\n",
              "      <td>NaN</td>\n",
              "      <td>NaN</td>\n",
              "      <td>NaN</td>\n",
              "      <td>NaT</td>\n",
              "      <td>NaN</td>\n",
              "      <td>NaN</td>\n",
              "    </tr>\n",
              "    <tr>\n",
              "      <th>3</th>\n",
              "      <td>Aksai Chin</td>\n",
              "      <td>AKS, CHN</td>\n",
              "      <td>79.132432</td>\n",
              "      <td>35.030488</td>\n",
              "      <td>NaN</td>\n",
              "      <td>NaN</td>\n",
              "      <td>NaN</td>\n",
              "      <td>NaT</td>\n",
              "      <td>NaN</td>\n",
              "      <td>NaN</td>\n",
              "    </tr>\n",
              "    <tr>\n",
              "      <th>4</th>\n",
              "      <td>Åland Islands</td>\n",
              "      <td>ALA</td>\n",
              "      <td>19.809460</td>\n",
              "      <td>60.154490</td>\n",
              "      <td>NaN</td>\n",
              "      <td>NaN</td>\n",
              "      <td>NaN</td>\n",
              "      <td>NaT</td>\n",
              "      <td>NaN</td>\n",
              "      <td>NaN</td>\n",
              "    </tr>\n",
              "    <tr>\n",
              "      <th>5</th>\n",
              "      <td>Albania</td>\n",
              "      <td>ALB</td>\n",
              "      <td>20.066643</td>\n",
              "      <td>41.138926</td>\n",
              "      <td>29.07.2020</td>\n",
              "      <td>&lt;a href=\"https://www.gov.uk/foreign-travel-adv...</td>\n",
              "      <td>International Restrictions:\\n Commercial airli...</td>\n",
              "      <td>2020-07-29</td>\n",
              "      <td>Quarantine requirement at government designate...</td>\n",
              "      <td>COVID-19 negative certification not required /...</td>\n",
              "    </tr>\n",
              "    <tr>\n",
              "      <th>6</th>\n",
              "      <td>Algeria</td>\n",
              "      <td>DZA</td>\n",
              "      <td>2.678028</td>\n",
              "      <td>28.157361</td>\n",
              "      <td>14.09.2020</td>\n",
              "      <td>&lt;a href=\"https://www.gov.uk/foreign-travel-adv...</td>\n",
              "      <td>International Restrictions: \\n On 28 June the ...</td>\n",
              "      <td>2020-09-14</td>\n",
              "      <td>Quarantine requirement at government designate...</td>\n",
              "      <td>COVID-19 negative certification not required /...</td>\n",
              "    </tr>\n",
              "    <tr>\n",
              "      <th>7</th>\n",
              "      <td>American Samoa</td>\n",
              "      <td>ASM</td>\n",
              "      <td>-170.718060</td>\n",
              "      <td>-14.300686</td>\n",
              "      <td>29.07.2020</td>\n",
              "      <td>&lt;a href=\"https://www.americansamoa.gov/immigra...</td>\n",
              "      <td>International Restrictions:\\n To prevent the s...</td>\n",
              "      <td>2020-07-29</td>\n",
              "      <td>Quarantine Requirement outside territory. \\n\\n...</td>\n",
              "      <td>COVID-19 negative certification required for e...</td>\n",
              "    </tr>\n",
              "    <tr>\n",
              "      <th>8</th>\n",
              "      <td>Andorra</td>\n",
              "      <td>AND</td>\n",
              "      <td>1.576279</td>\n",
              "      <td>42.545479</td>\n",
              "      <td>02.07.2020</td>\n",
              "      <td>&lt;a href=\"https://www.gov.uk/foreign-travel-adv...</td>\n",
              "      <td>International Restrictions: \\n Andorra is a la...</td>\n",
              "      <td>2020-07-02</td>\n",
              "      <td>No requirement.\\n\\n</td>\n",
              "      <td>COVID-19 negative certification not required /...</td>\n",
              "    </tr>\n",
              "    <tr>\n",
              "      <th>9</th>\n",
              "      <td>Angola</td>\n",
              "      <td>AGO</td>\n",
              "      <td>17.577532</td>\n",
              "      <td>-12.337524</td>\n",
              "      <td>04.09.2020</td>\n",
              "      <td>&lt;a href=\"https://www.osac.gov/Content/Browse/R...</td>\n",
              "      <td>Latest News: Domestic and international non-co...</td>\n",
              "      <td>2020-09-04</td>\n",
              "      <td>Quarantine requirement at government designate...</td>\n",
              "      <td>COVID-19 negative certification required for e...</td>\n",
              "    </tr>\n",
              "  </tbody>\n",
              "</table>\n",
              "</div>"
            ],
            "text/plain": [
              "          Country  ...                            Certificate_Requirement\n",
              "0           Abyei  ...                                                NaN\n",
              "1     Afghanistan  ...  COVID-19 negative certification subject to spe...\n",
              "2        Akrotiri  ...                                                NaN\n",
              "3      Aksai Chin  ...                                                NaN\n",
              "4   Åland Islands  ...                                                NaN\n",
              "5         Albania  ...  COVID-19 negative certification not required /...\n",
              "6         Algeria  ...  COVID-19 negative certification not required /...\n",
              "7  American Samoa  ...  COVID-19 negative certification required for e...\n",
              "8         Andorra  ...  COVID-19 negative certification not required /...\n",
              "9          Angola  ...  COVID-19 negative certification required for e...\n",
              "\n",
              "[10 rows x 10 columns]"
            ]
          },
          "metadata": {
            "tags": []
          },
          "execution_count": 20
        }
      ]
    },
    {
      "cell_type": "code",
      "metadata": {
        "id": "KXIPWWcCaBxm",
        "colab_type": "code",
        "colab": {
          "base_uri": "https://localhost:8080/",
          "height": 204
        },
        "outputId": "0e0a19da-486a-4fba-965c-470d453c805a"
      },
      "source": [
        "#checking for any null values present in the data set\n",
        "\n",
        "data1.isnull().sum()"
      ],
      "execution_count": 21,
      "outputs": [
        {
          "output_type": "execute_result",
          "data": {
            "text/plain": [
              "Country                     0\n",
              "Country_Code                0\n",
              "X                           0\n",
              "Y                           0\n",
              "published                  54\n",
              "source                     54\n",
              "info                       54\n",
              "Date                       54\n",
              "Quarantine_requirement     55\n",
              "Certificate_Requirement    58\n",
              "dtype: int64"
            ]
          },
          "metadata": {
            "tags": []
          },
          "execution_count": 21
        }
      ]
    },
    {
      "cell_type": "code",
      "metadata": {
        "id": "1ndBk2TJaWK3",
        "colab_type": "code",
        "colab": {
          "base_uri": "https://localhost:8080/",
          "height": 170
        },
        "outputId": "d8c186e5-c323-47da-8944-dec7472628a2"
      },
      "source": [
        "data2.isnull().sum()"
      ],
      "execution_count": 22,
      "outputs": [
        {
          "output_type": "execute_result",
          "data": {
            "text/plain": [
              "Country           0\n",
              "Country_Code      0\n",
              "X                 0\n",
              "Y                 0\n",
              "published       155\n",
              "source          155\n",
              "airline         155\n",
              "info            156\n",
              "dtype: int64"
            ]
          },
          "metadata": {
            "tags": []
          },
          "execution_count": 22
        }
      ]
    },
    {
      "cell_type": "code",
      "metadata": {
        "id": "DKhcsMlJaZQf",
        "colab_type": "code",
        "colab": {
          "base_uri": "https://localhost:8080/",
          "height": 238
        },
        "outputId": "1390c539-bf76-457d-c86e-d06f010718ee"
      },
      "source": [
        "data1['month'] = pd.DatetimeIndex(data1['Date']).month\n",
        "data1.head()"
      ],
      "execution_count": 23,
      "outputs": [
        {
          "output_type": "execute_result",
          "data": {
            "text/html": [
              "<div>\n",
              "<style scoped>\n",
              "    .dataframe tbody tr th:only-of-type {\n",
              "        vertical-align: middle;\n",
              "    }\n",
              "\n",
              "    .dataframe tbody tr th {\n",
              "        vertical-align: top;\n",
              "    }\n",
              "\n",
              "    .dataframe thead th {\n",
              "        text-align: right;\n",
              "    }\n",
              "</style>\n",
              "<table border=\"1\" class=\"dataframe\">\n",
              "  <thead>\n",
              "    <tr style=\"text-align: right;\">\n",
              "      <th></th>\n",
              "      <th>Country</th>\n",
              "      <th>Country_Code</th>\n",
              "      <th>X</th>\n",
              "      <th>Y</th>\n",
              "      <th>published</th>\n",
              "      <th>source</th>\n",
              "      <th>info</th>\n",
              "      <th>Date</th>\n",
              "      <th>Quarantine_requirement</th>\n",
              "      <th>Certificate_Requirement</th>\n",
              "      <th>month</th>\n",
              "    </tr>\n",
              "  </thead>\n",
              "  <tbody>\n",
              "    <tr>\n",
              "      <th>0</th>\n",
              "      <td>Abyei</td>\n",
              "      <td>SDN, SSD</td>\n",
              "      <td>28.415755</td>\n",
              "      <td>9.786952</td>\n",
              "      <td>NaN</td>\n",
              "      <td>NaN</td>\n",
              "      <td>NaN</td>\n",
              "      <td>NaT</td>\n",
              "      <td>NaN</td>\n",
              "      <td>NaN</td>\n",
              "      <td>NaN</td>\n",
              "    </tr>\n",
              "    <tr>\n",
              "      <th>1</th>\n",
              "      <td>Afghanistan</td>\n",
              "      <td>AFG</td>\n",
              "      <td>66.026881</td>\n",
              "      <td>33.831602</td>\n",
              "      <td>04.08.2020</td>\n",
              "      <td>&lt;a href=\"https://www.gov.uk/foreign-travel-adv...</td>\n",
              "      <td>Latest News:Turkey suspends all flights to Afg...</td>\n",
              "      <td>2020-08-04</td>\n",
              "      <td>Self-isolation at own accommodation. \\n\\nPeopl...</td>\n",
              "      <td>COVID-19 negative certification subject to spe...</td>\n",
              "      <td>8.0</td>\n",
              "    </tr>\n",
              "    <tr>\n",
              "      <th>2</th>\n",
              "      <td>Akrotiri</td>\n",
              "      <td>xUK</td>\n",
              "      <td>32.923365</td>\n",
              "      <td>34.638024</td>\n",
              "      <td>NaN</td>\n",
              "      <td>NaN</td>\n",
              "      <td>NaN</td>\n",
              "      <td>NaT</td>\n",
              "      <td>NaN</td>\n",
              "      <td>NaN</td>\n",
              "      <td>NaN</td>\n",
              "    </tr>\n",
              "    <tr>\n",
              "      <th>3</th>\n",
              "      <td>Aksai Chin</td>\n",
              "      <td>AKS, CHN</td>\n",
              "      <td>79.132432</td>\n",
              "      <td>35.030488</td>\n",
              "      <td>NaN</td>\n",
              "      <td>NaN</td>\n",
              "      <td>NaN</td>\n",
              "      <td>NaT</td>\n",
              "      <td>NaN</td>\n",
              "      <td>NaN</td>\n",
              "      <td>NaN</td>\n",
              "    </tr>\n",
              "    <tr>\n",
              "      <th>4</th>\n",
              "      <td>Åland Islands</td>\n",
              "      <td>ALA</td>\n",
              "      <td>19.809460</td>\n",
              "      <td>60.154490</td>\n",
              "      <td>NaN</td>\n",
              "      <td>NaN</td>\n",
              "      <td>NaN</td>\n",
              "      <td>NaT</td>\n",
              "      <td>NaN</td>\n",
              "      <td>NaN</td>\n",
              "      <td>NaN</td>\n",
              "    </tr>\n",
              "  </tbody>\n",
              "</table>\n",
              "</div>"
            ],
            "text/plain": [
              "         Country  ... month\n",
              "0          Abyei  ...   NaN\n",
              "1    Afghanistan  ...   8.0\n",
              "2       Akrotiri  ...   NaN\n",
              "3     Aksai Chin  ...   NaN\n",
              "4  Åland Islands  ...   NaN\n",
              "\n",
              "[5 rows x 11 columns]"
            ]
          },
          "metadata": {
            "tags": []
          },
          "execution_count": 23
        }
      ]
    },
    {
      "cell_type": "code",
      "metadata": {
        "id": "JjGX6SRZbwrI",
        "colab_type": "code",
        "colab": {
          "base_uri": "https://localhost:8080/",
          "height": 238
        },
        "outputId": "b4baa49e-8966-4526-ee34-f4ac43c8cd79"
      },
      "source": [
        "data1['year'] = pd.DatetimeIndex(data1['Date']).year\n",
        "data1.head()"
      ],
      "execution_count": 24,
      "outputs": [
        {
          "output_type": "execute_result",
          "data": {
            "text/html": [
              "<div>\n",
              "<style scoped>\n",
              "    .dataframe tbody tr th:only-of-type {\n",
              "        vertical-align: middle;\n",
              "    }\n",
              "\n",
              "    .dataframe tbody tr th {\n",
              "        vertical-align: top;\n",
              "    }\n",
              "\n",
              "    .dataframe thead th {\n",
              "        text-align: right;\n",
              "    }\n",
              "</style>\n",
              "<table border=\"1\" class=\"dataframe\">\n",
              "  <thead>\n",
              "    <tr style=\"text-align: right;\">\n",
              "      <th></th>\n",
              "      <th>Country</th>\n",
              "      <th>Country_Code</th>\n",
              "      <th>X</th>\n",
              "      <th>Y</th>\n",
              "      <th>published</th>\n",
              "      <th>source</th>\n",
              "      <th>info</th>\n",
              "      <th>Date</th>\n",
              "      <th>Quarantine_requirement</th>\n",
              "      <th>Certificate_Requirement</th>\n",
              "      <th>month</th>\n",
              "      <th>year</th>\n",
              "    </tr>\n",
              "  </thead>\n",
              "  <tbody>\n",
              "    <tr>\n",
              "      <th>0</th>\n",
              "      <td>Abyei</td>\n",
              "      <td>SDN, SSD</td>\n",
              "      <td>28.415755</td>\n",
              "      <td>9.786952</td>\n",
              "      <td>NaN</td>\n",
              "      <td>NaN</td>\n",
              "      <td>NaN</td>\n",
              "      <td>NaT</td>\n",
              "      <td>NaN</td>\n",
              "      <td>NaN</td>\n",
              "      <td>NaN</td>\n",
              "      <td>NaN</td>\n",
              "    </tr>\n",
              "    <tr>\n",
              "      <th>1</th>\n",
              "      <td>Afghanistan</td>\n",
              "      <td>AFG</td>\n",
              "      <td>66.026881</td>\n",
              "      <td>33.831602</td>\n",
              "      <td>04.08.2020</td>\n",
              "      <td>&lt;a href=\"https://www.gov.uk/foreign-travel-adv...</td>\n",
              "      <td>Latest News:Turkey suspends all flights to Afg...</td>\n",
              "      <td>2020-08-04</td>\n",
              "      <td>Self-isolation at own accommodation. \\n\\nPeopl...</td>\n",
              "      <td>COVID-19 negative certification subject to spe...</td>\n",
              "      <td>8.0</td>\n",
              "      <td>2020.0</td>\n",
              "    </tr>\n",
              "    <tr>\n",
              "      <th>2</th>\n",
              "      <td>Akrotiri</td>\n",
              "      <td>xUK</td>\n",
              "      <td>32.923365</td>\n",
              "      <td>34.638024</td>\n",
              "      <td>NaN</td>\n",
              "      <td>NaN</td>\n",
              "      <td>NaN</td>\n",
              "      <td>NaT</td>\n",
              "      <td>NaN</td>\n",
              "      <td>NaN</td>\n",
              "      <td>NaN</td>\n",
              "      <td>NaN</td>\n",
              "    </tr>\n",
              "    <tr>\n",
              "      <th>3</th>\n",
              "      <td>Aksai Chin</td>\n",
              "      <td>AKS, CHN</td>\n",
              "      <td>79.132432</td>\n",
              "      <td>35.030488</td>\n",
              "      <td>NaN</td>\n",
              "      <td>NaN</td>\n",
              "      <td>NaN</td>\n",
              "      <td>NaT</td>\n",
              "      <td>NaN</td>\n",
              "      <td>NaN</td>\n",
              "      <td>NaN</td>\n",
              "      <td>NaN</td>\n",
              "    </tr>\n",
              "    <tr>\n",
              "      <th>4</th>\n",
              "      <td>Åland Islands</td>\n",
              "      <td>ALA</td>\n",
              "      <td>19.809460</td>\n",
              "      <td>60.154490</td>\n",
              "      <td>NaN</td>\n",
              "      <td>NaN</td>\n",
              "      <td>NaN</td>\n",
              "      <td>NaT</td>\n",
              "      <td>NaN</td>\n",
              "      <td>NaN</td>\n",
              "      <td>NaN</td>\n",
              "      <td>NaN</td>\n",
              "    </tr>\n",
              "  </tbody>\n",
              "</table>\n",
              "</div>"
            ],
            "text/plain": [
              "         Country Country_Code  ...  month    year\n",
              "0          Abyei     SDN, SSD  ...    NaN     NaN\n",
              "1    Afghanistan          AFG  ...    8.0  2020.0\n",
              "2       Akrotiri          xUK  ...    NaN     NaN\n",
              "3     Aksai Chin     AKS, CHN  ...    NaN     NaN\n",
              "4  Åland Islands          ALA  ...    NaN     NaN\n",
              "\n",
              "[5 rows x 12 columns]"
            ]
          },
          "metadata": {
            "tags": []
          },
          "execution_count": 24
        }
      ]
    },
    {
      "cell_type": "code",
      "metadata": {
        "id": "rbe2rCe-f1BN",
        "colab_type": "code",
        "colab": {
          "base_uri": "https://localhost:8080/",
          "height": 238
        },
        "outputId": "3fd86ce0-4eef-472c-887a-0757f57f39f3"
      },
      "source": [
        "data1.dtypes"
      ],
      "execution_count": 25,
      "outputs": [
        {
          "output_type": "execute_result",
          "data": {
            "text/plain": [
              "Country                            object\n",
              "Country_Code                       object\n",
              "X                                 float64\n",
              "Y                                 float64\n",
              "published                          object\n",
              "source                             object\n",
              "info                               object\n",
              "Date                       datetime64[ns]\n",
              "Quarantine_requirement             object\n",
              "Certificate_Requirement            object\n",
              "month                             float64\n",
              "year                              float64\n",
              "dtype: object"
            ]
          },
          "metadata": {
            "tags": []
          },
          "execution_count": 25
        }
      ]
    },
    {
      "cell_type": "code",
      "metadata": {
        "id": "44P4Y44k1gEm",
        "colab_type": "code",
        "colab": {}
      },
      "source": [
        ""
      ],
      "execution_count": 25,
      "outputs": []
    },
    {
      "cell_type": "code",
      "metadata": {
        "id": "IzRp18YrolVW",
        "colab_type": "code",
        "colab": {
          "base_uri": "https://localhost:8080/",
          "height": 85
        },
        "outputId": "59016f6b-61fb-4903-daa2-06a035b8bd65"
      },
      "source": [
        "data1.columns"
      ],
      "execution_count": 26,
      "outputs": [
        {
          "output_type": "execute_result",
          "data": {
            "text/plain": [
              "Index(['Country', 'Country_Code', 'X', 'Y', 'published', 'source', 'info',\n",
              "       'Date', 'Quarantine_requirement', 'Certificate_Requirement', 'month',\n",
              "       'year'],\n",
              "      dtype='object')"
            ]
          },
          "metadata": {
            "tags": []
          },
          "execution_count": 26
        }
      ]
    },
    {
      "cell_type": "code",
      "metadata": {
        "id": "U8gtR5nypi1Y",
        "colab_type": "code",
        "colab": {
          "base_uri": "https://localhost:8080/",
          "height": 68
        },
        "outputId": "986aaecd-937b-4922-89f9-2097b618c93b"
      },
      "source": [
        "data2.columns"
      ],
      "execution_count": 27,
      "outputs": [
        {
          "output_type": "execute_result",
          "data": {
            "text/plain": [
              "Index(['Country', 'Country_Code', 'X', 'Y', 'published', 'source', 'airline',\n",
              "       'info'],\n",
              "      dtype='object')"
            ]
          },
          "metadata": {
            "tags": []
          },
          "execution_count": 27
        }
      ]
    },
    {
      "cell_type": "code",
      "metadata": {
        "id": "31pHUz3erGri",
        "colab_type": "code",
        "colab": {}
      },
      "source": [
        ""
      ],
      "execution_count": 27,
      "outputs": []
    },
    {
      "cell_type": "code",
      "metadata": {
        "id": "sXHI_VGftBuF",
        "colab_type": "code",
        "colab": {}
      },
      "source": [
        "data3=data2[\"Country\"],data2[\"airline\"]"
      ],
      "execution_count": 28,
      "outputs": []
    },
    {
      "cell_type": "code",
      "metadata": {
        "id": "LVyeRPoxtgG3",
        "colab_type": "code",
        "colab": {
          "base_uri": "https://localhost:8080/",
          "height": 204
        },
        "outputId": "78126b69-ca06-47a3-c711-e3dc5c1ecada"
      },
      "source": [
        "data3=pd.DataFrame(data3).T\n",
        "data3.head()"
      ],
      "execution_count": 29,
      "outputs": [
        {
          "output_type": "execute_result",
          "data": {
            "text/html": [
              "<div>\n",
              "<style scoped>\n",
              "    .dataframe tbody tr th:only-of-type {\n",
              "        vertical-align: middle;\n",
              "    }\n",
              "\n",
              "    .dataframe tbody tr th {\n",
              "        vertical-align: top;\n",
              "    }\n",
              "\n",
              "    .dataframe thead th {\n",
              "        text-align: right;\n",
              "    }\n",
              "</style>\n",
              "<table border=\"1\" class=\"dataframe\">\n",
              "  <thead>\n",
              "    <tr style=\"text-align: right;\">\n",
              "      <th></th>\n",
              "      <th>Country</th>\n",
              "      <th>airline</th>\n",
              "    </tr>\n",
              "  </thead>\n",
              "  <tbody>\n",
              "    <tr>\n",
              "      <th>0</th>\n",
              "      <td>Cocos (Keeling) Islands</td>\n",
              "      <td>NaN</td>\n",
              "    </tr>\n",
              "    <tr>\n",
              "      <th>1</th>\n",
              "      <td>Colombia</td>\n",
              "      <td>Avianca</td>\n",
              "    </tr>\n",
              "    <tr>\n",
              "      <th>2</th>\n",
              "      <td>Colombia</td>\n",
              "      <td>Avianca</td>\n",
              "    </tr>\n",
              "    <tr>\n",
              "      <th>3</th>\n",
              "      <td>Colombia</td>\n",
              "      <td>Avianca</td>\n",
              "    </tr>\n",
              "    <tr>\n",
              "      <th>4</th>\n",
              "      <td>Colombia</td>\n",
              "      <td>Avianca</td>\n",
              "    </tr>\n",
              "  </tbody>\n",
              "</table>\n",
              "</div>"
            ],
            "text/plain": [
              "                   Country  airline\n",
              "0  Cocos (Keeling) Islands      NaN\n",
              "1                 Colombia  Avianca\n",
              "2                 Colombia  Avianca\n",
              "3                 Colombia  Avianca\n",
              "4                 Colombia  Avianca"
            ]
          },
          "metadata": {
            "tags": []
          },
          "execution_count": 29
        }
      ]
    },
    {
      "cell_type": "code",
      "metadata": {
        "id": "sHY_SVWrtsLE",
        "colab_type": "code",
        "colab": {}
      },
      "source": [
        "data = pd.merge(data1, data3, on=\"Country\", how = 'inner')"
      ],
      "execution_count": 30,
      "outputs": []
    },
    {
      "cell_type": "code",
      "metadata": {
        "id": "Fh_gv8igrbKG",
        "colab_type": "code",
        "colab": {
          "base_uri": "https://localhost:8080/",
          "height": 34
        },
        "outputId": "112693c0-fd26-4563-c6eb-7ba80941242d"
      },
      "source": [
        "data.shape"
      ],
      "execution_count": 31,
      "outputs": [
        {
          "output_type": "execute_result",
          "data": {
            "text/plain": [
              "(1144, 13)"
            ]
          },
          "metadata": {
            "tags": []
          },
          "execution_count": 31
        }
      ]
    },
    {
      "cell_type": "code",
      "metadata": {
        "id": "iuLLA54Krc4V",
        "colab_type": "code",
        "colab": {
          "base_uri": "https://localhost:8080/",
          "height": 85
        },
        "outputId": "e9b752cc-ffc0-4589-d013-1d9b5ff28fd5"
      },
      "source": [
        "data.columns"
      ],
      "execution_count": 32,
      "outputs": [
        {
          "output_type": "execute_result",
          "data": {
            "text/plain": [
              "Index(['Country', 'Country_Code', 'X', 'Y', 'published', 'source', 'info',\n",
              "       'Date', 'Quarantine_requirement', 'Certificate_Requirement', 'month',\n",
              "       'year', 'airline'],\n",
              "      dtype='object')"
            ]
          },
          "metadata": {
            "tags": []
          },
          "execution_count": 32
        }
      ]
    },
    {
      "cell_type": "code",
      "metadata": {
        "id": "a0DPg9h7rgKR",
        "colab_type": "code",
        "colab": {
          "base_uri": "https://localhost:8080/",
          "height": 128
        },
        "outputId": "3c8cec59-a866-4a36-8cdd-1c66906c3c53"
      },
      "source": [
        "data.head(2)"
      ],
      "execution_count": 33,
      "outputs": [
        {
          "output_type": "execute_result",
          "data": {
            "text/html": [
              "<div>\n",
              "<style scoped>\n",
              "    .dataframe tbody tr th:only-of-type {\n",
              "        vertical-align: middle;\n",
              "    }\n",
              "\n",
              "    .dataframe tbody tr th {\n",
              "        vertical-align: top;\n",
              "    }\n",
              "\n",
              "    .dataframe thead th {\n",
              "        text-align: right;\n",
              "    }\n",
              "</style>\n",
              "<table border=\"1\" class=\"dataframe\">\n",
              "  <thead>\n",
              "    <tr style=\"text-align: right;\">\n",
              "      <th></th>\n",
              "      <th>Country</th>\n",
              "      <th>Country_Code</th>\n",
              "      <th>X</th>\n",
              "      <th>Y</th>\n",
              "      <th>published</th>\n",
              "      <th>source</th>\n",
              "      <th>info</th>\n",
              "      <th>Date</th>\n",
              "      <th>Quarantine_requirement</th>\n",
              "      <th>Certificate_Requirement</th>\n",
              "      <th>month</th>\n",
              "      <th>year</th>\n",
              "      <th>airline</th>\n",
              "    </tr>\n",
              "  </thead>\n",
              "  <tbody>\n",
              "    <tr>\n",
              "      <th>0</th>\n",
              "      <td>Abyei</td>\n",
              "      <td>SDN, SSD</td>\n",
              "      <td>28.415755</td>\n",
              "      <td>9.786952</td>\n",
              "      <td>NaN</td>\n",
              "      <td>NaN</td>\n",
              "      <td>NaN</td>\n",
              "      <td>NaT</td>\n",
              "      <td>NaN</td>\n",
              "      <td>NaN</td>\n",
              "      <td>NaN</td>\n",
              "      <td>NaN</td>\n",
              "      <td>NaN</td>\n",
              "    </tr>\n",
              "    <tr>\n",
              "      <th>1</th>\n",
              "      <td>Afghanistan</td>\n",
              "      <td>AFG</td>\n",
              "      <td>66.026881</td>\n",
              "      <td>33.831602</td>\n",
              "      <td>04.08.2020</td>\n",
              "      <td>&lt;a href=\"https://www.gov.uk/foreign-travel-adv...</td>\n",
              "      <td>Latest News:Turkey suspends all flights to Afg...</td>\n",
              "      <td>2020-08-04</td>\n",
              "      <td>Self-isolation at own accommodation. \\n\\nPeopl...</td>\n",
              "      <td>COVID-19 negative certification subject to spe...</td>\n",
              "      <td>8.0</td>\n",
              "      <td>2020.0</td>\n",
              "      <td>NaN</td>\n",
              "    </tr>\n",
              "  </tbody>\n",
              "</table>\n",
              "</div>"
            ],
            "text/plain": [
              "       Country Country_Code          X  ...  month    year airline\n",
              "0        Abyei     SDN, SSD  28.415755  ...    NaN     NaN     NaN\n",
              "1  Afghanistan          AFG  66.026881  ...    8.0  2020.0     NaN\n",
              "\n",
              "[2 rows x 13 columns]"
            ]
          },
          "metadata": {
            "tags": []
          },
          "execution_count": 33
        }
      ]
    },
    {
      "cell_type": "code",
      "metadata": {
        "id": "fnaXED92rwJM",
        "colab_type": "code",
        "colab": {
          "base_uri": "https://localhost:8080/",
          "height": 85
        },
        "outputId": "fec27730-96d1-49ce-d040-2206f98bcac4"
      },
      "source": [
        "data.columns"
      ],
      "execution_count": 34,
      "outputs": [
        {
          "output_type": "execute_result",
          "data": {
            "text/plain": [
              "Index(['Country', 'Country_Code', 'X', 'Y', 'published', 'source', 'info',\n",
              "       'Date', 'Quarantine_requirement', 'Certificate_Requirement', 'month',\n",
              "       'year', 'airline'],\n",
              "      dtype='object')"
            ]
          },
          "metadata": {
            "tags": []
          },
          "execution_count": 34
        }
      ]
    },
    {
      "cell_type": "code",
      "metadata": {
        "id": "QKR2aPMcuiUI",
        "colab_type": "code",
        "colab": {
          "base_uri": "https://localhost:8080/",
          "height": 255
        },
        "outputId": "e8d767f8-2028-436e-d240-2ba530dfb3e6"
      },
      "source": [
        "data.head()"
      ],
      "execution_count": 35,
      "outputs": [
        {
          "output_type": "execute_result",
          "data": {
            "text/html": [
              "<div>\n",
              "<style scoped>\n",
              "    .dataframe tbody tr th:only-of-type {\n",
              "        vertical-align: middle;\n",
              "    }\n",
              "\n",
              "    .dataframe tbody tr th {\n",
              "        vertical-align: top;\n",
              "    }\n",
              "\n",
              "    .dataframe thead th {\n",
              "        text-align: right;\n",
              "    }\n",
              "</style>\n",
              "<table border=\"1\" class=\"dataframe\">\n",
              "  <thead>\n",
              "    <tr style=\"text-align: right;\">\n",
              "      <th></th>\n",
              "      <th>Country</th>\n",
              "      <th>Country_Code</th>\n",
              "      <th>X</th>\n",
              "      <th>Y</th>\n",
              "      <th>published</th>\n",
              "      <th>source</th>\n",
              "      <th>info</th>\n",
              "      <th>Date</th>\n",
              "      <th>Quarantine_requirement</th>\n",
              "      <th>Certificate_Requirement</th>\n",
              "      <th>month</th>\n",
              "      <th>year</th>\n",
              "      <th>airline</th>\n",
              "    </tr>\n",
              "  </thead>\n",
              "  <tbody>\n",
              "    <tr>\n",
              "      <th>0</th>\n",
              "      <td>Abyei</td>\n",
              "      <td>SDN, SSD</td>\n",
              "      <td>28.415755</td>\n",
              "      <td>9.786952</td>\n",
              "      <td>NaN</td>\n",
              "      <td>NaN</td>\n",
              "      <td>NaN</td>\n",
              "      <td>NaT</td>\n",
              "      <td>NaN</td>\n",
              "      <td>NaN</td>\n",
              "      <td>NaN</td>\n",
              "      <td>NaN</td>\n",
              "      <td>NaN</td>\n",
              "    </tr>\n",
              "    <tr>\n",
              "      <th>1</th>\n",
              "      <td>Afghanistan</td>\n",
              "      <td>AFG</td>\n",
              "      <td>66.026881</td>\n",
              "      <td>33.831602</td>\n",
              "      <td>04.08.2020</td>\n",
              "      <td>&lt;a href=\"https://www.gov.uk/foreign-travel-adv...</td>\n",
              "      <td>Latest News:Turkey suspends all flights to Afg...</td>\n",
              "      <td>2020-08-04</td>\n",
              "      <td>Self-isolation at own accommodation. \\n\\nPeopl...</td>\n",
              "      <td>COVID-19 negative certification subject to spe...</td>\n",
              "      <td>8.0</td>\n",
              "      <td>2020.0</td>\n",
              "      <td>NaN</td>\n",
              "    </tr>\n",
              "    <tr>\n",
              "      <th>2</th>\n",
              "      <td>Aksai Chin</td>\n",
              "      <td>AKS, CHN</td>\n",
              "      <td>79.132432</td>\n",
              "      <td>35.030488</td>\n",
              "      <td>NaN</td>\n",
              "      <td>NaN</td>\n",
              "      <td>NaN</td>\n",
              "      <td>NaT</td>\n",
              "      <td>NaN</td>\n",
              "      <td>NaN</td>\n",
              "      <td>NaN</td>\n",
              "      <td>NaN</td>\n",
              "      <td>NaN</td>\n",
              "    </tr>\n",
              "    <tr>\n",
              "      <th>3</th>\n",
              "      <td>Åland Islands</td>\n",
              "      <td>ALA</td>\n",
              "      <td>19.809460</td>\n",
              "      <td>60.154490</td>\n",
              "      <td>NaN</td>\n",
              "      <td>NaN</td>\n",
              "      <td>NaN</td>\n",
              "      <td>NaT</td>\n",
              "      <td>NaN</td>\n",
              "      <td>NaN</td>\n",
              "      <td>NaN</td>\n",
              "      <td>NaN</td>\n",
              "      <td>NaN</td>\n",
              "    </tr>\n",
              "    <tr>\n",
              "      <th>4</th>\n",
              "      <td>Albania</td>\n",
              "      <td>ALB</td>\n",
              "      <td>20.066643</td>\n",
              "      <td>41.138926</td>\n",
              "      <td>29.07.2020</td>\n",
              "      <td>&lt;a href=\"https://www.gov.uk/foreign-travel-adv...</td>\n",
              "      <td>International Restrictions:\\n Commercial airli...</td>\n",
              "      <td>2020-07-29</td>\n",
              "      <td>Quarantine requirement at government designate...</td>\n",
              "      <td>COVID-19 negative certification not required /...</td>\n",
              "      <td>7.0</td>\n",
              "      <td>2020.0</td>\n",
              "      <td>NaN</td>\n",
              "    </tr>\n",
              "  </tbody>\n",
              "</table>\n",
              "</div>"
            ],
            "text/plain": [
              "         Country Country_Code          X  ...  month    year airline\n",
              "0          Abyei     SDN, SSD  28.415755  ...    NaN     NaN     NaN\n",
              "1    Afghanistan          AFG  66.026881  ...    8.0  2020.0     NaN\n",
              "2     Aksai Chin     AKS, CHN  79.132432  ...    NaN     NaN     NaN\n",
              "3  Åland Islands          ALA  19.809460  ...    NaN     NaN     NaN\n",
              "4        Albania          ALB  20.066643  ...    7.0  2020.0     NaN\n",
              "\n",
              "[5 rows x 13 columns]"
            ]
          },
          "metadata": {
            "tags": []
          },
          "execution_count": 35
        }
      ]
    },
    {
      "cell_type": "code",
      "metadata": {
        "id": "ijnQI-GdwGVR",
        "colab_type": "code",
        "colab": {
          "base_uri": "https://localhost:8080/",
          "height": 34
        },
        "outputId": "a89a8936-9097-4a1a-cabb-ef0ffd1556ae"
      },
      "source": [
        "data.month.unique()"
      ],
      "execution_count": 36,
      "outputs": [
        {
          "output_type": "execute_result",
          "data": {
            "text/plain": [
              "array([nan,  8.,  7.,  9.,  6.,  5.,  4.])"
            ]
          },
          "metadata": {
            "tags": []
          },
          "execution_count": 36
        }
      ]
    },
    {
      "cell_type": "code",
      "metadata": {
        "id": "4B4oRKcgwd_p",
        "colab_type": "code",
        "colab": {}
      },
      "source": [
        "data.dropna(subset = [\"airline\"], inplace=True)\n",
        "data.dropna(subset = [\"month\"], inplace=True)"
      ],
      "execution_count": 37,
      "outputs": []
    },
    {
      "cell_type": "code",
      "metadata": {
        "id": "AqXHBobOwv1h",
        "colab_type": "code",
        "colab": {
          "base_uri": "https://localhost:8080/",
          "height": 34
        },
        "outputId": "2ed6cab4-b56f-42aa-f408-383158955374"
      },
      "source": [
        "data.shape"
      ],
      "execution_count": 38,
      "outputs": [
        {
          "output_type": "execute_result",
          "data": {
            "text/plain": [
              "(989, 13)"
            ]
          },
          "metadata": {
            "tags": []
          },
          "execution_count": 38
        }
      ]
    },
    {
      "cell_type": "code",
      "metadata": {
        "id": "bcT6g2V9ww09",
        "colab_type": "code",
        "colab": {
          "base_uri": "https://localhost:8080/",
          "height": 238
        },
        "outputId": "3279e5e6-3b8a-4014-8e68-f83b21f6a991"
      },
      "source": [
        "column_names = data.columns\n",
        "for i in column_names:\n",
        "    print('{} is unique: {}'.format(i, data[i].is_unique))"
      ],
      "execution_count": 39,
      "outputs": [
        {
          "output_type": "stream",
          "text": [
            "Country is unique: False\n",
            "Country_Code is unique: False\n",
            "X is unique: False\n",
            "Y is unique: False\n",
            "published is unique: False\n",
            "source is unique: False\n",
            "info is unique: False\n",
            "Date is unique: False\n",
            "Quarantine_requirement is unique: False\n",
            "Certificate_Requirement is unique: False\n",
            "month is unique: False\n",
            "year is unique: False\n",
            "airline is unique: False\n"
          ],
          "name": "stdout"
        }
      ]
    },
    {
      "cell_type": "code",
      "metadata": {
        "id": "ELqotwfGw-Jc",
        "colab_type": "code",
        "colab": {}
      },
      "source": [
        ""
      ],
      "execution_count": 39,
      "outputs": []
    },
    {
      "cell_type": "code",
      "metadata": {
        "id": "50hmJDt-xJOS",
        "colab_type": "code",
        "colab": {
          "base_uri": "https://localhost:8080/",
          "height": 34
        },
        "outputId": "c2b7ff99-d645-467c-a60a-8c8d09c3ff3f"
      },
      "source": [
        "data.shape"
      ],
      "execution_count": 40,
      "outputs": [
        {
          "output_type": "execute_result",
          "data": {
            "text/plain": [
              "(989, 13)"
            ]
          },
          "metadata": {
            "tags": []
          },
          "execution_count": 40
        }
      ]
    },
    {
      "cell_type": "code",
      "metadata": {
        "id": "y4KZKLR5xKL7",
        "colab_type": "code",
        "colab": {
          "base_uri": "https://localhost:8080/",
          "height": 289
        },
        "outputId": "cd144c1a-265a-43ce-8ffc-84a7edd551be"
      },
      "source": [
        "look_up = {1.0: 'Jan', 2.0: 'Feb', 3.0: 'Mar', 4.0: 'Apr', 5.0: 'May',6.0: 'Jun', 7.0: 'Jul', 8.0: 'Aug', 9.0: 'Sep', 10: 'Oct', 11: 'Nov', 12: 'Dec'}\n",
        "\n",
        "data['month'] = data['month'].apply(lambda x: look_up[x])\n",
        "data.head()"
      ],
      "execution_count": 41,
      "outputs": [
        {
          "output_type": "execute_result",
          "data": {
            "text/html": [
              "<div>\n",
              "<style scoped>\n",
              "    .dataframe tbody tr th:only-of-type {\n",
              "        vertical-align: middle;\n",
              "    }\n",
              "\n",
              "    .dataframe tbody tr th {\n",
              "        vertical-align: top;\n",
              "    }\n",
              "\n",
              "    .dataframe thead th {\n",
              "        text-align: right;\n",
              "    }\n",
              "</style>\n",
              "<table border=\"1\" class=\"dataframe\">\n",
              "  <thead>\n",
              "    <tr style=\"text-align: right;\">\n",
              "      <th></th>\n",
              "      <th>Country</th>\n",
              "      <th>Country_Code</th>\n",
              "      <th>X</th>\n",
              "      <th>Y</th>\n",
              "      <th>published</th>\n",
              "      <th>source</th>\n",
              "      <th>info</th>\n",
              "      <th>Date</th>\n",
              "      <th>Quarantine_requirement</th>\n",
              "      <th>Certificate_Requirement</th>\n",
              "      <th>month</th>\n",
              "      <th>year</th>\n",
              "      <th>airline</th>\n",
              "    </tr>\n",
              "  </thead>\n",
              "  <tbody>\n",
              "    <tr>\n",
              "      <th>8</th>\n",
              "      <td>Angola</td>\n",
              "      <td>AGO</td>\n",
              "      <td>17.577532</td>\n",
              "      <td>-12.337524</td>\n",
              "      <td>04.09.2020</td>\n",
              "      <td>&lt;a href=\"https://www.osac.gov/Content/Browse/R...</td>\n",
              "      <td>Latest News: Domestic and international non-co...</td>\n",
              "      <td>2020-09-04</td>\n",
              "      <td>Quarantine requirement at government designate...</td>\n",
              "      <td>COVID-19 negative certification required for e...</td>\n",
              "      <td>Sep</td>\n",
              "      <td>2020.0</td>\n",
              "      <td>TAAG</td>\n",
              "    </tr>\n",
              "    <tr>\n",
              "      <th>9</th>\n",
              "      <td>Angola</td>\n",
              "      <td>AGO</td>\n",
              "      <td>17.577532</td>\n",
              "      <td>-12.337524</td>\n",
              "      <td>04.09.2020</td>\n",
              "      <td>&lt;a href=\"https://www.osac.gov/Content/Browse/R...</td>\n",
              "      <td>Latest News: Domestic and international non-co...</td>\n",
              "      <td>2020-09-04</td>\n",
              "      <td>Quarantine requirement at government designate...</td>\n",
              "      <td>COVID-19 negative certification required for e...</td>\n",
              "      <td>Sep</td>\n",
              "      <td>2020.0</td>\n",
              "      <td>TAAG</td>\n",
              "    </tr>\n",
              "    <tr>\n",
              "      <th>13</th>\n",
              "      <td>Argentina</td>\n",
              "      <td>ARG</td>\n",
              "      <td>-63.578123</td>\n",
              "      <td>-31.578414</td>\n",
              "      <td>08.09.2020</td>\n",
              "      <td>&lt;a href=\"https://ar.usembassy.gov/covid-19/\"&gt;U...</td>\n",
              "      <td>Latest News:Argentine government authorizes so...</td>\n",
              "      <td>2020-09-08</td>\n",
              "      <td>Self-isolation at own accommodation. \\n\\nAny f...</td>\n",
              "      <td>COVID-19 negative certification not required /...</td>\n",
              "      <td>Sep</td>\n",
              "      <td>2020.0</td>\n",
              "      <td>Aerolineas Argentinas</td>\n",
              "    </tr>\n",
              "    <tr>\n",
              "      <th>14</th>\n",
              "      <td>Argentina</td>\n",
              "      <td>ARG</td>\n",
              "      <td>-63.578123</td>\n",
              "      <td>-31.578414</td>\n",
              "      <td>08.09.2020</td>\n",
              "      <td>&lt;a href=\"https://ar.usembassy.gov/covid-19/\"&gt;U...</td>\n",
              "      <td>Latest News:Argentine government authorizes so...</td>\n",
              "      <td>2020-09-08</td>\n",
              "      <td>Self-isolation at own accommodation. \\n\\nAny f...</td>\n",
              "      <td>COVID-19 negative certification not required /...</td>\n",
              "      <td>Sep</td>\n",
              "      <td>2020.0</td>\n",
              "      <td>Aerolineas Argentinas</td>\n",
              "    </tr>\n",
              "    <tr>\n",
              "      <th>15</th>\n",
              "      <td>Argentina</td>\n",
              "      <td>ARG</td>\n",
              "      <td>-63.578123</td>\n",
              "      <td>-31.578414</td>\n",
              "      <td>08.09.2020</td>\n",
              "      <td>&lt;a href=\"https://ar.usembassy.gov/covid-19/\"&gt;U...</td>\n",
              "      <td>Latest News:Argentine government authorizes so...</td>\n",
              "      <td>2020-09-08</td>\n",
              "      <td>Self-isolation at own accommodation. \\n\\nAny f...</td>\n",
              "      <td>COVID-19 negative certification not required /...</td>\n",
              "      <td>Sep</td>\n",
              "      <td>2020.0</td>\n",
              "      <td>Aerolineas Argentinas</td>\n",
              "    </tr>\n",
              "  </tbody>\n",
              "</table>\n",
              "</div>"
            ],
            "text/plain": [
              "      Country Country_Code          X  ...  month    year                airline\n",
              "8      Angola          AGO  17.577532  ...    Sep  2020.0                   TAAG\n",
              "9      Angola          AGO  17.577532  ...    Sep  2020.0                   TAAG\n",
              "13  Argentina          ARG -63.578123  ...    Sep  2020.0  Aerolineas Argentinas\n",
              "14  Argentina          ARG -63.578123  ...    Sep  2020.0  Aerolineas Argentinas\n",
              "15  Argentina          ARG -63.578123  ...    Sep  2020.0  Aerolineas Argentinas\n",
              "\n",
              "[5 rows x 13 columns]"
            ]
          },
          "metadata": {
            "tags": []
          },
          "execution_count": 41
        }
      ]
    },
    {
      "cell_type": "code",
      "metadata": {
        "id": "oqGJ9ir0xMwi",
        "colab_type": "code",
        "colab": {}
      },
      "source": [
        ""
      ],
      "execution_count": 41,
      "outputs": []
    },
    {
      "cell_type": "code",
      "metadata": {
        "id": "sSBd9dON10tl",
        "colab_type": "code",
        "colab": {}
      },
      "source": [
        ""
      ],
      "execution_count": 41,
      "outputs": []
    },
    {
      "cell_type": "code",
      "metadata": {
        "id": "5KdlvxcIzMtr",
        "colab_type": "code",
        "colab": {}
      },
      "source": [
        ""
      ],
      "execution_count": 41,
      "outputs": []
    },
    {
      "cell_type": "code",
      "metadata": {
        "id": "Obq7qddb4uht",
        "colab_type": "code",
        "colab": {}
      },
      "source": [
        ""
      ],
      "execution_count": 41,
      "outputs": []
    },
    {
      "cell_type": "code",
      "metadata": {
        "id": "yYW7JuN08JBa",
        "colab_type": "code",
        "colab": {}
      },
      "source": [
        "\n",
        "data=data.drop(columns=['source'])\n"
      ],
      "execution_count": 42,
      "outputs": []
    },
    {
      "cell_type": "code",
      "metadata": {
        "id": "gDhfKSs_43np",
        "colab_type": "code",
        "colab": {}
      },
      "source": [
        ""
      ],
      "execution_count": 42,
      "outputs": []
    },
    {
      "cell_type": "code",
      "metadata": {
        "id": "QUfOSpCu5K2z",
        "colab_type": "code",
        "colab": {
          "base_uri": "https://localhost:8080/",
          "height": 204
        },
        "outputId": "d4d678d6-2835-4132-dc4a-7de9882f007d"
      },
      "source": [
        "data.head()"
      ],
      "execution_count": 43,
      "outputs": [
        {
          "output_type": "execute_result",
          "data": {
            "text/html": [
              "<div>\n",
              "<style scoped>\n",
              "    .dataframe tbody tr th:only-of-type {\n",
              "        vertical-align: middle;\n",
              "    }\n",
              "\n",
              "    .dataframe tbody tr th {\n",
              "        vertical-align: top;\n",
              "    }\n",
              "\n",
              "    .dataframe thead th {\n",
              "        text-align: right;\n",
              "    }\n",
              "</style>\n",
              "<table border=\"1\" class=\"dataframe\">\n",
              "  <thead>\n",
              "    <tr style=\"text-align: right;\">\n",
              "      <th></th>\n",
              "      <th>Country</th>\n",
              "      <th>Country_Code</th>\n",
              "      <th>X</th>\n",
              "      <th>Y</th>\n",
              "      <th>published</th>\n",
              "      <th>info</th>\n",
              "      <th>Date</th>\n",
              "      <th>Quarantine_requirement</th>\n",
              "      <th>Certificate_Requirement</th>\n",
              "      <th>month</th>\n",
              "      <th>year</th>\n",
              "      <th>airline</th>\n",
              "    </tr>\n",
              "  </thead>\n",
              "  <tbody>\n",
              "    <tr>\n",
              "      <th>8</th>\n",
              "      <td>Angola</td>\n",
              "      <td>AGO</td>\n",
              "      <td>17.577532</td>\n",
              "      <td>-12.337524</td>\n",
              "      <td>04.09.2020</td>\n",
              "      <td>Latest News: Domestic and international non-co...</td>\n",
              "      <td>2020-09-04</td>\n",
              "      <td>Quarantine requirement at government designate...</td>\n",
              "      <td>COVID-19 negative certification required for e...</td>\n",
              "      <td>Sep</td>\n",
              "      <td>2020.0</td>\n",
              "      <td>TAAG</td>\n",
              "    </tr>\n",
              "    <tr>\n",
              "      <th>9</th>\n",
              "      <td>Angola</td>\n",
              "      <td>AGO</td>\n",
              "      <td>17.577532</td>\n",
              "      <td>-12.337524</td>\n",
              "      <td>04.09.2020</td>\n",
              "      <td>Latest News: Domestic and international non-co...</td>\n",
              "      <td>2020-09-04</td>\n",
              "      <td>Quarantine requirement at government designate...</td>\n",
              "      <td>COVID-19 negative certification required for e...</td>\n",
              "      <td>Sep</td>\n",
              "      <td>2020.0</td>\n",
              "      <td>TAAG</td>\n",
              "    </tr>\n",
              "    <tr>\n",
              "      <th>13</th>\n",
              "      <td>Argentina</td>\n",
              "      <td>ARG</td>\n",
              "      <td>-63.578123</td>\n",
              "      <td>-31.578414</td>\n",
              "      <td>08.09.2020</td>\n",
              "      <td>Latest News:Argentine government authorizes so...</td>\n",
              "      <td>2020-09-08</td>\n",
              "      <td>Self-isolation at own accommodation. \\n\\nAny f...</td>\n",
              "      <td>COVID-19 negative certification not required /...</td>\n",
              "      <td>Sep</td>\n",
              "      <td>2020.0</td>\n",
              "      <td>Aerolineas Argentinas</td>\n",
              "    </tr>\n",
              "    <tr>\n",
              "      <th>14</th>\n",
              "      <td>Argentina</td>\n",
              "      <td>ARG</td>\n",
              "      <td>-63.578123</td>\n",
              "      <td>-31.578414</td>\n",
              "      <td>08.09.2020</td>\n",
              "      <td>Latest News:Argentine government authorizes so...</td>\n",
              "      <td>2020-09-08</td>\n",
              "      <td>Self-isolation at own accommodation. \\n\\nAny f...</td>\n",
              "      <td>COVID-19 negative certification not required /...</td>\n",
              "      <td>Sep</td>\n",
              "      <td>2020.0</td>\n",
              "      <td>Aerolineas Argentinas</td>\n",
              "    </tr>\n",
              "    <tr>\n",
              "      <th>15</th>\n",
              "      <td>Argentina</td>\n",
              "      <td>ARG</td>\n",
              "      <td>-63.578123</td>\n",
              "      <td>-31.578414</td>\n",
              "      <td>08.09.2020</td>\n",
              "      <td>Latest News:Argentine government authorizes so...</td>\n",
              "      <td>2020-09-08</td>\n",
              "      <td>Self-isolation at own accommodation. \\n\\nAny f...</td>\n",
              "      <td>COVID-19 negative certification not required /...</td>\n",
              "      <td>Sep</td>\n",
              "      <td>2020.0</td>\n",
              "      <td>Aerolineas Argentinas</td>\n",
              "    </tr>\n",
              "  </tbody>\n",
              "</table>\n",
              "</div>"
            ],
            "text/plain": [
              "      Country Country_Code          X  ...  month    year                airline\n",
              "8      Angola          AGO  17.577532  ...    Sep  2020.0                   TAAG\n",
              "9      Angola          AGO  17.577532  ...    Sep  2020.0                   TAAG\n",
              "13  Argentina          ARG -63.578123  ...    Sep  2020.0  Aerolineas Argentinas\n",
              "14  Argentina          ARG -63.578123  ...    Sep  2020.0  Aerolineas Argentinas\n",
              "15  Argentina          ARG -63.578123  ...    Sep  2020.0  Aerolineas Argentinas\n",
              "\n",
              "[5 rows x 12 columns]"
            ]
          },
          "metadata": {
            "tags": []
          },
          "execution_count": 43
        }
      ]
    },
    {
      "cell_type": "code",
      "metadata": {
        "id": "_dMYN9Yc8RD9",
        "colab_type": "code",
        "colab": {}
      },
      "source": [
        "\n",
        "#data=data.drop(columns=['Date'])\n"
      ],
      "execution_count": 44,
      "outputs": []
    },
    {
      "cell_type": "code",
      "metadata": {
        "id": "TjKZFy7iJnQc",
        "colab_type": "code",
        "colab": {}
      },
      "source": [
        "data[\"Quarantine_requirement\"] = data['Quarantine_requirement'].str.split().str[0]\n"
      ],
      "execution_count": 45,
      "outputs": []
    },
    {
      "cell_type": "code",
      "metadata": {
        "id": "1uBOllsQKj8g",
        "colab_type": "code",
        "colab": {
          "base_uri": "https://localhost:8080/",
          "height": 204
        },
        "outputId": "075db31c-b963-43f3-9f8a-a71d753b6774"
      },
      "source": [
        "data.head()"
      ],
      "execution_count": 46,
      "outputs": [
        {
          "output_type": "execute_result",
          "data": {
            "text/html": [
              "<div>\n",
              "<style scoped>\n",
              "    .dataframe tbody tr th:only-of-type {\n",
              "        vertical-align: middle;\n",
              "    }\n",
              "\n",
              "    .dataframe tbody tr th {\n",
              "        vertical-align: top;\n",
              "    }\n",
              "\n",
              "    .dataframe thead th {\n",
              "        text-align: right;\n",
              "    }\n",
              "</style>\n",
              "<table border=\"1\" class=\"dataframe\">\n",
              "  <thead>\n",
              "    <tr style=\"text-align: right;\">\n",
              "      <th></th>\n",
              "      <th>Country</th>\n",
              "      <th>Country_Code</th>\n",
              "      <th>X</th>\n",
              "      <th>Y</th>\n",
              "      <th>published</th>\n",
              "      <th>info</th>\n",
              "      <th>Date</th>\n",
              "      <th>Quarantine_requirement</th>\n",
              "      <th>Certificate_Requirement</th>\n",
              "      <th>month</th>\n",
              "      <th>year</th>\n",
              "      <th>airline</th>\n",
              "    </tr>\n",
              "  </thead>\n",
              "  <tbody>\n",
              "    <tr>\n",
              "      <th>8</th>\n",
              "      <td>Angola</td>\n",
              "      <td>AGO</td>\n",
              "      <td>17.577532</td>\n",
              "      <td>-12.337524</td>\n",
              "      <td>04.09.2020</td>\n",
              "      <td>Latest News: Domestic and international non-co...</td>\n",
              "      <td>2020-09-04</td>\n",
              "      <td>Quarantine</td>\n",
              "      <td>COVID-19 negative certification required for e...</td>\n",
              "      <td>Sep</td>\n",
              "      <td>2020.0</td>\n",
              "      <td>TAAG</td>\n",
              "    </tr>\n",
              "    <tr>\n",
              "      <th>9</th>\n",
              "      <td>Angola</td>\n",
              "      <td>AGO</td>\n",
              "      <td>17.577532</td>\n",
              "      <td>-12.337524</td>\n",
              "      <td>04.09.2020</td>\n",
              "      <td>Latest News: Domestic and international non-co...</td>\n",
              "      <td>2020-09-04</td>\n",
              "      <td>Quarantine</td>\n",
              "      <td>COVID-19 negative certification required for e...</td>\n",
              "      <td>Sep</td>\n",
              "      <td>2020.0</td>\n",
              "      <td>TAAG</td>\n",
              "    </tr>\n",
              "    <tr>\n",
              "      <th>13</th>\n",
              "      <td>Argentina</td>\n",
              "      <td>ARG</td>\n",
              "      <td>-63.578123</td>\n",
              "      <td>-31.578414</td>\n",
              "      <td>08.09.2020</td>\n",
              "      <td>Latest News:Argentine government authorizes so...</td>\n",
              "      <td>2020-09-08</td>\n",
              "      <td>Self-isolation</td>\n",
              "      <td>COVID-19 negative certification not required /...</td>\n",
              "      <td>Sep</td>\n",
              "      <td>2020.0</td>\n",
              "      <td>Aerolineas Argentinas</td>\n",
              "    </tr>\n",
              "    <tr>\n",
              "      <th>14</th>\n",
              "      <td>Argentina</td>\n",
              "      <td>ARG</td>\n",
              "      <td>-63.578123</td>\n",
              "      <td>-31.578414</td>\n",
              "      <td>08.09.2020</td>\n",
              "      <td>Latest News:Argentine government authorizes so...</td>\n",
              "      <td>2020-09-08</td>\n",
              "      <td>Self-isolation</td>\n",
              "      <td>COVID-19 negative certification not required /...</td>\n",
              "      <td>Sep</td>\n",
              "      <td>2020.0</td>\n",
              "      <td>Aerolineas Argentinas</td>\n",
              "    </tr>\n",
              "    <tr>\n",
              "      <th>15</th>\n",
              "      <td>Argentina</td>\n",
              "      <td>ARG</td>\n",
              "      <td>-63.578123</td>\n",
              "      <td>-31.578414</td>\n",
              "      <td>08.09.2020</td>\n",
              "      <td>Latest News:Argentine government authorizes so...</td>\n",
              "      <td>2020-09-08</td>\n",
              "      <td>Self-isolation</td>\n",
              "      <td>COVID-19 negative certification not required /...</td>\n",
              "      <td>Sep</td>\n",
              "      <td>2020.0</td>\n",
              "      <td>Aerolineas Argentinas</td>\n",
              "    </tr>\n",
              "  </tbody>\n",
              "</table>\n",
              "</div>"
            ],
            "text/plain": [
              "      Country Country_Code          X  ...  month    year                airline\n",
              "8      Angola          AGO  17.577532  ...    Sep  2020.0                   TAAG\n",
              "9      Angola          AGO  17.577532  ...    Sep  2020.0                   TAAG\n",
              "13  Argentina          ARG -63.578123  ...    Sep  2020.0  Aerolineas Argentinas\n",
              "14  Argentina          ARG -63.578123  ...    Sep  2020.0  Aerolineas Argentinas\n",
              "15  Argentina          ARG -63.578123  ...    Sep  2020.0  Aerolineas Argentinas\n",
              "\n",
              "[5 rows x 12 columns]"
            ]
          },
          "metadata": {
            "tags": []
          },
          "execution_count": 46
        }
      ]
    },
    {
      "cell_type": "code",
      "metadata": {
        "id": "LdA6H7Wp8V9l",
        "colab_type": "code",
        "colab": {
          "base_uri": "https://localhost:8080/",
          "height": 204
        },
        "outputId": "3df6f3e9-89cc-46fb-ade7-8cf5e900fad1"
      },
      "source": [
        "data.head()"
      ],
      "execution_count": 47,
      "outputs": [
        {
          "output_type": "execute_result",
          "data": {
            "text/html": [
              "<div>\n",
              "<style scoped>\n",
              "    .dataframe tbody tr th:only-of-type {\n",
              "        vertical-align: middle;\n",
              "    }\n",
              "\n",
              "    .dataframe tbody tr th {\n",
              "        vertical-align: top;\n",
              "    }\n",
              "\n",
              "    .dataframe thead th {\n",
              "        text-align: right;\n",
              "    }\n",
              "</style>\n",
              "<table border=\"1\" class=\"dataframe\">\n",
              "  <thead>\n",
              "    <tr style=\"text-align: right;\">\n",
              "      <th></th>\n",
              "      <th>Country</th>\n",
              "      <th>Country_Code</th>\n",
              "      <th>X</th>\n",
              "      <th>Y</th>\n",
              "      <th>published</th>\n",
              "      <th>info</th>\n",
              "      <th>Date</th>\n",
              "      <th>Quarantine_requirement</th>\n",
              "      <th>Certificate_Requirement</th>\n",
              "      <th>month</th>\n",
              "      <th>year</th>\n",
              "      <th>airline</th>\n",
              "    </tr>\n",
              "  </thead>\n",
              "  <tbody>\n",
              "    <tr>\n",
              "      <th>8</th>\n",
              "      <td>Angola</td>\n",
              "      <td>AGO</td>\n",
              "      <td>17.577532</td>\n",
              "      <td>-12.337524</td>\n",
              "      <td>04.09.2020</td>\n",
              "      <td>Latest News: Domestic and international non-co...</td>\n",
              "      <td>2020-09-04</td>\n",
              "      <td>Quarantine</td>\n",
              "      <td>COVID-19 negative certification required for e...</td>\n",
              "      <td>Sep</td>\n",
              "      <td>2020.0</td>\n",
              "      <td>TAAG</td>\n",
              "    </tr>\n",
              "    <tr>\n",
              "      <th>9</th>\n",
              "      <td>Angola</td>\n",
              "      <td>AGO</td>\n",
              "      <td>17.577532</td>\n",
              "      <td>-12.337524</td>\n",
              "      <td>04.09.2020</td>\n",
              "      <td>Latest News: Domestic and international non-co...</td>\n",
              "      <td>2020-09-04</td>\n",
              "      <td>Quarantine</td>\n",
              "      <td>COVID-19 negative certification required for e...</td>\n",
              "      <td>Sep</td>\n",
              "      <td>2020.0</td>\n",
              "      <td>TAAG</td>\n",
              "    </tr>\n",
              "    <tr>\n",
              "      <th>13</th>\n",
              "      <td>Argentina</td>\n",
              "      <td>ARG</td>\n",
              "      <td>-63.578123</td>\n",
              "      <td>-31.578414</td>\n",
              "      <td>08.09.2020</td>\n",
              "      <td>Latest News:Argentine government authorizes so...</td>\n",
              "      <td>2020-09-08</td>\n",
              "      <td>Self-isolation</td>\n",
              "      <td>COVID-19 negative certification not required /...</td>\n",
              "      <td>Sep</td>\n",
              "      <td>2020.0</td>\n",
              "      <td>Aerolineas Argentinas</td>\n",
              "    </tr>\n",
              "    <tr>\n",
              "      <th>14</th>\n",
              "      <td>Argentina</td>\n",
              "      <td>ARG</td>\n",
              "      <td>-63.578123</td>\n",
              "      <td>-31.578414</td>\n",
              "      <td>08.09.2020</td>\n",
              "      <td>Latest News:Argentine government authorizes so...</td>\n",
              "      <td>2020-09-08</td>\n",
              "      <td>Self-isolation</td>\n",
              "      <td>COVID-19 negative certification not required /...</td>\n",
              "      <td>Sep</td>\n",
              "      <td>2020.0</td>\n",
              "      <td>Aerolineas Argentinas</td>\n",
              "    </tr>\n",
              "    <tr>\n",
              "      <th>15</th>\n",
              "      <td>Argentina</td>\n",
              "      <td>ARG</td>\n",
              "      <td>-63.578123</td>\n",
              "      <td>-31.578414</td>\n",
              "      <td>08.09.2020</td>\n",
              "      <td>Latest News:Argentine government authorizes so...</td>\n",
              "      <td>2020-09-08</td>\n",
              "      <td>Self-isolation</td>\n",
              "      <td>COVID-19 negative certification not required /...</td>\n",
              "      <td>Sep</td>\n",
              "      <td>2020.0</td>\n",
              "      <td>Aerolineas Argentinas</td>\n",
              "    </tr>\n",
              "  </tbody>\n",
              "</table>\n",
              "</div>"
            ],
            "text/plain": [
              "      Country Country_Code          X  ...  month    year                airline\n",
              "8      Angola          AGO  17.577532  ...    Sep  2020.0                   TAAG\n",
              "9      Angola          AGO  17.577532  ...    Sep  2020.0                   TAAG\n",
              "13  Argentina          ARG -63.578123  ...    Sep  2020.0  Aerolineas Argentinas\n",
              "14  Argentina          ARG -63.578123  ...    Sep  2020.0  Aerolineas Argentinas\n",
              "15  Argentina          ARG -63.578123  ...    Sep  2020.0  Aerolineas Argentinas\n",
              "\n",
              "[5 rows x 12 columns]"
            ]
          },
          "metadata": {
            "tags": []
          },
          "execution_count": 47
        }
      ]
    },
    {
      "cell_type": "code",
      "metadata": {
        "id": "IpwdcCHV8XH2",
        "colab_type": "code",
        "colab": {}
      },
      "source": [
        "#\n"
      ],
      "execution_count": 48,
      "outputs": []
    },
    {
      "cell_type": "code",
      "metadata": {
        "id": "LQ2Pb92QK2ew",
        "colab_type": "code",
        "colab": {}
      },
      "source": [
        "#data[\"Certificate_Requirement\"] = data['Certificate_Requirement'].str.split().str[:4]\n"
      ],
      "execution_count": 49,
      "outputs": []
    },
    {
      "cell_type": "code",
      "metadata": {
        "id": "jw1TBPGdM0U-",
        "colab_type": "code",
        "colab": {
          "base_uri": "https://localhost:8080/",
          "height": 204
        },
        "outputId": "9a8f9399-2a19-49b1-d620-7cf557e4fc2e"
      },
      "source": [
        "data.head()"
      ],
      "execution_count": 50,
      "outputs": [
        {
          "output_type": "execute_result",
          "data": {
            "text/html": [
              "<div>\n",
              "<style scoped>\n",
              "    .dataframe tbody tr th:only-of-type {\n",
              "        vertical-align: middle;\n",
              "    }\n",
              "\n",
              "    .dataframe tbody tr th {\n",
              "        vertical-align: top;\n",
              "    }\n",
              "\n",
              "    .dataframe thead th {\n",
              "        text-align: right;\n",
              "    }\n",
              "</style>\n",
              "<table border=\"1\" class=\"dataframe\">\n",
              "  <thead>\n",
              "    <tr style=\"text-align: right;\">\n",
              "      <th></th>\n",
              "      <th>Country</th>\n",
              "      <th>Country_Code</th>\n",
              "      <th>X</th>\n",
              "      <th>Y</th>\n",
              "      <th>published</th>\n",
              "      <th>info</th>\n",
              "      <th>Date</th>\n",
              "      <th>Quarantine_requirement</th>\n",
              "      <th>Certificate_Requirement</th>\n",
              "      <th>month</th>\n",
              "      <th>year</th>\n",
              "      <th>airline</th>\n",
              "    </tr>\n",
              "  </thead>\n",
              "  <tbody>\n",
              "    <tr>\n",
              "      <th>8</th>\n",
              "      <td>Angola</td>\n",
              "      <td>AGO</td>\n",
              "      <td>17.577532</td>\n",
              "      <td>-12.337524</td>\n",
              "      <td>04.09.2020</td>\n",
              "      <td>Latest News: Domestic and international non-co...</td>\n",
              "      <td>2020-09-04</td>\n",
              "      <td>Quarantine</td>\n",
              "      <td>COVID-19 negative certification required for e...</td>\n",
              "      <td>Sep</td>\n",
              "      <td>2020.0</td>\n",
              "      <td>TAAG</td>\n",
              "    </tr>\n",
              "    <tr>\n",
              "      <th>9</th>\n",
              "      <td>Angola</td>\n",
              "      <td>AGO</td>\n",
              "      <td>17.577532</td>\n",
              "      <td>-12.337524</td>\n",
              "      <td>04.09.2020</td>\n",
              "      <td>Latest News: Domestic and international non-co...</td>\n",
              "      <td>2020-09-04</td>\n",
              "      <td>Quarantine</td>\n",
              "      <td>COVID-19 negative certification required for e...</td>\n",
              "      <td>Sep</td>\n",
              "      <td>2020.0</td>\n",
              "      <td>TAAG</td>\n",
              "    </tr>\n",
              "    <tr>\n",
              "      <th>13</th>\n",
              "      <td>Argentina</td>\n",
              "      <td>ARG</td>\n",
              "      <td>-63.578123</td>\n",
              "      <td>-31.578414</td>\n",
              "      <td>08.09.2020</td>\n",
              "      <td>Latest News:Argentine government authorizes so...</td>\n",
              "      <td>2020-09-08</td>\n",
              "      <td>Self-isolation</td>\n",
              "      <td>COVID-19 negative certification not required /...</td>\n",
              "      <td>Sep</td>\n",
              "      <td>2020.0</td>\n",
              "      <td>Aerolineas Argentinas</td>\n",
              "    </tr>\n",
              "    <tr>\n",
              "      <th>14</th>\n",
              "      <td>Argentina</td>\n",
              "      <td>ARG</td>\n",
              "      <td>-63.578123</td>\n",
              "      <td>-31.578414</td>\n",
              "      <td>08.09.2020</td>\n",
              "      <td>Latest News:Argentine government authorizes so...</td>\n",
              "      <td>2020-09-08</td>\n",
              "      <td>Self-isolation</td>\n",
              "      <td>COVID-19 negative certification not required /...</td>\n",
              "      <td>Sep</td>\n",
              "      <td>2020.0</td>\n",
              "      <td>Aerolineas Argentinas</td>\n",
              "    </tr>\n",
              "    <tr>\n",
              "      <th>15</th>\n",
              "      <td>Argentina</td>\n",
              "      <td>ARG</td>\n",
              "      <td>-63.578123</td>\n",
              "      <td>-31.578414</td>\n",
              "      <td>08.09.2020</td>\n",
              "      <td>Latest News:Argentine government authorizes so...</td>\n",
              "      <td>2020-09-08</td>\n",
              "      <td>Self-isolation</td>\n",
              "      <td>COVID-19 negative certification not required /...</td>\n",
              "      <td>Sep</td>\n",
              "      <td>2020.0</td>\n",
              "      <td>Aerolineas Argentinas</td>\n",
              "    </tr>\n",
              "  </tbody>\n",
              "</table>\n",
              "</div>"
            ],
            "text/plain": [
              "      Country Country_Code          X  ...  month    year                airline\n",
              "8      Angola          AGO  17.577532  ...    Sep  2020.0                   TAAG\n",
              "9      Angola          AGO  17.577532  ...    Sep  2020.0                   TAAG\n",
              "13  Argentina          ARG -63.578123  ...    Sep  2020.0  Aerolineas Argentinas\n",
              "14  Argentina          ARG -63.578123  ...    Sep  2020.0  Aerolineas Argentinas\n",
              "15  Argentina          ARG -63.578123  ...    Sep  2020.0  Aerolineas Argentinas\n",
              "\n",
              "[5 rows x 12 columns]"
            ]
          },
          "metadata": {
            "tags": []
          },
          "execution_count": 50
        }
      ]
    },
    {
      "cell_type": "code",
      "metadata": {
        "id": "KsbC0snqM1qM",
        "colab_type": "code",
        "colab": {}
      },
      "source": [
        ""
      ],
      "execution_count": 50,
      "outputs": []
    },
    {
      "cell_type": "code",
      "metadata": {
        "id": "44VHXl1TNWPQ",
        "colab_type": "code",
        "colab": {}
      },
      "source": [
        "data['Certificate_Requirement']=data['Certificate_Requirement'].apply(lambda x: ' '.join(x.split()[:4]))"
      ],
      "execution_count": 51,
      "outputs": []
    },
    {
      "cell_type": "code",
      "metadata": {
        "id": "3IYP8VEMNzME",
        "colab_type": "code",
        "colab": {
          "base_uri": "https://localhost:8080/",
          "height": 204
        },
        "outputId": "67aac520-64c7-46d5-a0db-7ed79d00a970"
      },
      "source": [
        "data.head()"
      ],
      "execution_count": 52,
      "outputs": [
        {
          "output_type": "execute_result",
          "data": {
            "text/html": [
              "<div>\n",
              "<style scoped>\n",
              "    .dataframe tbody tr th:only-of-type {\n",
              "        vertical-align: middle;\n",
              "    }\n",
              "\n",
              "    .dataframe tbody tr th {\n",
              "        vertical-align: top;\n",
              "    }\n",
              "\n",
              "    .dataframe thead th {\n",
              "        text-align: right;\n",
              "    }\n",
              "</style>\n",
              "<table border=\"1\" class=\"dataframe\">\n",
              "  <thead>\n",
              "    <tr style=\"text-align: right;\">\n",
              "      <th></th>\n",
              "      <th>Country</th>\n",
              "      <th>Country_Code</th>\n",
              "      <th>X</th>\n",
              "      <th>Y</th>\n",
              "      <th>published</th>\n",
              "      <th>info</th>\n",
              "      <th>Date</th>\n",
              "      <th>Quarantine_requirement</th>\n",
              "      <th>Certificate_Requirement</th>\n",
              "      <th>month</th>\n",
              "      <th>year</th>\n",
              "      <th>airline</th>\n",
              "    </tr>\n",
              "  </thead>\n",
              "  <tbody>\n",
              "    <tr>\n",
              "      <th>8</th>\n",
              "      <td>Angola</td>\n",
              "      <td>AGO</td>\n",
              "      <td>17.577532</td>\n",
              "      <td>-12.337524</td>\n",
              "      <td>04.09.2020</td>\n",
              "      <td>Latest News: Domestic and international non-co...</td>\n",
              "      <td>2020-09-04</td>\n",
              "      <td>Quarantine</td>\n",
              "      <td>COVID-19 negative certification required</td>\n",
              "      <td>Sep</td>\n",
              "      <td>2020.0</td>\n",
              "      <td>TAAG</td>\n",
              "    </tr>\n",
              "    <tr>\n",
              "      <th>9</th>\n",
              "      <td>Angola</td>\n",
              "      <td>AGO</td>\n",
              "      <td>17.577532</td>\n",
              "      <td>-12.337524</td>\n",
              "      <td>04.09.2020</td>\n",
              "      <td>Latest News: Domestic and international non-co...</td>\n",
              "      <td>2020-09-04</td>\n",
              "      <td>Quarantine</td>\n",
              "      <td>COVID-19 negative certification required</td>\n",
              "      <td>Sep</td>\n",
              "      <td>2020.0</td>\n",
              "      <td>TAAG</td>\n",
              "    </tr>\n",
              "    <tr>\n",
              "      <th>13</th>\n",
              "      <td>Argentina</td>\n",
              "      <td>ARG</td>\n",
              "      <td>-63.578123</td>\n",
              "      <td>-31.578414</td>\n",
              "      <td>08.09.2020</td>\n",
              "      <td>Latest News:Argentine government authorizes so...</td>\n",
              "      <td>2020-09-08</td>\n",
              "      <td>Self-isolation</td>\n",
              "      <td>COVID-19 negative certification not</td>\n",
              "      <td>Sep</td>\n",
              "      <td>2020.0</td>\n",
              "      <td>Aerolineas Argentinas</td>\n",
              "    </tr>\n",
              "    <tr>\n",
              "      <th>14</th>\n",
              "      <td>Argentina</td>\n",
              "      <td>ARG</td>\n",
              "      <td>-63.578123</td>\n",
              "      <td>-31.578414</td>\n",
              "      <td>08.09.2020</td>\n",
              "      <td>Latest News:Argentine government authorizes so...</td>\n",
              "      <td>2020-09-08</td>\n",
              "      <td>Self-isolation</td>\n",
              "      <td>COVID-19 negative certification not</td>\n",
              "      <td>Sep</td>\n",
              "      <td>2020.0</td>\n",
              "      <td>Aerolineas Argentinas</td>\n",
              "    </tr>\n",
              "    <tr>\n",
              "      <th>15</th>\n",
              "      <td>Argentina</td>\n",
              "      <td>ARG</td>\n",
              "      <td>-63.578123</td>\n",
              "      <td>-31.578414</td>\n",
              "      <td>08.09.2020</td>\n",
              "      <td>Latest News:Argentine government authorizes so...</td>\n",
              "      <td>2020-09-08</td>\n",
              "      <td>Self-isolation</td>\n",
              "      <td>COVID-19 negative certification not</td>\n",
              "      <td>Sep</td>\n",
              "      <td>2020.0</td>\n",
              "      <td>Aerolineas Argentinas</td>\n",
              "    </tr>\n",
              "  </tbody>\n",
              "</table>\n",
              "</div>"
            ],
            "text/plain": [
              "      Country Country_Code          X  ...  month    year                airline\n",
              "8      Angola          AGO  17.577532  ...    Sep  2020.0                   TAAG\n",
              "9      Angola          AGO  17.577532  ...    Sep  2020.0                   TAAG\n",
              "13  Argentina          ARG -63.578123  ...    Sep  2020.0  Aerolineas Argentinas\n",
              "14  Argentina          ARG -63.578123  ...    Sep  2020.0  Aerolineas Argentinas\n",
              "15  Argentina          ARG -63.578123  ...    Sep  2020.0  Aerolineas Argentinas\n",
              "\n",
              "[5 rows x 12 columns]"
            ]
          },
          "metadata": {
            "tags": []
          },
          "execution_count": 52
        }
      ]
    },
    {
      "cell_type": "code",
      "metadata": {
        "id": "jMwPtOgTOPXq",
        "colab_type": "code",
        "colab": {}
      },
      "source": [
        "data=data.rename(columns={\"Certificate_Requirement\": \"covid_negativeCertificate\"})"
      ],
      "execution_count": 53,
      "outputs": []
    },
    {
      "cell_type": "code",
      "metadata": {
        "id": "bKlhI9tGOdvK",
        "colab_type": "code",
        "colab": {
          "base_uri": "https://localhost:8080/",
          "height": 204
        },
        "outputId": "893b4784-23d2-4356-d858-d29f10026f71"
      },
      "source": [
        "data.head()"
      ],
      "execution_count": 54,
      "outputs": [
        {
          "output_type": "execute_result",
          "data": {
            "text/html": [
              "<div>\n",
              "<style scoped>\n",
              "    .dataframe tbody tr th:only-of-type {\n",
              "        vertical-align: middle;\n",
              "    }\n",
              "\n",
              "    .dataframe tbody tr th {\n",
              "        vertical-align: top;\n",
              "    }\n",
              "\n",
              "    .dataframe thead th {\n",
              "        text-align: right;\n",
              "    }\n",
              "</style>\n",
              "<table border=\"1\" class=\"dataframe\">\n",
              "  <thead>\n",
              "    <tr style=\"text-align: right;\">\n",
              "      <th></th>\n",
              "      <th>Country</th>\n",
              "      <th>Country_Code</th>\n",
              "      <th>X</th>\n",
              "      <th>Y</th>\n",
              "      <th>published</th>\n",
              "      <th>info</th>\n",
              "      <th>Date</th>\n",
              "      <th>Quarantine_requirement</th>\n",
              "      <th>covid_negativeCertificate</th>\n",
              "      <th>month</th>\n",
              "      <th>year</th>\n",
              "      <th>airline</th>\n",
              "    </tr>\n",
              "  </thead>\n",
              "  <tbody>\n",
              "    <tr>\n",
              "      <th>8</th>\n",
              "      <td>Angola</td>\n",
              "      <td>AGO</td>\n",
              "      <td>17.577532</td>\n",
              "      <td>-12.337524</td>\n",
              "      <td>04.09.2020</td>\n",
              "      <td>Latest News: Domestic and international non-co...</td>\n",
              "      <td>2020-09-04</td>\n",
              "      <td>Quarantine</td>\n",
              "      <td>COVID-19 negative certification required</td>\n",
              "      <td>Sep</td>\n",
              "      <td>2020.0</td>\n",
              "      <td>TAAG</td>\n",
              "    </tr>\n",
              "    <tr>\n",
              "      <th>9</th>\n",
              "      <td>Angola</td>\n",
              "      <td>AGO</td>\n",
              "      <td>17.577532</td>\n",
              "      <td>-12.337524</td>\n",
              "      <td>04.09.2020</td>\n",
              "      <td>Latest News: Domestic and international non-co...</td>\n",
              "      <td>2020-09-04</td>\n",
              "      <td>Quarantine</td>\n",
              "      <td>COVID-19 negative certification required</td>\n",
              "      <td>Sep</td>\n",
              "      <td>2020.0</td>\n",
              "      <td>TAAG</td>\n",
              "    </tr>\n",
              "    <tr>\n",
              "      <th>13</th>\n",
              "      <td>Argentina</td>\n",
              "      <td>ARG</td>\n",
              "      <td>-63.578123</td>\n",
              "      <td>-31.578414</td>\n",
              "      <td>08.09.2020</td>\n",
              "      <td>Latest News:Argentine government authorizes so...</td>\n",
              "      <td>2020-09-08</td>\n",
              "      <td>Self-isolation</td>\n",
              "      <td>COVID-19 negative certification not</td>\n",
              "      <td>Sep</td>\n",
              "      <td>2020.0</td>\n",
              "      <td>Aerolineas Argentinas</td>\n",
              "    </tr>\n",
              "    <tr>\n",
              "      <th>14</th>\n",
              "      <td>Argentina</td>\n",
              "      <td>ARG</td>\n",
              "      <td>-63.578123</td>\n",
              "      <td>-31.578414</td>\n",
              "      <td>08.09.2020</td>\n",
              "      <td>Latest News:Argentine government authorizes so...</td>\n",
              "      <td>2020-09-08</td>\n",
              "      <td>Self-isolation</td>\n",
              "      <td>COVID-19 negative certification not</td>\n",
              "      <td>Sep</td>\n",
              "      <td>2020.0</td>\n",
              "      <td>Aerolineas Argentinas</td>\n",
              "    </tr>\n",
              "    <tr>\n",
              "      <th>15</th>\n",
              "      <td>Argentina</td>\n",
              "      <td>ARG</td>\n",
              "      <td>-63.578123</td>\n",
              "      <td>-31.578414</td>\n",
              "      <td>08.09.2020</td>\n",
              "      <td>Latest News:Argentine government authorizes so...</td>\n",
              "      <td>2020-09-08</td>\n",
              "      <td>Self-isolation</td>\n",
              "      <td>COVID-19 negative certification not</td>\n",
              "      <td>Sep</td>\n",
              "      <td>2020.0</td>\n",
              "      <td>Aerolineas Argentinas</td>\n",
              "    </tr>\n",
              "  </tbody>\n",
              "</table>\n",
              "</div>"
            ],
            "text/plain": [
              "      Country Country_Code          X  ...  month    year                airline\n",
              "8      Angola          AGO  17.577532  ...    Sep  2020.0                   TAAG\n",
              "9      Angola          AGO  17.577532  ...    Sep  2020.0                   TAAG\n",
              "13  Argentina          ARG -63.578123  ...    Sep  2020.0  Aerolineas Argentinas\n",
              "14  Argentina          ARG -63.578123  ...    Sep  2020.0  Aerolineas Argentinas\n",
              "15  Argentina          ARG -63.578123  ...    Sep  2020.0  Aerolineas Argentinas\n",
              "\n",
              "[5 rows x 12 columns]"
            ]
          },
          "metadata": {
            "tags": []
          },
          "execution_count": 54
        }
      ]
    },
    {
      "cell_type": "code",
      "metadata": {
        "id": "Jro1dwMcOiNp",
        "colab_type": "code",
        "colab": {}
      },
      "source": [
        "data['covid_negativeCertificate']=data['covid_negativeCertificate'].replace('COVID-19 negative certification required','Required')"
      ],
      "execution_count": 55,
      "outputs": []
    },
    {
      "cell_type": "code",
      "metadata": {
        "id": "Esrd0zxmPH8X",
        "colab_type": "code",
        "colab": {}
      },
      "source": [
        "data['covid_negativeCertificate']=data['covid_negativeCertificate'].replace('COVID-19 negative certification not','Not Required')"
      ],
      "execution_count": 56,
      "outputs": []
    },
    {
      "cell_type": "code",
      "metadata": {
        "id": "EdbEIcHJPM7l",
        "colab_type": "code",
        "colab": {
          "base_uri": "https://localhost:8080/",
          "height": 204
        },
        "outputId": "97c05da4-e729-492a-fae3-5eb218dbbb14"
      },
      "source": [
        "data.head()"
      ],
      "execution_count": 57,
      "outputs": [
        {
          "output_type": "execute_result",
          "data": {
            "text/html": [
              "<div>\n",
              "<style scoped>\n",
              "    .dataframe tbody tr th:only-of-type {\n",
              "        vertical-align: middle;\n",
              "    }\n",
              "\n",
              "    .dataframe tbody tr th {\n",
              "        vertical-align: top;\n",
              "    }\n",
              "\n",
              "    .dataframe thead th {\n",
              "        text-align: right;\n",
              "    }\n",
              "</style>\n",
              "<table border=\"1\" class=\"dataframe\">\n",
              "  <thead>\n",
              "    <tr style=\"text-align: right;\">\n",
              "      <th></th>\n",
              "      <th>Country</th>\n",
              "      <th>Country_Code</th>\n",
              "      <th>X</th>\n",
              "      <th>Y</th>\n",
              "      <th>published</th>\n",
              "      <th>info</th>\n",
              "      <th>Date</th>\n",
              "      <th>Quarantine_requirement</th>\n",
              "      <th>covid_negativeCertificate</th>\n",
              "      <th>month</th>\n",
              "      <th>year</th>\n",
              "      <th>airline</th>\n",
              "    </tr>\n",
              "  </thead>\n",
              "  <tbody>\n",
              "    <tr>\n",
              "      <th>8</th>\n",
              "      <td>Angola</td>\n",
              "      <td>AGO</td>\n",
              "      <td>17.577532</td>\n",
              "      <td>-12.337524</td>\n",
              "      <td>04.09.2020</td>\n",
              "      <td>Latest News: Domestic and international non-co...</td>\n",
              "      <td>2020-09-04</td>\n",
              "      <td>Quarantine</td>\n",
              "      <td>Required</td>\n",
              "      <td>Sep</td>\n",
              "      <td>2020.0</td>\n",
              "      <td>TAAG</td>\n",
              "    </tr>\n",
              "    <tr>\n",
              "      <th>9</th>\n",
              "      <td>Angola</td>\n",
              "      <td>AGO</td>\n",
              "      <td>17.577532</td>\n",
              "      <td>-12.337524</td>\n",
              "      <td>04.09.2020</td>\n",
              "      <td>Latest News: Domestic and international non-co...</td>\n",
              "      <td>2020-09-04</td>\n",
              "      <td>Quarantine</td>\n",
              "      <td>Required</td>\n",
              "      <td>Sep</td>\n",
              "      <td>2020.0</td>\n",
              "      <td>TAAG</td>\n",
              "    </tr>\n",
              "    <tr>\n",
              "      <th>13</th>\n",
              "      <td>Argentina</td>\n",
              "      <td>ARG</td>\n",
              "      <td>-63.578123</td>\n",
              "      <td>-31.578414</td>\n",
              "      <td>08.09.2020</td>\n",
              "      <td>Latest News:Argentine government authorizes so...</td>\n",
              "      <td>2020-09-08</td>\n",
              "      <td>Self-isolation</td>\n",
              "      <td>Not Required</td>\n",
              "      <td>Sep</td>\n",
              "      <td>2020.0</td>\n",
              "      <td>Aerolineas Argentinas</td>\n",
              "    </tr>\n",
              "    <tr>\n",
              "      <th>14</th>\n",
              "      <td>Argentina</td>\n",
              "      <td>ARG</td>\n",
              "      <td>-63.578123</td>\n",
              "      <td>-31.578414</td>\n",
              "      <td>08.09.2020</td>\n",
              "      <td>Latest News:Argentine government authorizes so...</td>\n",
              "      <td>2020-09-08</td>\n",
              "      <td>Self-isolation</td>\n",
              "      <td>Not Required</td>\n",
              "      <td>Sep</td>\n",
              "      <td>2020.0</td>\n",
              "      <td>Aerolineas Argentinas</td>\n",
              "    </tr>\n",
              "    <tr>\n",
              "      <th>15</th>\n",
              "      <td>Argentina</td>\n",
              "      <td>ARG</td>\n",
              "      <td>-63.578123</td>\n",
              "      <td>-31.578414</td>\n",
              "      <td>08.09.2020</td>\n",
              "      <td>Latest News:Argentine government authorizes so...</td>\n",
              "      <td>2020-09-08</td>\n",
              "      <td>Self-isolation</td>\n",
              "      <td>Not Required</td>\n",
              "      <td>Sep</td>\n",
              "      <td>2020.0</td>\n",
              "      <td>Aerolineas Argentinas</td>\n",
              "    </tr>\n",
              "  </tbody>\n",
              "</table>\n",
              "</div>"
            ],
            "text/plain": [
              "      Country Country_Code          X  ...  month    year                airline\n",
              "8      Angola          AGO  17.577532  ...    Sep  2020.0                   TAAG\n",
              "9      Angola          AGO  17.577532  ...    Sep  2020.0                   TAAG\n",
              "13  Argentina          ARG -63.578123  ...    Sep  2020.0  Aerolineas Argentinas\n",
              "14  Argentina          ARG -63.578123  ...    Sep  2020.0  Aerolineas Argentinas\n",
              "15  Argentina          ARG -63.578123  ...    Sep  2020.0  Aerolineas Argentinas\n",
              "\n",
              "[5 rows x 12 columns]"
            ]
          },
          "metadata": {
            "tags": []
          },
          "execution_count": 57
        }
      ]
    },
    {
      "cell_type": "code",
      "metadata": {
        "id": "ffNwNERJPOsZ",
        "colab_type": "code",
        "colab": {}
      },
      "source": [
        ""
      ],
      "execution_count": 57,
      "outputs": []
    },
    {
      "cell_type": "code",
      "metadata": {
        "id": "FRlfl5QRQQs4",
        "colab_type": "code",
        "colab": {}
      },
      "source": [
        "data['covid_negativeCertificate']=data['covid_negativeCertificate'].replace('COVID-19 negative certification required.','Required')"
      ],
      "execution_count": 58,
      "outputs": []
    },
    {
      "cell_type": "code",
      "metadata": {
        "id": "3Z510YIBQUe1",
        "colab_type": "code",
        "colab": {}
      },
      "source": [
        "data['covid_negativeCertificate']=data['covid_negativeCertificate'].replace('COVID-19 negative certification required-','Required')"
      ],
      "execution_count": 59,
      "outputs": []
    },
    {
      "cell_type": "code",
      "metadata": {
        "id": "02HfqOAiQZTI",
        "colab_type": "code",
        "colab": {}
      },
      "source": [
        "data['covid_negativeCertificate']=data['covid_negativeCertificate'].replace('COVID-19 negative certification subject','Special_Conditions')"
      ],
      "execution_count": 60,
      "outputs": []
    },
    {
      "cell_type": "code",
      "metadata": {
        "id": "LmJYGMavQzkr",
        "colab_type": "code",
        "colab": {}
      },
      "source": [
        "data['covid_negativeCertificate']=data['covid_negativeCertificate'].replace('COVID-19 negative certification is','Required')"
      ],
      "execution_count": 61,
      "outputs": []
    },
    {
      "cell_type": "code",
      "metadata": {
        "id": "W3rNZ5gVPh5g",
        "colab_type": "code",
        "colab": {
          "base_uri": "https://localhost:8080/",
          "height": 34
        },
        "outputId": "6e8a7bbf-e831-4fd6-9056-1a63c3f46d25"
      },
      "source": [
        "data.covid_negativeCertificate.unique()"
      ],
      "execution_count": 62,
      "outputs": [
        {
          "output_type": "execute_result",
          "data": {
            "text/plain": [
              "array(['Required', 'Not Required', 'Special_Conditions'], dtype=object)"
            ]
          },
          "metadata": {
            "tags": []
          },
          "execution_count": 62
        }
      ]
    },
    {
      "cell_type": "code",
      "metadata": {
        "id": "VBKh4wS7RxY3",
        "colab_type": "code",
        "colab": {}
      },
      "source": [
        "data.to_csv(\"Final2.csv\",sep=',')"
      ],
      "execution_count": 63,
      "outputs": []
    },
    {
      "cell_type": "code",
      "metadata": {
        "id": "2DU_5Miupyo6",
        "colab_type": "code",
        "colab": {
          "base_uri": "https://localhost:8080/",
          "height": 452
        },
        "outputId": "8bc14351-ab94-4fd6-df92-815a180bfe65"
      },
      "source": [
        "count = data.groupby(['month', 'Quarantine_requirement']).size() \n",
        "count=pd.DataFrame(count)\n",
        "count"
      ],
      "execution_count": 64,
      "outputs": [
        {
          "output_type": "execute_result",
          "data": {
            "text/html": [
              "<div>\n",
              "<style scoped>\n",
              "    .dataframe tbody tr th:only-of-type {\n",
              "        vertical-align: middle;\n",
              "    }\n",
              "\n",
              "    .dataframe tbody tr th {\n",
              "        vertical-align: top;\n",
              "    }\n",
              "\n",
              "    .dataframe thead th {\n",
              "        text-align: right;\n",
              "    }\n",
              "</style>\n",
              "<table border=\"1\" class=\"dataframe\">\n",
              "  <thead>\n",
              "    <tr style=\"text-align: right;\">\n",
              "      <th></th>\n",
              "      <th></th>\n",
              "      <th>0</th>\n",
              "    </tr>\n",
              "    <tr>\n",
              "      <th>month</th>\n",
              "      <th>Quarantine_requirement</th>\n",
              "      <th></th>\n",
              "    </tr>\n",
              "  </thead>\n",
              "  <tbody>\n",
              "    <tr>\n",
              "      <th rowspan=\"3\" valign=\"top\">Aug</th>\n",
              "      <th>No</th>\n",
              "      <td>7</td>\n",
              "    </tr>\n",
              "    <tr>\n",
              "      <th>Quarantine</th>\n",
              "      <td>75</td>\n",
              "    </tr>\n",
              "    <tr>\n",
              "      <th>Self-isolation</th>\n",
              "      <td>91</td>\n",
              "    </tr>\n",
              "    <tr>\n",
              "      <th rowspan=\"3\" valign=\"top\">Jul</th>\n",
              "      <th>No</th>\n",
              "      <td>16</td>\n",
              "    </tr>\n",
              "    <tr>\n",
              "      <th>Quarantine</th>\n",
              "      <td>40</td>\n",
              "    </tr>\n",
              "    <tr>\n",
              "      <th>Self-isolation</th>\n",
              "      <td>29</td>\n",
              "    </tr>\n",
              "    <tr>\n",
              "      <th>Jun</th>\n",
              "      <th>Quarantine</th>\n",
              "      <td>18</td>\n",
              "    </tr>\n",
              "    <tr>\n",
              "      <th>May</th>\n",
              "      <th>Quarantine</th>\n",
              "      <td>1</td>\n",
              "    </tr>\n",
              "    <tr>\n",
              "      <th rowspan=\"4\" valign=\"top\">Sep</th>\n",
              "      <th>No</th>\n",
              "      <td>11</td>\n",
              "    </tr>\n",
              "    <tr>\n",
              "      <th>Passengers</th>\n",
              "      <td>1</td>\n",
              "    </tr>\n",
              "    <tr>\n",
              "      <th>Quarantine</th>\n",
              "      <td>260</td>\n",
              "    </tr>\n",
              "    <tr>\n",
              "      <th>Self-isolation</th>\n",
              "      <td>440</td>\n",
              "    </tr>\n",
              "  </tbody>\n",
              "</table>\n",
              "</div>"
            ],
            "text/plain": [
              "                                0\n",
              "month Quarantine_requirement     \n",
              "Aug   No                        7\n",
              "      Quarantine               75\n",
              "      Self-isolation           91\n",
              "Jul   No                       16\n",
              "      Quarantine               40\n",
              "      Self-isolation           29\n",
              "Jun   Quarantine               18\n",
              "May   Quarantine                1\n",
              "Sep   No                       11\n",
              "      Passengers                1\n",
              "      Quarantine              260\n",
              "      Self-isolation          440"
            ]
          },
          "metadata": {
            "tags": []
          },
          "execution_count": 64
        }
      ]
    },
    {
      "cell_type": "code",
      "metadata": {
        "id": "iLxCcjaRryAg",
        "colab_type": "code",
        "colab": {}
      },
      "source": [
        "count.reset_index(level=0, inplace=True)"
      ],
      "execution_count": 65,
      "outputs": []
    },
    {
      "cell_type": "code",
      "metadata": {
        "id": "LL-Ky1xwr6dy",
        "colab_type": "code",
        "colab": {}
      },
      "source": [
        "count.reset_index(level=0, inplace=True)"
      ],
      "execution_count": 66,
      "outputs": []
    },
    {
      "cell_type": "code",
      "metadata": {
        "id": "YfNmlXtE3y_H",
        "colab_type": "code",
        "colab": {
          "base_uri": "https://localhost:8080/",
          "height": 421
        },
        "outputId": "a314cb15-5718-434d-9f38-e2b44a11600e"
      },
      "source": [
        "#count.head()\n",
        "count=count.rename(columns={0: \"values\"})\n",
        "count"
      ],
      "execution_count": 67,
      "outputs": [
        {
          "output_type": "execute_result",
          "data": {
            "text/html": [
              "<div>\n",
              "<style scoped>\n",
              "    .dataframe tbody tr th:only-of-type {\n",
              "        vertical-align: middle;\n",
              "    }\n",
              "\n",
              "    .dataframe tbody tr th {\n",
              "        vertical-align: top;\n",
              "    }\n",
              "\n",
              "    .dataframe thead th {\n",
              "        text-align: right;\n",
              "    }\n",
              "</style>\n",
              "<table border=\"1\" class=\"dataframe\">\n",
              "  <thead>\n",
              "    <tr style=\"text-align: right;\">\n",
              "      <th></th>\n",
              "      <th>Quarantine_requirement</th>\n",
              "      <th>month</th>\n",
              "      <th>values</th>\n",
              "    </tr>\n",
              "  </thead>\n",
              "  <tbody>\n",
              "    <tr>\n",
              "      <th>0</th>\n",
              "      <td>No</td>\n",
              "      <td>Aug</td>\n",
              "      <td>7</td>\n",
              "    </tr>\n",
              "    <tr>\n",
              "      <th>1</th>\n",
              "      <td>Quarantine</td>\n",
              "      <td>Aug</td>\n",
              "      <td>75</td>\n",
              "    </tr>\n",
              "    <tr>\n",
              "      <th>2</th>\n",
              "      <td>Self-isolation</td>\n",
              "      <td>Aug</td>\n",
              "      <td>91</td>\n",
              "    </tr>\n",
              "    <tr>\n",
              "      <th>3</th>\n",
              "      <td>No</td>\n",
              "      <td>Jul</td>\n",
              "      <td>16</td>\n",
              "    </tr>\n",
              "    <tr>\n",
              "      <th>4</th>\n",
              "      <td>Quarantine</td>\n",
              "      <td>Jul</td>\n",
              "      <td>40</td>\n",
              "    </tr>\n",
              "    <tr>\n",
              "      <th>5</th>\n",
              "      <td>Self-isolation</td>\n",
              "      <td>Jul</td>\n",
              "      <td>29</td>\n",
              "    </tr>\n",
              "    <tr>\n",
              "      <th>6</th>\n",
              "      <td>Quarantine</td>\n",
              "      <td>Jun</td>\n",
              "      <td>18</td>\n",
              "    </tr>\n",
              "    <tr>\n",
              "      <th>7</th>\n",
              "      <td>Quarantine</td>\n",
              "      <td>May</td>\n",
              "      <td>1</td>\n",
              "    </tr>\n",
              "    <tr>\n",
              "      <th>8</th>\n",
              "      <td>No</td>\n",
              "      <td>Sep</td>\n",
              "      <td>11</td>\n",
              "    </tr>\n",
              "    <tr>\n",
              "      <th>9</th>\n",
              "      <td>Passengers</td>\n",
              "      <td>Sep</td>\n",
              "      <td>1</td>\n",
              "    </tr>\n",
              "    <tr>\n",
              "      <th>10</th>\n",
              "      <td>Quarantine</td>\n",
              "      <td>Sep</td>\n",
              "      <td>260</td>\n",
              "    </tr>\n",
              "    <tr>\n",
              "      <th>11</th>\n",
              "      <td>Self-isolation</td>\n",
              "      <td>Sep</td>\n",
              "      <td>440</td>\n",
              "    </tr>\n",
              "  </tbody>\n",
              "</table>\n",
              "</div>"
            ],
            "text/plain": [
              "   Quarantine_requirement month  values\n",
              "0                      No   Aug       7\n",
              "1              Quarantine   Aug      75\n",
              "2          Self-isolation   Aug      91\n",
              "3                      No   Jul      16\n",
              "4              Quarantine   Jul      40\n",
              "5          Self-isolation   Jul      29\n",
              "6              Quarantine   Jun      18\n",
              "7              Quarantine   May       1\n",
              "8                      No   Sep      11\n",
              "9              Passengers   Sep       1\n",
              "10             Quarantine   Sep     260\n",
              "11         Self-isolation   Sep     440"
            ]
          },
          "metadata": {
            "tags": []
          },
          "execution_count": 67
        }
      ]
    },
    {
      "cell_type": "code",
      "metadata": {
        "id": "EbaxmhZA3hZZ",
        "colab_type": "code",
        "colab": {
          "base_uri": "https://localhost:8080/",
          "height": 266
        },
        "outputId": "6451802e-80e9-4140-b34f-67b4ccede080"
      },
      "source": [
        "newf = count.pivot(index='month', columns='Quarantine_requirement')\n",
        "newf"
      ],
      "execution_count": 68,
      "outputs": [
        {
          "output_type": "execute_result",
          "data": {
            "text/html": [
              "<div>\n",
              "<style scoped>\n",
              "    .dataframe tbody tr th:only-of-type {\n",
              "        vertical-align: middle;\n",
              "    }\n",
              "\n",
              "    .dataframe tbody tr th {\n",
              "        vertical-align: top;\n",
              "    }\n",
              "\n",
              "    .dataframe thead tr th {\n",
              "        text-align: left;\n",
              "    }\n",
              "\n",
              "    .dataframe thead tr:last-of-type th {\n",
              "        text-align: right;\n",
              "    }\n",
              "</style>\n",
              "<table border=\"1\" class=\"dataframe\">\n",
              "  <thead>\n",
              "    <tr>\n",
              "      <th></th>\n",
              "      <th colspan=\"4\" halign=\"left\">values</th>\n",
              "    </tr>\n",
              "    <tr>\n",
              "      <th>Quarantine_requirement</th>\n",
              "      <th>No</th>\n",
              "      <th>Passengers</th>\n",
              "      <th>Quarantine</th>\n",
              "      <th>Self-isolation</th>\n",
              "    </tr>\n",
              "    <tr>\n",
              "      <th>month</th>\n",
              "      <th></th>\n",
              "      <th></th>\n",
              "      <th></th>\n",
              "      <th></th>\n",
              "    </tr>\n",
              "  </thead>\n",
              "  <tbody>\n",
              "    <tr>\n",
              "      <th>Aug</th>\n",
              "      <td>7.0</td>\n",
              "      <td>NaN</td>\n",
              "      <td>75.0</td>\n",
              "      <td>91.0</td>\n",
              "    </tr>\n",
              "    <tr>\n",
              "      <th>Jul</th>\n",
              "      <td>16.0</td>\n",
              "      <td>NaN</td>\n",
              "      <td>40.0</td>\n",
              "      <td>29.0</td>\n",
              "    </tr>\n",
              "    <tr>\n",
              "      <th>Jun</th>\n",
              "      <td>NaN</td>\n",
              "      <td>NaN</td>\n",
              "      <td>18.0</td>\n",
              "      <td>NaN</td>\n",
              "    </tr>\n",
              "    <tr>\n",
              "      <th>May</th>\n",
              "      <td>NaN</td>\n",
              "      <td>NaN</td>\n",
              "      <td>1.0</td>\n",
              "      <td>NaN</td>\n",
              "    </tr>\n",
              "    <tr>\n",
              "      <th>Sep</th>\n",
              "      <td>11.0</td>\n",
              "      <td>1.0</td>\n",
              "      <td>260.0</td>\n",
              "      <td>440.0</td>\n",
              "    </tr>\n",
              "  </tbody>\n",
              "</table>\n",
              "</div>"
            ],
            "text/plain": [
              "                       values                                     \n",
              "Quarantine_requirement     No Passengers Quarantine Self-isolation\n",
              "month                                                             \n",
              "Aug                       7.0        NaN       75.0           91.0\n",
              "Jul                      16.0        NaN       40.0           29.0\n",
              "Jun                       NaN        NaN       18.0            NaN\n",
              "May                       NaN        NaN        1.0            NaN\n",
              "Sep                      11.0        1.0      260.0          440.0"
            ]
          },
          "metadata": {
            "tags": []
          },
          "execution_count": 68
        }
      ]
    },
    {
      "cell_type": "code",
      "metadata": {
        "id": "xZ2r9b4mL7U7",
        "colab_type": "code",
        "colab": {}
      },
      "source": [
        "newf.columns = newf.columns.droplevel(0)"
      ],
      "execution_count": 69,
      "outputs": []
    },
    {
      "cell_type": "code",
      "metadata": {
        "id": "BVtjcfSwM2GG",
        "colab_type": "code",
        "colab": {}
      },
      "source": [
        "newf.columns.name = ' '"
      ],
      "execution_count": 70,
      "outputs": []
    },
    {
      "cell_type": "code",
      "metadata": {
        "id": "WmB3LyBYPoJx",
        "colab_type": "code",
        "colab": {}
      },
      "source": [
        "newf.reset_index(level=0, inplace=True)"
      ],
      "execution_count": 71,
      "outputs": []
    },
    {
      "cell_type": "code",
      "metadata": {
        "id": "V8c4iLsYP5dC",
        "colab_type": "code",
        "colab": {
          "base_uri": "https://localhost:8080/",
          "height": 204
        },
        "outputId": "4cbaf2ae-e51f-443f-e667-65495ea186fc"
      },
      "source": [
        "newf.fillna(0)"
      ],
      "execution_count": 72,
      "outputs": [
        {
          "output_type": "execute_result",
          "data": {
            "text/html": [
              "<div>\n",
              "<style scoped>\n",
              "    .dataframe tbody tr th:only-of-type {\n",
              "        vertical-align: middle;\n",
              "    }\n",
              "\n",
              "    .dataframe tbody tr th {\n",
              "        vertical-align: top;\n",
              "    }\n",
              "\n",
              "    .dataframe thead th {\n",
              "        text-align: right;\n",
              "    }\n",
              "</style>\n",
              "<table border=\"1\" class=\"dataframe\">\n",
              "  <thead>\n",
              "    <tr style=\"text-align: right;\">\n",
              "      <th></th>\n",
              "      <th>month</th>\n",
              "      <th>No</th>\n",
              "      <th>Passengers</th>\n",
              "      <th>Quarantine</th>\n",
              "      <th>Self-isolation</th>\n",
              "    </tr>\n",
              "  </thead>\n",
              "  <tbody>\n",
              "    <tr>\n",
              "      <th>0</th>\n",
              "      <td>Aug</td>\n",
              "      <td>7.0</td>\n",
              "      <td>0.0</td>\n",
              "      <td>75.0</td>\n",
              "      <td>91.0</td>\n",
              "    </tr>\n",
              "    <tr>\n",
              "      <th>1</th>\n",
              "      <td>Jul</td>\n",
              "      <td>16.0</td>\n",
              "      <td>0.0</td>\n",
              "      <td>40.0</td>\n",
              "      <td>29.0</td>\n",
              "    </tr>\n",
              "    <tr>\n",
              "      <th>2</th>\n",
              "      <td>Jun</td>\n",
              "      <td>0.0</td>\n",
              "      <td>0.0</td>\n",
              "      <td>18.0</td>\n",
              "      <td>0.0</td>\n",
              "    </tr>\n",
              "    <tr>\n",
              "      <th>3</th>\n",
              "      <td>May</td>\n",
              "      <td>0.0</td>\n",
              "      <td>0.0</td>\n",
              "      <td>1.0</td>\n",
              "      <td>0.0</td>\n",
              "    </tr>\n",
              "    <tr>\n",
              "      <th>4</th>\n",
              "      <td>Sep</td>\n",
              "      <td>11.0</td>\n",
              "      <td>1.0</td>\n",
              "      <td>260.0</td>\n",
              "      <td>440.0</td>\n",
              "    </tr>\n",
              "  </tbody>\n",
              "</table>\n",
              "</div>"
            ],
            "text/plain": [
              "  month    No  Passengers  Quarantine  Self-isolation\n",
              "0   Aug   7.0         0.0        75.0            91.0\n",
              "1   Jul  16.0         0.0        40.0            29.0\n",
              "2   Jun   0.0         0.0        18.0             0.0\n",
              "3   May   0.0         0.0         1.0             0.0\n",
              "4   Sep  11.0         1.0       260.0           440.0"
            ]
          },
          "metadata": {
            "tags": []
          },
          "execution_count": 72
        }
      ]
    },
    {
      "cell_type": "code",
      "metadata": {
        "id": "S6TbO0mpRSZp",
        "colab_type": "code",
        "colab": {
          "base_uri": "https://localhost:8080/",
          "height": 369
        },
        "outputId": "9e704beb-f99d-448e-cd84-5d6fce6dba80"
      },
      "source": [
        "#plotting a grouped bar graph to check the death rates and comparing the HIV and Non-Hiv related death rates.\n",
        "\n",
        "n_groups = 5\n",
        "fig, ax = plt.subplots(figsize=(13,5))\n",
        "bar_width = 0.20\n",
        "opacity = 0.8\n",
        "index = np.arange(n_groups)\n",
        "\n",
        "rects1 = plt.bar(index - bar_width, newf['No'], bar_width,alpha=opacity,color='r',label='No Quarantine')\n",
        "rects2 = plt.bar(index, newf['Quarantine'], bar_width,alpha=opacity,color='g',label='Quarantine')\n",
        "rects3 = plt.bar(index + bar_width, newf['Self-isolation'], bar_width,alpha=opacity,color='y',label='Self-isolation')\n",
        "plt.xlabel('Months in 2020', fontsize=18)\n",
        "plt.ylabel('Count of quarantine Restrictions', fontsize=18)\n",
        "plt.title('Quarantine Restrictions over the months in 2020',fontsize=23)\n",
        "plt.xticks(index + bar_width, ('August', 'July', 'June', 'May', 'September'))\n",
        "plt.legend()\n",
        "plt.tight_layout()\n",
        "plt.show()\n",
        "\n",
        "#citation: https://pythonspot.com/matplotlib-bar-chart/\n",
        "#citation: https://stackoverflow.com/questions/47838680/matplotlib-xticks-values-in-bar-chart\n",
        "#citation: https://stackoverflow.com/questions/51080491/matplotlib-how-to-change-figsize-for-double-bar-plot/51081443\n",
        "#citation:https://stackoverflow.com/questions/14270391/python-matplotlib-multiple-bars"
      ],
      "execution_count": 73,
      "outputs": [
        {
          "output_type": "display_data",
          "data": {
            "image/png": "[encoded data removed]",
            "text/plain": [
              "<Figure size 936x360 with 1 Axes>"
            ]
          },
          "metadata": {
            "tags": [],
            "needs_background": "light"
          }
        }
      ]
    },
    {
      "cell_type": "code",
      "metadata": {
        "id": "rz7JzuyKfJQN",
        "colab_type": "code",
        "colab": {
          "base_uri": "https://localhost:8080/",
          "height": 204
        },
        "outputId": "45958454-bcaf-4be6-b0f8-354ec7b46562"
      },
      "source": [
        "data.head()"
      ],
      "execution_count": 90,
      "outputs": [
        {
          "output_type": "execute_result",
          "data": {
            "text/html": [
              "<div>\n",
              "<style scoped>\n",
              "    .dataframe tbody tr th:only-of-type {\n",
              "        vertical-align: middle;\n",
              "    }\n",
              "\n",
              "    .dataframe tbody tr th {\n",
              "        vertical-align: top;\n",
              "    }\n",
              "\n",
              "    .dataframe thead th {\n",
              "        text-align: right;\n",
              "    }\n",
              "</style>\n",
              "<table border=\"1\" class=\"dataframe\">\n",
              "  <thead>\n",
              "    <tr style=\"text-align: right;\">\n",
              "      <th></th>\n",
              "      <th>Country</th>\n",
              "      <th>Country_Code</th>\n",
              "      <th>X</th>\n",
              "      <th>Y</th>\n",
              "      <th>published</th>\n",
              "      <th>info</th>\n",
              "      <th>Date</th>\n",
              "      <th>Quarantine_requirement</th>\n",
              "      <th>covid_negativeCertificate</th>\n",
              "      <th>month</th>\n",
              "      <th>year</th>\n",
              "      <th>airline</th>\n",
              "    </tr>\n",
              "  </thead>\n",
              "  <tbody>\n",
              "    <tr>\n",
              "      <th>8</th>\n",
              "      <td>Angola</td>\n",
              "      <td>AGO</td>\n",
              "      <td>17.577532</td>\n",
              "      <td>-12.337524</td>\n",
              "      <td>04.09.2020</td>\n",
              "      <td>Latest News: Domestic and international non-co...</td>\n",
              "      <td>2020-09-04</td>\n",
              "      <td>Quarantine</td>\n",
              "      <td>Required</td>\n",
              "      <td>Sep</td>\n",
              "      <td>2020.0</td>\n",
              "      <td>TAAG</td>\n",
              "    </tr>\n",
              "    <tr>\n",
              "      <th>9</th>\n",
              "      <td>Angola</td>\n",
              "      <td>AGO</td>\n",
              "      <td>17.577532</td>\n",
              "      <td>-12.337524</td>\n",
              "      <td>04.09.2020</td>\n",
              "      <td>Latest News: Domestic and international non-co...</td>\n",
              "      <td>2020-09-04</td>\n",
              "      <td>Quarantine</td>\n",
              "      <td>Required</td>\n",
              "      <td>Sep</td>\n",
              "      <td>2020.0</td>\n",
              "      <td>TAAG</td>\n",
              "    </tr>\n",
              "    <tr>\n",
              "      <th>13</th>\n",
              "      <td>Argentina</td>\n",
              "      <td>ARG</td>\n",
              "      <td>-63.578123</td>\n",
              "      <td>-31.578414</td>\n",
              "      <td>08.09.2020</td>\n",
              "      <td>Latest News:Argentine government authorizes so...</td>\n",
              "      <td>2020-09-08</td>\n",
              "      <td>Self-isolation</td>\n",
              "      <td>Not Required</td>\n",
              "      <td>Sep</td>\n",
              "      <td>2020.0</td>\n",
              "      <td>Aerolineas Argentinas</td>\n",
              "    </tr>\n",
              "    <tr>\n",
              "      <th>14</th>\n",
              "      <td>Argentina</td>\n",
              "      <td>ARG</td>\n",
              "      <td>-63.578123</td>\n",
              "      <td>-31.578414</td>\n",
              "      <td>08.09.2020</td>\n",
              "      <td>Latest News:Argentine government authorizes so...</td>\n",
              "      <td>2020-09-08</td>\n",
              "      <td>Self-isolation</td>\n",
              "      <td>Not Required</td>\n",
              "      <td>Sep</td>\n",
              "      <td>2020.0</td>\n",
              "      <td>Aerolineas Argentinas</td>\n",
              "    </tr>\n",
              "    <tr>\n",
              "      <th>15</th>\n",
              "      <td>Argentina</td>\n",
              "      <td>ARG</td>\n",
              "      <td>-63.578123</td>\n",
              "      <td>-31.578414</td>\n",
              "      <td>08.09.2020</td>\n",
              "      <td>Latest News:Argentine government authorizes so...</td>\n",
              "      <td>2020-09-08</td>\n",
              "      <td>Self-isolation</td>\n",
              "      <td>Not Required</td>\n",
              "      <td>Sep</td>\n",
              "      <td>2020.0</td>\n",
              "      <td>Aerolineas Argentinas</td>\n",
              "    </tr>\n",
              "  </tbody>\n",
              "</table>\n",
              "</div>"
            ],
            "text/plain": [
              "      Country Country_Code          X  ...  month    year                airline\n",
              "8      Angola          AGO  17.577532  ...    Sep  2020.0                   TAAG\n",
              "9      Angola          AGO  17.577532  ...    Sep  2020.0                   TAAG\n",
              "13  Argentina          ARG -63.578123  ...    Sep  2020.0  Aerolineas Argentinas\n",
              "14  Argentina          ARG -63.578123  ...    Sep  2020.0  Aerolineas Argentinas\n",
              "15  Argentina          ARG -63.578123  ...    Sep  2020.0  Aerolineas Argentinas\n",
              "\n",
              "[5 rows x 12 columns]"
            ]
          },
          "metadata": {
            "tags": []
          },
          "execution_count": 90
        }
      ]
    },
    {
      "cell_type": "code",
      "metadata": {
        "id": "67KP9SB3fe7B",
        "colab_type": "code",
        "colab": {
          "base_uri": "https://localhost:8080/",
          "height": 419
        },
        "outputId": "28665810-11d8-421a-b62e-b8f3d9470453"
      },
      "source": [
        "data_new=data[data['Quarantine_requirement'] == 'Self-isolation']\n",
        "data_new = data_new.reset_index(drop=True)\n",
        "data_new"
      ],
      "execution_count": 106,
      "outputs": [
        {
          "output_type": "execute_result",
          "data": {
            "text/html": [
              "<div>\n",
              "<style scoped>\n",
              "    .dataframe tbody tr th:only-of-type {\n",
              "        vertical-align: middle;\n",
              "    }\n",
              "\n",
              "    .dataframe tbody tr th {\n",
              "        vertical-align: top;\n",
              "    }\n",
              "\n",
              "    .dataframe thead th {\n",
              "        text-align: right;\n",
              "    }\n",
              "</style>\n",
              "<table border=\"1\" class=\"dataframe\">\n",
              "  <thead>\n",
              "    <tr style=\"text-align: right;\">\n",
              "      <th></th>\n",
              "      <th>Country</th>\n",
              "      <th>Country_Code</th>\n",
              "      <th>X</th>\n",
              "      <th>Y</th>\n",
              "      <th>published</th>\n",
              "      <th>info</th>\n",
              "      <th>Date</th>\n",
              "      <th>Quarantine_requirement</th>\n",
              "      <th>covid_negativeCertificate</th>\n",
              "      <th>month</th>\n",
              "      <th>year</th>\n",
              "      <th>airline</th>\n",
              "    </tr>\n",
              "  </thead>\n",
              "  <tbody>\n",
              "    <tr>\n",
              "      <th>0</th>\n",
              "      <td>Argentina</td>\n",
              "      <td>ARG</td>\n",
              "      <td>-63.578123</td>\n",
              "      <td>-31.578414</td>\n",
              "      <td>08.09.2020</td>\n",
              "      <td>Latest News:Argentine government authorizes so...</td>\n",
              "      <td>2020-09-08</td>\n",
              "      <td>Self-isolation</td>\n",
              "      <td>Not Required</td>\n",
              "      <td>Sep</td>\n",
              "      <td>2020.0</td>\n",
              "      <td>Aerolineas Argentinas</td>\n",
              "    </tr>\n",
              "    <tr>\n",
              "      <th>1</th>\n",
              "      <td>Argentina</td>\n",
              "      <td>ARG</td>\n",
              "      <td>-63.578123</td>\n",
              "      <td>-31.578414</td>\n",
              "      <td>08.09.2020</td>\n",
              "      <td>Latest News:Argentine government authorizes so...</td>\n",
              "      <td>2020-09-08</td>\n",
              "      <td>Self-isolation</td>\n",
              "      <td>Not Required</td>\n",
              "      <td>Sep</td>\n",
              "      <td>2020.0</td>\n",
              "      <td>Aerolineas Argentinas</td>\n",
              "    </tr>\n",
              "    <tr>\n",
              "      <th>2</th>\n",
              "      <td>Argentina</td>\n",
              "      <td>ARG</td>\n",
              "      <td>-63.578123</td>\n",
              "      <td>-31.578414</td>\n",
              "      <td>08.09.2020</td>\n",
              "      <td>Latest News:Argentine government authorizes so...</td>\n",
              "      <td>2020-09-08</td>\n",
              "      <td>Self-isolation</td>\n",
              "      <td>Not Required</td>\n",
              "      <td>Sep</td>\n",
              "      <td>2020.0</td>\n",
              "      <td>Aerolineas Argentinas</td>\n",
              "    </tr>\n",
              "    <tr>\n",
              "      <th>3</th>\n",
              "      <td>Aruba</td>\n",
              "      <td>ABW</td>\n",
              "      <td>-69.970272</td>\n",
              "      <td>12.509110</td>\n",
              "      <td>29.07.2020</td>\n",
              "      <td>International Restrictions:\\n Aruba reopened i...</td>\n",
              "      <td>2020-07-29</td>\n",
              "      <td>Self-isolation</td>\n",
              "      <td>Required</td>\n",
              "      <td>Jul</td>\n",
              "      <td>2020.0</td>\n",
              "      <td>Aruba Airlines</td>\n",
              "    </tr>\n",
              "    <tr>\n",
              "      <th>4</th>\n",
              "      <td>Austria</td>\n",
              "      <td>AUT</td>\n",
              "      <td>14.141702</td>\n",
              "      <td>47.587050</td>\n",
              "      <td>14.09.2020</td>\n",
              "      <td>Latest News:Austria is expanding its travel wa...</td>\n",
              "      <td>2020-09-14</td>\n",
              "      <td>Self-isolation</td>\n",
              "      <td>Special_Conditions</td>\n",
              "      <td>Sep</td>\n",
              "      <td>2020.0</td>\n",
              "      <td>Austrian Airlines</td>\n",
              "    </tr>\n",
              "    <tr>\n",
              "      <th>...</th>\n",
              "      <td>...</td>\n",
              "      <td>...</td>\n",
              "      <td>...</td>\n",
              "      <td>...</td>\n",
              "      <td>...</td>\n",
              "      <td>...</td>\n",
              "      <td>...</td>\n",
              "      <td>...</td>\n",
              "      <td>...</td>\n",
              "      <td>...</td>\n",
              "      <td>...</td>\n",
              "      <td>...</td>\n",
              "    </tr>\n",
              "    <tr>\n",
              "      <th>555</th>\n",
              "      <td>United States of America</td>\n",
              "      <td>USA</td>\n",
              "      <td>-99.446708</td>\n",
              "      <td>39.403990</td>\n",
              "      <td>14.09.2020</td>\n",
              "      <td>Latest News:  Tri-state officials add Delaware...</td>\n",
              "      <td>2020-09-14</td>\n",
              "      <td>Self-isolation</td>\n",
              "      <td>Special_Conditions</td>\n",
              "      <td>Sep</td>\n",
              "      <td>2020.0</td>\n",
              "      <td>Sun Country</td>\n",
              "    </tr>\n",
              "    <tr>\n",
              "      <th>556</th>\n",
              "      <td>United States of America</td>\n",
              "      <td>USA</td>\n",
              "      <td>-99.446708</td>\n",
              "      <td>39.403990</td>\n",
              "      <td>14.09.2020</td>\n",
              "      <td>Latest News:  Tri-state officials add Delaware...</td>\n",
              "      <td>2020-09-14</td>\n",
              "      <td>Self-isolation</td>\n",
              "      <td>Special_Conditions</td>\n",
              "      <td>Sep</td>\n",
              "      <td>2020.0</td>\n",
              "      <td>Sun Country</td>\n",
              "    </tr>\n",
              "    <tr>\n",
              "      <th>557</th>\n",
              "      <td>United States of America</td>\n",
              "      <td>USA</td>\n",
              "      <td>-99.446708</td>\n",
              "      <td>39.403990</td>\n",
              "      <td>14.09.2020</td>\n",
              "      <td>Latest News:  Tri-state officials add Delaware...</td>\n",
              "      <td>2020-09-14</td>\n",
              "      <td>Self-isolation</td>\n",
              "      <td>Special_Conditions</td>\n",
              "      <td>Sep</td>\n",
              "      <td>2020.0</td>\n",
              "      <td>Frontier Airlines</td>\n",
              "    </tr>\n",
              "    <tr>\n",
              "      <th>558</th>\n",
              "      <td>United States of America</td>\n",
              "      <td>USA</td>\n",
              "      <td>-99.446708</td>\n",
              "      <td>39.403990</td>\n",
              "      <td>14.09.2020</td>\n",
              "      <td>Latest News:  Tri-state officials add Delaware...</td>\n",
              "      <td>2020-09-14</td>\n",
              "      <td>Self-isolation</td>\n",
              "      <td>Special_Conditions</td>\n",
              "      <td>Sep</td>\n",
              "      <td>2020.0</td>\n",
              "      <td>Allegiant Air</td>\n",
              "    </tr>\n",
              "    <tr>\n",
              "      <th>559</th>\n",
              "      <td>United States of America</td>\n",
              "      <td>USA</td>\n",
              "      <td>-99.446708</td>\n",
              "      <td>39.403990</td>\n",
              "      <td>14.09.2020</td>\n",
              "      <td>Latest News:  Tri-state officials add Delaware...</td>\n",
              "      <td>2020-09-14</td>\n",
              "      <td>Self-isolation</td>\n",
              "      <td>Special_Conditions</td>\n",
              "      <td>Sep</td>\n",
              "      <td>2020.0</td>\n",
              "      <td>Boutique Air</td>\n",
              "    </tr>\n",
              "  </tbody>\n",
              "</table>\n",
              "<p>560 rows × 12 columns</p>\n",
              "</div>"
            ],
            "text/plain": [
              "                      Country Country_Code  ...    year                airline\n",
              "0                   Argentina          ARG  ...  2020.0  Aerolineas Argentinas\n",
              "1                   Argentina          ARG  ...  2020.0  Aerolineas Argentinas\n",
              "2                   Argentina          ARG  ...  2020.0  Aerolineas Argentinas\n",
              "3                       Aruba          ABW  ...  2020.0         Aruba Airlines\n",
              "4                     Austria          AUT  ...  2020.0      Austrian Airlines\n",
              "..                        ...          ...  ...     ...                    ...\n",
              "555  United States of America          USA  ...  2020.0            Sun Country\n",
              "556  United States of America          USA  ...  2020.0            Sun Country\n",
              "557  United States of America          USA  ...  2020.0      Frontier Airlines\n",
              "558  United States of America          USA  ...  2020.0          Allegiant Air\n",
              "559  United States of America          USA  ...  2020.0           Boutique Air\n",
              "\n",
              "[560 rows x 12 columns]"
            ]
          },
          "metadata": {
            "tags": []
          },
          "execution_count": 106
        }
      ]
    },
    {
      "cell_type": "code",
      "metadata": {
        "id": "WlxUQEByf5w7",
        "colab_type": "code",
        "colab": {}
      },
      "source": [
        "df1 = data_new.groupby(\"Country\" ,as_index = False).agg({\"Quarantine_requirement\": \"count\"})\n",
        "df1.columns = [\"Country\",\"Quarantine_requirement\"]\n",
        "df1"
      ],
      "execution_count": null,
      "outputs": []
    },
    {
      "cell_type": "code",
      "metadata": {
        "id": "C0pp4-p9gL6o",
        "colab_type": "code",
        "colab": {
          "base_uri": "https://localhost:8080/",
          "height": 724
        },
        "outputId": "5af8b229-124a-40ad-8748-8e5af94ef4c8"
      },
      "source": [
        "\n",
        "# Draw plot\n",
        "fig, ax = plt.subplots(figsize=(15,5), dpi= 80)\n",
        "ax.vlines(x=df1['Country'], ymin=0, ymax=df1['Quarantine_requirement'], color='firebrick', alpha=0.7, linewidth=2)\n",
        "ax.scatter(x=df1['Country'], y=df1['Quarantine_requirement'], s=75, color='firebrick', alpha=0.7)\n",
        "\n",
        "# Title, Label, Ticks and Ylim\n",
        "ax.set_title('Lollipop Chart for self-quarantine restrictions per country', fontdict={'size':22})\n",
        "ax.set_ylabel('counts of self-Quarantine')\n",
        "ax.set_xticks(df1['Country'])\n",
        "ax.set_xticklabels(df1['Country'].str.upper(), rotation=60, fontdict={'horizontalalignment': 'right', 'size':12})\n",
        "ax.set_ylim(0, 75)\n",
        "\n",
        "plt.show()"
      ],
      "execution_count": 111,
      "outputs": [
        {
          "output_type": "display_data",
          "data": {
            "image/png": "[encoded data removed]",
            "text/plain": [
              "<Figure size 1200x400 with 1 Axes>"
            ]
          },
          "metadata": {
            "tags": [],
            "needs_background": "light"
          }
        }
      ]
    },
    {
      "cell_type": "code",
      "metadata": {
        "id": "mSzYQ5UDTrg0",
        "colab_type": "code",
        "colab": {
          "base_uri": "https://localhost:8080/",
          "height": 400
        },
        "outputId": "a912f83a-8032-4a57-d888-c16eedd2719b"
      },
      "source": [
        "\n",
        "# Draw plot\n",
        "fig, ax = plt.subplots(figsize=(15,5), dpi= 80)\n",
        "ax.vlines(x=count['month'], ymin=0, ymax=count['values'], color='firebrick', alpha=0.7, linewidth=2)\n",
        "ax.scatter(x=count['month'], y=count['values'], s=75, color='firebrick', alpha=0.7)\n",
        "\n",
        "# Title, Label, Ticks and Ylim\n",
        "ax.set_title('Lollipop Chart quarantine restrictions', fontdict={'size':22})\n",
        "ax.set_ylabel('counts of quarantine restrictions')\n",
        "ax.set_xticks(count['month'])\n",
        "ax.set_xticklabels(count['month'].str.upper(), rotation=60, fontdict={'horizontalalignment': 'right', 'size':12})\n",
        "ax.set_ylim(0, 500)\n",
        "\n",
        "plt.show()"
      ],
      "execution_count": 75,
      "outputs": [
        {
          "output_type": "display_data",
          "data": {
            "image/png": "[encoded data removed]",
            "text/plain": [
              "<Figure size 1200x400 with 1 Axes>"
            ]
          },
          "metadata": {
            "tags": [],
            "needs_background": "light"
          }
        }
      ]
    },
    {
      "cell_type": "code",
      "metadata": {
        "id": "wdlDl3A0Ulwp",
        "colab_type": "code",
        "colab": {
          "base_uri": "https://localhost:8080/",
          "height": 204
        },
        "outputId": "de3d02bf-e5fe-42d4-c044-51102dce7e59"
      },
      "source": [
        "data.head()"
      ],
      "execution_count": 76,
      "outputs": [
        {
          "output_type": "execute_result",
          "data": {
            "text/html": [
              "<div>\n",
              "<style scoped>\n",
              "    .dataframe tbody tr th:only-of-type {\n",
              "        vertical-align: middle;\n",
              "    }\n",
              "\n",
              "    .dataframe tbody tr th {\n",
              "        vertical-align: top;\n",
              "    }\n",
              "\n",
              "    .dataframe thead th {\n",
              "        text-align: right;\n",
              "    }\n",
              "</style>\n",
              "<table border=\"1\" class=\"dataframe\">\n",
              "  <thead>\n",
              "    <tr style=\"text-align: right;\">\n",
              "      <th></th>\n",
              "      <th>Country</th>\n",
              "      <th>Country_Code</th>\n",
              "      <th>X</th>\n",
              "      <th>Y</th>\n",
              "      <th>published</th>\n",
              "      <th>info</th>\n",
              "      <th>Date</th>\n",
              "      <th>Quarantine_requirement</th>\n",
              "      <th>covid_negativeCertificate</th>\n",
              "      <th>month</th>\n",
              "      <th>year</th>\n",
              "      <th>airline</th>\n",
              "    </tr>\n",
              "  </thead>\n",
              "  <tbody>\n",
              "    <tr>\n",
              "      <th>8</th>\n",
              "      <td>Angola</td>\n",
              "      <td>AGO</td>\n",
              "      <td>17.577532</td>\n",
              "      <td>-12.337524</td>\n",
              "      <td>04.09.2020</td>\n",
              "      <td>Latest News: Domestic and international non-co...</td>\n",
              "      <td>2020-09-04</td>\n",
              "      <td>Quarantine</td>\n",
              "      <td>Required</td>\n",
              "      <td>Sep</td>\n",
              "      <td>2020.0</td>\n",
              "      <td>TAAG</td>\n",
              "    </tr>\n",
              "    <tr>\n",
              "      <th>9</th>\n",
              "      <td>Angola</td>\n",
              "      <td>AGO</td>\n",
              "      <td>17.577532</td>\n",
              "      <td>-12.337524</td>\n",
              "      <td>04.09.2020</td>\n",
              "      <td>Latest News: Domestic and international non-co...</td>\n",
              "      <td>2020-09-04</td>\n",
              "      <td>Quarantine</td>\n",
              "      <td>Required</td>\n",
              "      <td>Sep</td>\n",
              "      <td>2020.0</td>\n",
              "      <td>TAAG</td>\n",
              "    </tr>\n",
              "    <tr>\n",
              "      <th>13</th>\n",
              "      <td>Argentina</td>\n",
              "      <td>ARG</td>\n",
              "      <td>-63.578123</td>\n",
              "      <td>-31.578414</td>\n",
              "      <td>08.09.2020</td>\n",
              "      <td>Latest News:Argentine government authorizes so...</td>\n",
              "      <td>2020-09-08</td>\n",
              "      <td>Self-isolation</td>\n",
              "      <td>Not Required</td>\n",
              "      <td>Sep</td>\n",
              "      <td>2020.0</td>\n",
              "      <td>Aerolineas Argentinas</td>\n",
              "    </tr>\n",
              "    <tr>\n",
              "      <th>14</th>\n",
              "      <td>Argentina</td>\n",
              "      <td>ARG</td>\n",
              "      <td>-63.578123</td>\n",
              "      <td>-31.578414</td>\n",
              "      <td>08.09.2020</td>\n",
              "      <td>Latest News:Argentine government authorizes so...</td>\n",
              "      <td>2020-09-08</td>\n",
              "      <td>Self-isolation</td>\n",
              "      <td>Not Required</td>\n",
              "      <td>Sep</td>\n",
              "      <td>2020.0</td>\n",
              "      <td>Aerolineas Argentinas</td>\n",
              "    </tr>\n",
              "    <tr>\n",
              "      <th>15</th>\n",
              "      <td>Argentina</td>\n",
              "      <td>ARG</td>\n",
              "      <td>-63.578123</td>\n",
              "      <td>-31.578414</td>\n",
              "      <td>08.09.2020</td>\n",
              "      <td>Latest News:Argentine government authorizes so...</td>\n",
              "      <td>2020-09-08</td>\n",
              "      <td>Self-isolation</td>\n",
              "      <td>Not Required</td>\n",
              "      <td>Sep</td>\n",
              "      <td>2020.0</td>\n",
              "      <td>Aerolineas Argentinas</td>\n",
              "    </tr>\n",
              "  </tbody>\n",
              "</table>\n",
              "</div>"
            ],
            "text/plain": [
              "      Country Country_Code          X  ...  month    year                airline\n",
              "8      Angola          AGO  17.577532  ...    Sep  2020.0                   TAAG\n",
              "9      Angola          AGO  17.577532  ...    Sep  2020.0                   TAAG\n",
              "13  Argentina          ARG -63.578123  ...    Sep  2020.0  Aerolineas Argentinas\n",
              "14  Argentina          ARG -63.578123  ...    Sep  2020.0  Aerolineas Argentinas\n",
              "15  Argentina          ARG -63.578123  ...    Sep  2020.0  Aerolineas Argentinas\n",
              "\n",
              "[5 rows x 12 columns]"
            ]
          },
          "metadata": {
            "tags": []
          },
          "execution_count": 76
        }
      ]
    },
    {
      "cell_type": "code",
      "metadata": {
        "id": "8FKJWMWTdzMo",
        "colab_type": "code",
        "colab": {
          "base_uri": "https://localhost:8080/",
          "height": 450
        },
        "outputId": "c51a54c2-76c9-4560-b740-84518cfb2e5c"
      },
      "source": [
        "count1 = data.groupby(['Country', 'airline']).size() \n",
        "count1=pd.DataFrame(count1)\n",
        "count1"
      ],
      "execution_count": 77,
      "outputs": [
        {
          "output_type": "execute_result",
          "data": {
            "text/html": [
              "<div>\n",
              "<style scoped>\n",
              "    .dataframe tbody tr th:only-of-type {\n",
              "        vertical-align: middle;\n",
              "    }\n",
              "\n",
              "    .dataframe tbody tr th {\n",
              "        vertical-align: top;\n",
              "    }\n",
              "\n",
              "    .dataframe thead th {\n",
              "        text-align: right;\n",
              "    }\n",
              "</style>\n",
              "<table border=\"1\" class=\"dataframe\">\n",
              "  <thead>\n",
              "    <tr style=\"text-align: right;\">\n",
              "      <th></th>\n",
              "      <th></th>\n",
              "      <th>0</th>\n",
              "    </tr>\n",
              "    <tr>\n",
              "      <th>Country</th>\n",
              "      <th>airline</th>\n",
              "      <th></th>\n",
              "    </tr>\n",
              "  </thead>\n",
              "  <tbody>\n",
              "    <tr>\n",
              "      <th>Angola</th>\n",
              "      <th>TAAG</th>\n",
              "      <td>2</td>\n",
              "    </tr>\n",
              "    <tr>\n",
              "      <th>Argentina</th>\n",
              "      <th>Aerolineas Argentinas</th>\n",
              "      <td>3</td>\n",
              "    </tr>\n",
              "    <tr>\n",
              "      <th>Aruba</th>\n",
              "      <th>Aruba Airlines</th>\n",
              "      <td>1</td>\n",
              "    </tr>\n",
              "    <tr>\n",
              "      <th rowspan=\"2\" valign=\"top\">Australia</th>\n",
              "      <th>Airnorth</th>\n",
              "      <td>1</td>\n",
              "    </tr>\n",
              "    <tr>\n",
              "      <th>FlyPelican</th>\n",
              "      <td>2</td>\n",
              "    </tr>\n",
              "    <tr>\n",
              "      <th>...</th>\n",
              "      <th>...</th>\n",
              "      <td>...</td>\n",
              "    </tr>\n",
              "    <tr>\n",
              "      <th rowspan=\"3\" valign=\"top\">Viet Nam</th>\n",
              "      <th>Bamboo Airways</th>\n",
              "      <td>2</td>\n",
              "    </tr>\n",
              "    <tr>\n",
              "      <th>Viet Nam Airlines</th>\n",
              "      <td>5</td>\n",
              "    </tr>\n",
              "    <tr>\n",
              "      <th>Vietjet Air</th>\n",
              "      <td>1</td>\n",
              "    </tr>\n",
              "    <tr>\n",
              "      <th>Zambia</th>\n",
              "      <th>ProFlight Zambia</th>\n",
              "      <td>2</td>\n",
              "    </tr>\n",
              "    <tr>\n",
              "      <th>Zimbabwe</th>\n",
              "      <th>Air Zimbabwe</th>\n",
              "      <td>1</td>\n",
              "    </tr>\n",
              "  </tbody>\n",
              "</table>\n",
              "<p>371 rows × 1 columns</p>\n",
              "</div>"
            ],
            "text/plain": [
              "                                 0\n",
              "Country   airline                 \n",
              "Angola    TAAG                   2\n",
              "Argentina Aerolineas Argentinas  3\n",
              "Aruba     Aruba Airlines         1\n",
              "Australia Airnorth               1\n",
              "          FlyPelican             2\n",
              "...                             ..\n",
              "Viet Nam  Bamboo Airways         2\n",
              "          Viet Nam Airlines      5\n",
              "          Vietjet Air            1\n",
              "Zambia    ProFlight Zambia       2\n",
              "Zimbabwe  Air Zimbabwe           1\n",
              "\n",
              "[371 rows x 1 columns]"
            ]
          },
          "metadata": {
            "tags": []
          },
          "execution_count": 77
        }
      ]
    },
    {
      "cell_type": "code",
      "metadata": {
        "id": "Kbiv0B6zd_V6",
        "colab_type": "code",
        "colab": {}
      },
      "source": [
        "count1.reset_index(level=0, inplace=True)"
      ],
      "execution_count": 78,
      "outputs": []
    },
    {
      "cell_type": "code",
      "metadata": {
        "id": "6PlQhgOdgj-D",
        "colab_type": "code",
        "colab": {}
      },
      "source": [
        "count1.reset_index(level=0, inplace=True)"
      ],
      "execution_count": 79,
      "outputs": []
    },
    {
      "cell_type": "code",
      "metadata": {
        "id": "cSZga6GvglVQ",
        "colab_type": "code",
        "colab": {
          "base_uri": "https://localhost:8080/",
          "height": 419
        },
        "outputId": "9ce27e5d-9c92-4b8e-cdae-6b5426935089"
      },
      "source": [
        "count1"
      ],
      "execution_count": 80,
      "outputs": [
        {
          "output_type": "execute_result",
          "data": {
            "text/html": [
              "<div>\n",
              "<style scoped>\n",
              "    .dataframe tbody tr th:only-of-type {\n",
              "        vertical-align: middle;\n",
              "    }\n",
              "\n",
              "    .dataframe tbody tr th {\n",
              "        vertical-align: top;\n",
              "    }\n",
              "\n",
              "    .dataframe thead th {\n",
              "        text-align: right;\n",
              "    }\n",
              "</style>\n",
              "<table border=\"1\" class=\"dataframe\">\n",
              "  <thead>\n",
              "    <tr style=\"text-align: right;\">\n",
              "      <th></th>\n",
              "      <th>airline</th>\n",
              "      <th>Country</th>\n",
              "      <th>0</th>\n",
              "    </tr>\n",
              "  </thead>\n",
              "  <tbody>\n",
              "    <tr>\n",
              "      <th>0</th>\n",
              "      <td>TAAG</td>\n",
              "      <td>Angola</td>\n",
              "      <td>2</td>\n",
              "    </tr>\n",
              "    <tr>\n",
              "      <th>1</th>\n",
              "      <td>Aerolineas Argentinas</td>\n",
              "      <td>Argentina</td>\n",
              "      <td>3</td>\n",
              "    </tr>\n",
              "    <tr>\n",
              "      <th>2</th>\n",
              "      <td>Aruba Airlines</td>\n",
              "      <td>Aruba</td>\n",
              "      <td>1</td>\n",
              "    </tr>\n",
              "    <tr>\n",
              "      <th>3</th>\n",
              "      <td>Airnorth</td>\n",
              "      <td>Australia</td>\n",
              "      <td>1</td>\n",
              "    </tr>\n",
              "    <tr>\n",
              "      <th>4</th>\n",
              "      <td>FlyPelican</td>\n",
              "      <td>Australia</td>\n",
              "      <td>2</td>\n",
              "    </tr>\n",
              "    <tr>\n",
              "      <th>...</th>\n",
              "      <td>...</td>\n",
              "      <td>...</td>\n",
              "      <td>...</td>\n",
              "    </tr>\n",
              "    <tr>\n",
              "      <th>366</th>\n",
              "      <td>Bamboo Airways</td>\n",
              "      <td>Viet Nam</td>\n",
              "      <td>2</td>\n",
              "    </tr>\n",
              "    <tr>\n",
              "      <th>367</th>\n",
              "      <td>Viet Nam Airlines</td>\n",
              "      <td>Viet Nam</td>\n",
              "      <td>5</td>\n",
              "    </tr>\n",
              "    <tr>\n",
              "      <th>368</th>\n",
              "      <td>Vietjet Air</td>\n",
              "      <td>Viet Nam</td>\n",
              "      <td>1</td>\n",
              "    </tr>\n",
              "    <tr>\n",
              "      <th>369</th>\n",
              "      <td>ProFlight Zambia</td>\n",
              "      <td>Zambia</td>\n",
              "      <td>2</td>\n",
              "    </tr>\n",
              "    <tr>\n",
              "      <th>370</th>\n",
              "      <td>Air Zimbabwe</td>\n",
              "      <td>Zimbabwe</td>\n",
              "      <td>1</td>\n",
              "    </tr>\n",
              "  </tbody>\n",
              "</table>\n",
              "<p>371 rows × 3 columns</p>\n",
              "</div>"
            ],
            "text/plain": [
              "                   airline    Country  0\n",
              "0                     TAAG     Angola  2\n",
              "1    Aerolineas Argentinas  Argentina  3\n",
              "2           Aruba Airlines      Aruba  1\n",
              "3                 Airnorth  Australia  1\n",
              "4               FlyPelican  Australia  2\n",
              "..                     ...        ... ..\n",
              "366         Bamboo Airways   Viet Nam  2\n",
              "367      Viet Nam Airlines   Viet Nam  5\n",
              "368            Vietjet Air   Viet Nam  1\n",
              "369       ProFlight Zambia     Zambia  2\n",
              "370           Air Zimbabwe   Zimbabwe  1\n",
              "\n",
              "[371 rows x 3 columns]"
            ]
          },
          "metadata": {
            "tags": []
          },
          "execution_count": 80
        }
      ]
    },
    {
      "cell_type": "code",
      "metadata": {
        "id": "pOa3Jhpmisfw",
        "colab_type": "code",
        "colab": {}
      },
      "source": [
        "count1=count1.rename(columns={0: \"values\"})"
      ],
      "execution_count": 81,
      "outputs": []
    },
    {
      "cell_type": "code",
      "metadata": {
        "id": "qT-O5qBzhUGt",
        "colab_type": "code",
        "colab": {
          "base_uri": "https://localhost:8080/",
          "height": 419
        },
        "outputId": "42921ed5-7d05-4d5b-d1ad-83f213c8d85c"
      },
      "source": [
        "sumB=data.groupby('Country', as_index=False).agg({\"airline\": \"count\"})\n",
        "sumB"
      ],
      "execution_count": 82,
      "outputs": [
        {
          "output_type": "execute_result",
          "data": {
            "text/html": [
              "<div>\n",
              "<style scoped>\n",
              "    .dataframe tbody tr th:only-of-type {\n",
              "        vertical-align: middle;\n",
              "    }\n",
              "\n",
              "    .dataframe tbody tr th {\n",
              "        vertical-align: top;\n",
              "    }\n",
              "\n",
              "    .dataframe thead th {\n",
              "        text-align: right;\n",
              "    }\n",
              "</style>\n",
              "<table border=\"1\" class=\"dataframe\">\n",
              "  <thead>\n",
              "    <tr style=\"text-align: right;\">\n",
              "      <th></th>\n",
              "      <th>Country</th>\n",
              "      <th>airline</th>\n",
              "    </tr>\n",
              "  </thead>\n",
              "  <tbody>\n",
              "    <tr>\n",
              "      <th>0</th>\n",
              "      <td>Angola</td>\n",
              "      <td>2</td>\n",
              "    </tr>\n",
              "    <tr>\n",
              "      <th>1</th>\n",
              "      <td>Argentina</td>\n",
              "      <td>3</td>\n",
              "    </tr>\n",
              "    <tr>\n",
              "      <th>2</th>\n",
              "      <td>Aruba</td>\n",
              "      <td>1</td>\n",
              "    </tr>\n",
              "    <tr>\n",
              "      <th>3</th>\n",
              "      <td>Australia</td>\n",
              "      <td>18</td>\n",
              "    </tr>\n",
              "    <tr>\n",
              "      <th>4</th>\n",
              "      <td>Austria</td>\n",
              "      <td>8</td>\n",
              "    </tr>\n",
              "    <tr>\n",
              "      <th>...</th>\n",
              "      <td>...</td>\n",
              "      <td>...</td>\n",
              "    </tr>\n",
              "    <tr>\n",
              "      <th>127</th>\n",
              "      <td>Vanuatu</td>\n",
              "      <td>1</td>\n",
              "    </tr>\n",
              "    <tr>\n",
              "      <th>128</th>\n",
              "      <td>Venezuela</td>\n",
              "      <td>1</td>\n",
              "    </tr>\n",
              "    <tr>\n",
              "      <th>129</th>\n",
              "      <td>Viet Nam</td>\n",
              "      <td>8</td>\n",
              "    </tr>\n",
              "    <tr>\n",
              "      <th>130</th>\n",
              "      <td>Zambia</td>\n",
              "      <td>2</td>\n",
              "    </tr>\n",
              "    <tr>\n",
              "      <th>131</th>\n",
              "      <td>Zimbabwe</td>\n",
              "      <td>1</td>\n",
              "    </tr>\n",
              "  </tbody>\n",
              "</table>\n",
              "<p>132 rows × 2 columns</p>\n",
              "</div>"
            ],
            "text/plain": [
              "       Country  airline\n",
              "0       Angola        2\n",
              "1    Argentina        3\n",
              "2        Aruba        1\n",
              "3    Australia       18\n",
              "4      Austria        8\n",
              "..         ...      ...\n",
              "127    Vanuatu        1\n",
              "128  Venezuela        1\n",
              "129   Viet Nam        8\n",
              "130     Zambia        2\n",
              "131   Zimbabwe        1\n",
              "\n",
              "[132 rows x 2 columns]"
            ]
          },
          "metadata": {
            "tags": []
          },
          "execution_count": 82
        }
      ]
    },
    {
      "cell_type": "code",
      "metadata": {
        "id": "VObx6XdEr6MI",
        "colab_type": "code",
        "colab": {
          "base_uri": "https://localhost:8080/",
          "height": 419
        },
        "outputId": "576a3352-ee12-4098-a8b0-9fc2bf4f83b5"
      },
      "source": [
        "SumC=data['Country'].unique(),data['month']\n",
        "\n",
        "SumC=pd.DataFrame(SumC).T\n",
        "\n",
        "SumC=SumC.rename(columns={0: \"Country\",1:\"month\"})\n",
        "SumC.dropna()"
      ],
      "execution_count": 83,
      "outputs": [
        {
          "output_type": "execute_result",
          "data": {
            "text/html": [
              "<div>\n",
              "<style scoped>\n",
              "    .dataframe tbody tr th:only-of-type {\n",
              "        vertical-align: middle;\n",
              "    }\n",
              "\n",
              "    .dataframe tbody tr th {\n",
              "        vertical-align: top;\n",
              "    }\n",
              "\n",
              "    .dataframe thead th {\n",
              "        text-align: right;\n",
              "    }\n",
              "</style>\n",
              "<table border=\"1\" class=\"dataframe\">\n",
              "  <thead>\n",
              "    <tr style=\"text-align: right;\">\n",
              "      <th></th>\n",
              "      <th>Country</th>\n",
              "      <th>month</th>\n",
              "    </tr>\n",
              "  </thead>\n",
              "  <tbody>\n",
              "    <tr>\n",
              "      <th>0</th>\n",
              "      <td>Angola</td>\n",
              "      <td>Sep</td>\n",
              "    </tr>\n",
              "    <tr>\n",
              "      <th>1</th>\n",
              "      <td>Argentina</td>\n",
              "      <td>Sep</td>\n",
              "    </tr>\n",
              "    <tr>\n",
              "      <th>2</th>\n",
              "      <td>Aruba</td>\n",
              "      <td>Sep</td>\n",
              "    </tr>\n",
              "    <tr>\n",
              "      <th>3</th>\n",
              "      <td>Australia</td>\n",
              "      <td>Sep</td>\n",
              "    </tr>\n",
              "    <tr>\n",
              "      <th>4</th>\n",
              "      <td>Austria</td>\n",
              "      <td>Sep</td>\n",
              "    </tr>\n",
              "    <tr>\n",
              "      <th>...</th>\n",
              "      <td>...</td>\n",
              "      <td>...</td>\n",
              "    </tr>\n",
              "    <tr>\n",
              "      <th>127</th>\n",
              "      <td>Vanuatu</td>\n",
              "      <td>Sep</td>\n",
              "    </tr>\n",
              "    <tr>\n",
              "      <th>128</th>\n",
              "      <td>Venezuela</td>\n",
              "      <td>Sep</td>\n",
              "    </tr>\n",
              "    <tr>\n",
              "      <th>129</th>\n",
              "      <td>Viet Nam</td>\n",
              "      <td>Sep</td>\n",
              "    </tr>\n",
              "    <tr>\n",
              "      <th>130</th>\n",
              "      <td>Zambia</td>\n",
              "      <td>Sep</td>\n",
              "    </tr>\n",
              "    <tr>\n",
              "      <th>131</th>\n",
              "      <td>Zimbabwe</td>\n",
              "      <td>Sep</td>\n",
              "    </tr>\n",
              "  </tbody>\n",
              "</table>\n",
              "<p>132 rows × 2 columns</p>\n",
              "</div>"
            ],
            "text/plain": [
              "       Country month\n",
              "0       Angola   Sep\n",
              "1    Argentina   Sep\n",
              "2        Aruba   Sep\n",
              "3    Australia   Sep\n",
              "4      Austria   Sep\n",
              "..         ...   ...\n",
              "127    Vanuatu   Sep\n",
              "128  Venezuela   Sep\n",
              "129   Viet Nam   Sep\n",
              "130     Zambia   Sep\n",
              "131   Zimbabwe   Sep\n",
              "\n",
              "[132 rows x 2 columns]"
            ]
          },
          "metadata": {
            "tags": []
          },
          "execution_count": 83
        }
      ]
    },
    {
      "cell_type": "code",
      "metadata": {
        "id": "9nGx1Bwv3jBO",
        "colab_type": "code",
        "colab": {
          "base_uri": "https://localhost:8080/",
          "height": 419
        },
        "outputId": "56bf32a7-fcf5-4462-9124-432c2a6faa54"
      },
      "source": [
        "sumD=data['covid_negativeCertificate'],data['Country'].unique()\n",
        "sumD=pd.DataFrame(sumD).T\n",
        "sumD=sumD.rename(columns={\"Unnamed 0\":\"Country\"})\n",
        "sumD.dropna()"
      ],
      "execution_count": 84,
      "outputs": [
        {
          "output_type": "execute_result",
          "data": {
            "text/html": [
              "<div>\n",
              "<style scoped>\n",
              "    .dataframe tbody tr th:only-of-type {\n",
              "        vertical-align: middle;\n",
              "    }\n",
              "\n",
              "    .dataframe tbody tr th {\n",
              "        vertical-align: top;\n",
              "    }\n",
              "\n",
              "    .dataframe thead th {\n",
              "        text-align: right;\n",
              "    }\n",
              "</style>\n",
              "<table border=\"1\" class=\"dataframe\">\n",
              "  <thead>\n",
              "    <tr style=\"text-align: right;\">\n",
              "      <th></th>\n",
              "      <th>covid_negativeCertificate</th>\n",
              "      <th>Country</th>\n",
              "    </tr>\n",
              "  </thead>\n",
              "  <tbody>\n",
              "    <tr>\n",
              "      <th>8</th>\n",
              "      <td>Required</td>\n",
              "      <td>Bangladesh</td>\n",
              "    </tr>\n",
              "    <tr>\n",
              "      <th>9</th>\n",
              "      <td>Required</td>\n",
              "      <td>Barbados</td>\n",
              "    </tr>\n",
              "    <tr>\n",
              "      <th>13</th>\n",
              "      <td>Not Required</td>\n",
              "      <td>Bolivia</td>\n",
              "    </tr>\n",
              "    <tr>\n",
              "      <th>14</th>\n",
              "      <td>Not Required</td>\n",
              "      <td>Bosnia and Herzegovina</td>\n",
              "    </tr>\n",
              "    <tr>\n",
              "      <th>15</th>\n",
              "      <td>Not Required</td>\n",
              "      <td>Botswana</td>\n",
              "    </tr>\n",
              "    <tr>\n",
              "      <th>...</th>\n",
              "      <td>...</td>\n",
              "      <td>...</td>\n",
              "    </tr>\n",
              "    <tr>\n",
              "      <th>127</th>\n",
              "      <td>Not Required</td>\n",
              "      <td>Vanuatu</td>\n",
              "    </tr>\n",
              "    <tr>\n",
              "      <th>128</th>\n",
              "      <td>Not Required</td>\n",
              "      <td>Venezuela</td>\n",
              "    </tr>\n",
              "    <tr>\n",
              "      <th>129</th>\n",
              "      <td>Not Required</td>\n",
              "      <td>Viet Nam</td>\n",
              "    </tr>\n",
              "    <tr>\n",
              "      <th>130</th>\n",
              "      <td>Not Required</td>\n",
              "      <td>Zambia</td>\n",
              "    </tr>\n",
              "    <tr>\n",
              "      <th>131</th>\n",
              "      <td>Not Required</td>\n",
              "      <td>Zimbabwe</td>\n",
              "    </tr>\n",
              "  </tbody>\n",
              "</table>\n",
              "<p>105 rows × 2 columns</p>\n",
              "</div>"
            ],
            "text/plain": [
              "    covid_negativeCertificate                 Country\n",
              "8                    Required              Bangladesh\n",
              "9                    Required                Barbados\n",
              "13               Not Required                 Bolivia\n",
              "14               Not Required  Bosnia and Herzegovina\n",
              "15               Not Required                Botswana\n",
              "..                        ...                     ...\n",
              "127              Not Required                 Vanuatu\n",
              "128              Not Required               Venezuela\n",
              "129              Not Required                Viet Nam\n",
              "130              Not Required                  Zambia\n",
              "131              Not Required                Zimbabwe\n",
              "\n",
              "[105 rows x 2 columns]"
            ]
          },
          "metadata": {
            "tags": []
          },
          "execution_count": 84
        }
      ]
    },
    {
      "cell_type": "code",
      "metadata": {
        "id": "Cg7uWMGh1gQM",
        "colab_type": "code",
        "colab": {
          "base_uri": "https://localhost:8080/",
          "height": 419
        },
        "outputId": "9945e5b1-88cf-493c-d9e3-92e5fb73de2b"
      },
      "source": [
        "merge2=pd.merge(sumB, SumC, on='Country',how='inner')\n",
        "merge3=pd.merge(merge2, sumD, on='Country',how='inner')\n",
        "merge3"
      ],
      "execution_count": 85,
      "outputs": [
        {
          "output_type": "execute_result",
          "data": {
            "text/html": [
              "<div>\n",
              "<style scoped>\n",
              "    .dataframe tbody tr th:only-of-type {\n",
              "        vertical-align: middle;\n",
              "    }\n",
              "\n",
              "    .dataframe tbody tr th {\n",
              "        vertical-align: top;\n",
              "    }\n",
              "\n",
              "    .dataframe thead th {\n",
              "        text-align: right;\n",
              "    }\n",
              "</style>\n",
              "<table border=\"1\" class=\"dataframe\">\n",
              "  <thead>\n",
              "    <tr style=\"text-align: right;\">\n",
              "      <th></th>\n",
              "      <th>Country</th>\n",
              "      <th>airline</th>\n",
              "      <th>month</th>\n",
              "      <th>covid_negativeCertificate</th>\n",
              "    </tr>\n",
              "  </thead>\n",
              "  <tbody>\n",
              "    <tr>\n",
              "      <th>0</th>\n",
              "      <td>Bangladesh</td>\n",
              "      <td>7</td>\n",
              "      <td>Jun</td>\n",
              "      <td>Required</td>\n",
              "    </tr>\n",
              "    <tr>\n",
              "      <th>1</th>\n",
              "      <td>Barbados</td>\n",
              "      <td>3</td>\n",
              "      <td>Jun</td>\n",
              "      <td>Required</td>\n",
              "    </tr>\n",
              "    <tr>\n",
              "      <th>2</th>\n",
              "      <td>Bolivia</td>\n",
              "      <td>1</td>\n",
              "      <td>Jun</td>\n",
              "      <td>Not Required</td>\n",
              "    </tr>\n",
              "    <tr>\n",
              "      <th>3</th>\n",
              "      <td>Bosnia and Herzegovina</td>\n",
              "      <td>1</td>\n",
              "      <td>Jun</td>\n",
              "      <td>Not Required</td>\n",
              "    </tr>\n",
              "    <tr>\n",
              "      <th>4</th>\n",
              "      <td>Botswana</td>\n",
              "      <td>1</td>\n",
              "      <td>Jun</td>\n",
              "      <td>Not Required</td>\n",
              "    </tr>\n",
              "    <tr>\n",
              "      <th>...</th>\n",
              "      <td>...</td>\n",
              "      <td>...</td>\n",
              "      <td>...</td>\n",
              "      <td>...</td>\n",
              "    </tr>\n",
              "    <tr>\n",
              "      <th>100</th>\n",
              "      <td>Vanuatu</td>\n",
              "      <td>1</td>\n",
              "      <td>Sep</td>\n",
              "      <td>Not Required</td>\n",
              "    </tr>\n",
              "    <tr>\n",
              "      <th>101</th>\n",
              "      <td>Venezuela</td>\n",
              "      <td>1</td>\n",
              "      <td>Sep</td>\n",
              "      <td>Not Required</td>\n",
              "    </tr>\n",
              "    <tr>\n",
              "      <th>102</th>\n",
              "      <td>Viet Nam</td>\n",
              "      <td>8</td>\n",
              "      <td>Sep</td>\n",
              "      <td>Not Required</td>\n",
              "    </tr>\n",
              "    <tr>\n",
              "      <th>103</th>\n",
              "      <td>Zambia</td>\n",
              "      <td>2</td>\n",
              "      <td>Sep</td>\n",
              "      <td>Not Required</td>\n",
              "    </tr>\n",
              "    <tr>\n",
              "      <th>104</th>\n",
              "      <td>Zimbabwe</td>\n",
              "      <td>1</td>\n",
              "      <td>Sep</td>\n",
              "      <td>Not Required</td>\n",
              "    </tr>\n",
              "  </tbody>\n",
              "</table>\n",
              "<p>105 rows × 4 columns</p>\n",
              "</div>"
            ],
            "text/plain": [
              "                    Country  airline month covid_negativeCertificate\n",
              "0                Bangladesh        7   Jun                  Required\n",
              "1                  Barbados        3   Jun                  Required\n",
              "2                   Bolivia        1   Jun              Not Required\n",
              "3    Bosnia and Herzegovina        1   Jun              Not Required\n",
              "4                  Botswana        1   Jun              Not Required\n",
              "..                      ...      ...   ...                       ...\n",
              "100                 Vanuatu        1   Sep              Not Required\n",
              "101               Venezuela        1   Sep              Not Required\n",
              "102                Viet Nam        8   Sep              Not Required\n",
              "103                  Zambia        2   Sep              Not Required\n",
              "104                Zimbabwe        1   Sep              Not Required\n",
              "\n",
              "[105 rows x 4 columns]"
            ]
          },
          "metadata": {
            "tags": []
          },
          "execution_count": 85
        }
      ]
    },
    {
      "cell_type": "code",
      "metadata": {
        "id": "Bv6FEdAw5L0B",
        "colab_type": "code",
        "colab": {}
      },
      "source": [
        ""
      ],
      "execution_count": 85,
      "outputs": []
    },
    {
      "cell_type": "code",
      "metadata": {
        "id": "5xzcHc3Znd60",
        "colab_type": "code",
        "colab": {
          "base_uri": "https://localhost:8080/",
          "height": 34
        },
        "outputId": "dda0a3f6-aeba-4dfd-e12b-25bd779c7aa0"
      },
      "source": [
        "merge3.columns"
      ],
      "execution_count": 86,
      "outputs": [
        {
          "output_type": "execute_result",
          "data": {
            "text/plain": [
              "Index(['Country', 'airline', 'month', 'covid_negativeCertificate'], dtype='object')"
            ]
          },
          "metadata": {
            "tags": []
          },
          "execution_count": 86
        }
      ]
    },
    {
      "cell_type": "code",
      "metadata": {
        "id": "9Oao7LdVqwZS",
        "colab_type": "code",
        "colab": {
          "base_uri": "https://localhost:8080/",
          "height": 694
        },
        "outputId": "49bacb8a-fa85-49c2-de50-37b310756f9d"
      },
      "source": [
        "\n",
        "\n",
        "plt.figure(figsize=(13,10), dpi= 80)\n",
        "group_col = merge3['covid_negativeCertificate']\n",
        "#order_of_bars = merge3.unique()[::-1]\n",
        "colors = [plt.cm.Spectral(i/float(len(merge3['covid_negativeCertificate'].unique())-1)) for i in range(len(merge3['covid_negativeCertificate'].unique()))]\n",
        "\n",
        "for c, group in zip(colors, merge3['covid_negativeCertificate'].unique()):\n",
        "    sns.barplot(x='airline', y='Country', data=merge3.loc[merge3['covid_negativeCertificate']==group, :],  color=c, label=group)\n",
        "\n",
        "# Decorations    \n",
        "plt.xlabel(\"Airline Count\")\n",
        "plt.ylabel(\"COuntry\")\n",
        "plt.yticks(fontsize=12)\n",
        "plt.title(\"Stacked bar chart of the quarantine restrictions for country\", fontsize=22)\n",
        "plt.legend()\n",
        "plt.show()"
      ],
      "execution_count": 113,
      "outputs": [
        {
          "output_type": "display_data",
          "data": {
            "image/png": "[encoded data removed]",
            "text/plain": [
              "<Figure size 1040x800 with 1 Axes>"
            ]
          },
          "metadata": {
            "tags": [],
            "needs_background": "light"
          }
        }
      ]
    },
    {
      "cell_type": "code",
      "metadata": {
        "id": "AIiwcuMUzc80",
        "colab_type": "code",
        "colab": {}
      },
      "source": [
        "#citation : https://www.machinelearningplus.com/plots/top-50-matplotlib-visualizations-the-master-plots-python/"
      ],
      "execution_count": 88,
      "outputs": []
    },
    {
      "cell_type": "markdown",
      "metadata": {
        "id": "Squdteoyp3d0",
        "colab_type": "text"
      },
      "source": [
        ""
      ]
    },
    {
      "cell_type": "code",
      "metadata": {
        "id": "abSZGYLR0dY3",
        "colab_type": "code",
        "colab": {}
      },
      "source": [
        ""
      ],
      "execution_count": 88,
      "outputs": []
    },
    {
      "cell_type": "code",
      "metadata": {
        "id": "A1xIlush0gmN",
        "colab_type": "code",
        "colab": {}
      },
      "source": [
        ""
      ],
      "execution_count": 88,
      "outputs": []
    }
  ]
}